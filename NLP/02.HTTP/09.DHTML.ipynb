{
 "cells": [
  {
   "cell_type": "code",
   "execution_count": 5,
   "metadata": {},
   "outputs": [
    {
     "name": "stdout",
     "output_type": "stream",
     "text": [
      "Name: lxml\n",
      "Version: 4.3.2\n",
      "Summary: Powerful and Pythonic XML processing library combining libxml2/libxslt with the ElementTree API.\n",
      "Home-page: http://lxml.de/\n",
      "Author: lxml dev team\n",
      "Author-email: lxml-dev@lxml.de\n",
      "License: BSD\n",
      "Location: c:\\users\\user\\anaconda3\\lib\\site-packages\n",
      "Requires: \n",
      "Required-by: \n"
     ]
    }
   ],
   "source": [
    "!pip show lxml"
   ]
  },
  {
   "cell_type": "code",
   "execution_count": 6,
   "metadata": {},
   "outputs": [],
   "source": [
    "import requests\n",
    "# 200 => OK\n",
    "# 400 => My Fault\n",
    "# 500 => You Fault => Traffic 과도하게 증가\n",
    "header={\"User-Agent\":\"Mozilla/5.0 (Windows NT 10.0; WOW64; Trident/7.0; rv:11.0) like Gecko\"}\n",
    "\n",
    "def download(url, params ={}, retries = 3) :\n",
    "    resp = None\n",
    "    try :\n",
    "        resp = requests.get(url, params = params, headers = header)\n",
    "        resp.raise_for_status()\n",
    "    except requests.exceptions.HTTPError as e :\n",
    "        if 500 <= e.response.status_code < 600 and retries > 0:\n",
    "            print(retries)\n",
    "            resp = download(url, params, retries - 1)\n",
    "        else :\n",
    "            print(e.response.status_code)\n",
    "            print(e.response.reason)\n",
    "            print(e.response.headers)\n",
    "    \n",
    "    return resp"
   ]
  },
  {
   "cell_type": "code",
   "execution_count": 59,
   "metadata": {},
   "outputs": [
    {
     "data": {
      "text/plain": [
       "{'records': [{'pretty_link': '<div><a href=\"/places/default/view/North-Korea-165\"><img src=\"/places/static/images/flags/kp.png\" /> North Korea</a></div>',\n",
       "   'country': 'North Korea',\n",
       "   'id': 4153629},\n",
       "  {'pretty_link': '<div><a href=\"/places/default/view/South-Korea-211\"><img src=\"/places/static/images/flags/kr.png\" /> South Korea</a></div>',\n",
       "   'country': 'South Korea',\n",
       "   'id': 4153675}],\n",
       " 'num_pages': 1,\n",
       " 'error': ''}"
      ]
     },
     "execution_count": 59,
     "metadata": {},
     "output_type": "execute_result"
    }
   ],
   "source": [
    "#url = \"http://example.webscraping.com/places/default/search\"\n",
    "url = \"http://example.webscraping.com/places/ajax/search.json\"\n",
    "params = {\n",
    "    \"search_term\":\"korea\",\n",
    "    \"page_size\":10,\n",
    "    \"page\":0\n",
    "         }\n",
    "\n",
    "params[\"search_term\"] = \"korea\"\n",
    "\n",
    "html = download(url, params)\n",
    "html.json()"
   ]
  },
  {
   "cell_type": "code",
   "execution_count": 73,
   "metadata": {},
   "outputs": [
    {
     "name": "stdout",
     "output_type": "stream",
     "text": [
      "<div><a href=\"/places/default/view/North-Korea-165\"><img src=\"/places/static/images/flags/kp.png\" /> North Korea</a></div>\n",
      "['/places/default/view/North-Korea-165']\n",
      "<div><a href=\"/places/default/view/South-Korea-211\"><img src=\"/places/static/images/flags/kr.png\" /> South Korea</a></div>\n",
      "['/places/default/view/South-Korea-211']\n"
     ]
    }
   ],
   "source": [
    "from bs4 import BeautifulSoup\n",
    "\n",
    "for _ in html.json()[\"records\"] :\n",
    "    print(_[\"pretty_link\"])\n",
    "    \n",
    "    dom = BeautifulSoup(_[\"pretty_link\"], \"lxml\")\n",
    "    print([ _[\"href\"] for _ in dom.find_all(\"a\")])\n",
    "    #break"
   ]
  },
  {
   "cell_type": "code",
   "execution_count": 80,
   "metadata": {},
   "outputs": [
    {
     "data": {
      "text/plain": [
       "'<div><a href=\"/places/default/view/North-Korea-165\"><img src=\"/places/static/images/flags/kp.png\" /> North Korea</a></div>'"
      ]
     },
     "execution_count": 80,
     "metadata": {},
     "output_type": "execute_result"
    }
   ],
   "source": [
    "import re\n",
    "\n",
    "text = html.json()[\"records\"][0][\"pretty_link\"]\n",
    "\n",
    "text\n",
    "\n",
    "group = re.findall(\"<a href=\"/places/default/view/North-Korea-165\">)\"\n",
    "                   \n",
    "requests.compat.urljoin(url, group[0][0])\n",
    "requests.compat.urljoin(urlgroup[0][2], group[0][2])            \n",
    "\n",
    "                   \n",
    "           "
   ]
  },
  {
   "cell_type": "code",
   "execution_count": 79,
   "metadata": {},
   "outputs": [
    {
     "name": "stdout",
     "output_type": "stream",
     "text": [
      "Requirement already satisfied: selenium in c:\\users\\user\\anaconda3\\lib\\site-packages (3.141.0)\n",
      "Requirement already satisfied: urllib3 in c:\\users\\user\\anaconda3\\lib\\site-packages (from selenium) (1.24.1)\n"
     ]
    }
   ],
   "source": [
    "#로그인 Naver\n",
    "\n",
    "!pip install selenium"
   ]
  },
  {
   "cell_type": "code",
   "execution_count": 41,
   "metadata": {},
   "outputs": [
    {
     "name": "stdout",
     "output_type": "stream",
     "text": [
      "\n",
      "Checking for win32 chromedriver:74.0.3729.6 in cache\n",
      "Driver found in C:\\Users\\USER\\.wdm\\chromedriver\\74.0.3729.6\\win32/chromedriver.exe\n",
      "\n",
      "Checking for win32 chromedriver:74.0.3729.6 in cache\n",
      "Driver found in C:\\Users\\USER\\.wdm\\chromedriver\\74.0.3729.6\\win32/chromedriver.exe\n",
      "C:\\Users\\USER\\.wdm\\chromedriver\\74.0.3729.6\\win32\\chromedriver.exe\n"
     ]
    },
    {
     "data": {
      "text/plain": [
       "<selenium.webdriver.chrome.webdriver.WebDriver (session=\"31f21fb8459fab6530e3c46e59b1b33e\")>"
      ]
     },
     "execution_count": 41,
     "metadata": {},
     "output_type": "execute_result"
    }
   ],
   "source": [
    "from selenium import webdriver\n",
    "from webdriver_manager.chrome import ChromeDriverManager\n",
    "\n",
    "ipy = ChromeDriverManager().install() #\"경로\"\n",
    "\n",
    "# chrome.exe 실행 X, 경로만 필요\n",
    "#webdriver.Chrome()\n",
    "print(ChromeDriverManager().install())\n",
    "webdriver.Chrome(ipy)"
   ]
  },
  {
   "cell_type": "code",
   "execution_count": 34,
   "metadata": {},
   "outputs": [
    {
     "name": "stdout",
     "output_type": "stream",
     "text": [
      "Requirement already satisfied: webdriver-manager in c:\\users\\user\\anaconda3\\lib\\site-packages (1.7)\n",
      "Requirement already satisfied: crayons in c:\\users\\user\\anaconda3\\lib\\site-packages (from webdriver-manager) (0.2.0)\n",
      "Requirement already satisfied: requests in c:\\users\\user\\anaconda3\\lib\\site-packages (from webdriver-manager) (2.21.0)\n",
      "Requirement already satisfied: configparser in c:\\users\\user\\anaconda3\\lib\\site-packages (from webdriver-manager) (3.7.4)\n",
      "Requirement already satisfied: colorama in c:\\users\\user\\anaconda3\\lib\\site-packages (from crayons->webdriver-manager) (0.4.1)\n",
      "Requirement already satisfied: certifi>=2017.4.17 in c:\\users\\user\\anaconda3\\lib\\site-packages (from requests->webdriver-manager) (2019.3.9)\n",
      "Requirement already satisfied: idna<2.9,>=2.5 in c:\\users\\user\\anaconda3\\lib\\site-packages (from requests->webdriver-manager) (2.8)\n",
      "Requirement already satisfied: urllib3<1.25,>=1.21.1 in c:\\users\\user\\anaconda3\\lib\\site-packages (from requests->webdriver-manager) (1.24.1)\n",
      "Requirement already satisfied: chardet<3.1.0,>=3.0.2 in c:\\users\\user\\anaconda3\\lib\\site-packages (from requests->webdriver-manager) (3.0.4)\n"
     ]
    }
   ],
   "source": [
    "!pip install webdriver-manager"
   ]
  },
  {
   "cell_type": "code",
   "execution_count": 129,
   "metadata": {},
   "outputs": [
    {
     "name": "stdout",
     "output_type": "stream",
     "text": [
      "\n",
      "Checking for win32 chromedriver:74.0.3729.6 in cache\n",
      "Driver found in C:\\Users\\USER\\.wdm\\chromedriver\\74.0.3729.6\\win32/chromedriver.exe\n"
     ]
    }
   ],
   "source": [
    "from selenium import webdriver\n",
    "\n",
    "browser = webdriver.Chrome(ChromeDriverManager().install())\n",
    "url = \"http://example.webscraping.com/places/default/search\"\n",
    "browser.get(url)"
   ]
  },
  {
   "cell_type": "code",
   "execution_count": 130,
   "metadata": {},
   "outputs": [],
   "source": [
    "browser.find_element_by_id(\"search_term\").clear()\n",
    "browser.find_element_by_id(\"search_term\").send_keys(\"korea\")\n",
    "# / -> 자식\n",
    "# // -> 자손\n",
    "# . -> 현재위치\n",
    "# [속성] => [@키:밸류]\n",
    "#browser.find_element_by_xpath(\"//input[@id='search_term']\").send_keys(\"korea\")\n",
    "#browser.find_element_by_id(\"search\").click()\n"
   ]
  },
  {
   "cell_type": "code",
   "execution_count": 234,
   "metadata": {},
   "outputs": [],
   "source": [
    "dom = BeautifulSoup(browser.page_source, \"lxml\")"
   ]
  },
  {
   "cell_type": "code",
   "execution_count": 145,
   "metadata": {},
   "outputs": [],
   "source": [
    "#browser.page_source\n",
    "for _ in dom.select(\"#results a\") :\n",
    "    print(_.text.strip())\n",
    "    print(_[\"href\"])"
   ]
  },
  {
   "cell_type": "code",
   "execution_count": 235,
   "metadata": {},
   "outputs": [],
   "source": [
    "for _ in browser.find_elements_by_xpath(\"//div[@id='results']//a\") :\n",
    "    print(_.tag_name)\n",
    "    print(_.text)\n",
    "    print(_.get_attribute(\"href\"))\n",
    "# webdriver.remote.webelement.WebElement"
   ]
  },
  {
   "cell_type": "code",
   "execution_count": 241,
   "metadata": {},
   "outputs": [
    {
     "name": "stdout",
     "output_type": "stream",
     "text": [
      "\n",
      "Checking for win32 chromedriver:74.0.3729.6 in cache\n",
      "Driver found in C:\\Users\\USER\\.wdm\\chromedriver\\74.0.3729.6\\win32/chromedriver.exe\n",
      "a\n",
      "North Korea\n",
      "http://example.webscraping.com/places/default/view/North-Korea-165\n",
      "a\n",
      "South Korea\n",
      "http://example.webscraping.com/places/default/view/South-Korea-211\n"
     ]
    }
   ],
   "source": [
    "## 통합본\n",
    "\n",
    "from selenium import webdriver\n",
    "from selenium.common.exceptions import NoSuchElementException\n",
    "\n",
    "browser = webdriver.Chrome(ChromeDriverManager().install())\n",
    "url = \"http://example.webscraping.com/places/default/search\"\n",
    "browser.get(url)\n",
    "\n",
    "browser.find_element_by_id(\"search_term\").clear()\n",
    "browser.find_element_by_id(\"search_term\").send_keys(\"korea\")\n",
    "browser.find_element_by_id(\"search\").click()\n",
    "\n",
    "##AJAX -> DATA요청 -> 브라우저가 받아서 -> DOM업데이트 -> 바탕화면(랜더링)\n",
    "\n",
    "webdriver.support.ui.WebDriverWait(browser, 10, 0.5, NoSuchElementException )\n",
    "wait.until(lambda x:x.find_element_by_xpath(\"//div[@id='results']//a\"))\n",
    "#browser.implicitly_wait(10)  절대시간\n",
    "\n",
    "for _ in dom.select(\"#results a\") :\n",
    "    print(_.text.strip())\n",
    "    print(_[\"href\"])\n",
    "\n",
    "for _ in browser.find_elements_by_xpath(\"//div[@id='results']//a\") :\n",
    "    print(_.tag_name)\n",
    "    print(_.text)\n",
    "    print(_.get_attribute(\"href\"))\n",
    "# webdriver.remote.webelement.WebElement"
   ]
  },
  {
   "cell_type": "code",
   "execution_count": 164,
   "metadata": {},
   "outputs": [
    {
     "name": "stdout",
     "output_type": "stream",
     "text": [
      "Overwriting ../account.json\n"
     ]
    }
   ],
   "source": [
    "%%writefile ../account.json\n",
    "{\n",
    "    \"id\":\"본인아이디\",\n",
    "    \"pw\":\"본인페스워드\"\n",
    "}"
   ]
  },
  {
   "cell_type": "code",
   "execution_count": 176,
   "metadata": {},
   "outputs": [
    {
     "data": {
      "text/plain": [
       "'anabasis'"
      ]
     },
     "execution_count": 176,
     "metadata": {},
     "output_type": "execute_result"
    }
   ],
   "source": [
    "import json\n",
    "\n",
    "with open(\"../account.json\",\"r\", encoding=\"utf-8\") as fp :\n",
    "    account = json.load(fp)\n",
    "\n",
    "account[\"id\"]"
   ]
  },
  {
   "cell_type": "code",
   "execution_count": 177,
   "metadata": {},
   "outputs": [],
   "source": [
    "url = \"https://nid.naver.com/nidlogin.login?url=http%3A%2F%2Fmail.naver.com%2F\"\n",
    "browser.get(url)"
   ]
  },
  {
   "cell_type": "code",
   "execution_count": 178,
   "metadata": {},
   "outputs": [],
   "source": [
    "browser.find_element_by_xpath(\"//input[@id='id']\").clear()\n",
    "browser.find_element_by_id(\"pw\").clear()\n",
    "browser.find_element_by_name(\"id\").send_keys(account[\"id\"])\n",
    "browser.find_element_by_css_selector(\"#pw\").send_keys(account[\"pw\"])\n"
   ]
  },
  {
   "cell_type": "code",
   "execution_count": 179,
   "metadata": {},
   "outputs": [],
   "source": [
    "browser.find_element_by_css_selector(\"input.btn_global\").click()"
   ]
  },
  {
   "cell_type": "code",
   "execution_count": 182,
   "metadata": {},
   "outputs": [],
   "source": [
    "for _ in browser.find_elements_by_css_selector(\"strong.mail_title\") :\n",
    "    print(_.text)"
   ]
  },
  {
   "cell_type": "code",
   "execution_count": 186,
   "metadata": {},
   "outputs": [],
   "source": [
    "dom = BeautifulSoup(browser.page_source, \"lxml\")\n",
    "for _ in dom.select(\"strong.mail_title\") :\n",
    "    print(_.text)"
   ]
  },
  {
   "cell_type": "code",
   "execution_count": null,
   "metadata": {},
   "outputs": [],
   "source": [
    "## 스펨메일가져오기\n",
    "browser.find_element_by_css_selector(\".item_wrap.bu6\").click()"
   ]
  },
  {
   "cell_type": "code",
   "execution_count": 187,
   "metadata": {},
   "outputs": [
    {
     "data": {
      "text/plain": [
       "'<html lang=\"ko\"><head>\\n\\t<meta charset=\"UTF-8\">\\n\\t<meta http-equiv=\"X-UA-Compatible\" content=\"IE=edge\">\\n\\t<meta name=\"viewport\" content=\"width=device-width, initial-scale=1.0, maximum-scale=1.0, minimum-scale=1.0, user-scalable=no\">\\n\\t<title>네이버 : 로그인</title>\\n\\t<link rel=\"stylesheet\" type=\"text/css\" href=\"/login/css/global/desktop/w_20181218.css?dt=20181218\">\\n</head>\\n<body class=\"chrome\">\\n<div id=\"wrap\">\\n    <div id=\"u_skip\">\\n        <a href=\"#content\" onclick=\"document.getElementById(\\'content\\').tabIndex=-1;document.getElementById(\\'content\\').focus();return false;\"><span>본문으로 바로가기</span></a>\\n    </div>\\n\\t<!-- header -->\\n\\t<div id=\"header\">\\n\\t\\t<h1><a href=\"http://www.naver.com\" class=\"sp h_logo\" onclick=\"nclks(\\'log.naver\\',this,event)\"><span class=\"blind\">NAVER</span></a></h1>\\n\\t\\t<div class=\"lang\">\\n\\t\\t\\t<select id=\"locale_switch\" name=\"locale_switch\" title=\"언어선택\" class=\"sel\" onchange=\"switchlocale();nclks_select(this.value,\\'\\',{\\'ko_KR\\':\\'log.lankr\\',\\'en_US\\':\\'log.lanen\\',\\'zh-Hans_CN\\':\\'log.lancn\\',\\'zh-Hant_TW\\':\\'log.lantw\\'},this,event);\">\\n\\t\\t\\t\\t<option value=\"ko_KR\">한국어</option>\\n\\t\\t\\t\\t<option value=\"en_US\">English</option>\\n\\t\\t\\t\\t<option value=\"zh-Hans_CN\">中文(简体)</option>\\n\\t\\t\\t\\t<option value=\"zh-Hant_TW\">中文(台灣)</option>\\n\\t\\t\\t</select>\\n\\t\\t</div>\\n\\t</div>\\n\\t<!-- //header -->\\n\\t<!-- container -->\\n\\t<div id=\"container\">\\n\\t\\t<!-- content -->\\n\\t\\t<div id=\"content\">\\n\\t\\t\\t<div class=\"title\" aria-live=\"assertive\">\\n\\t\\t\\t\\t<p></p>\\n\\t\\t\\t</div>\\n\\t\\t\\t\\t<form id=\"frmNIDLogin\" name=\"frmNIDLogin\" target=\"_top\" autocomplete=\"off\" action=\"https://nid.naver.com/nidlogin.login\" method=\"POST\" onsubmit=\"return confirmSplitSubmit();\">\\n\\t\\t\\t\\t<input type=\"hidden\" id=\"localechange\" name=\"localechange\" value=\"\">\\n\\t\\t\\t\\t<input type=\"hidden\" name=\"encpw\" id=\"encpw\" value=\"\">\\n<input type=\"hidden\" name=\"enctp\" id=\"enctp\" value=\"1\">\\n<input type=\"hidden\" name=\"svctype\" id=\"svctype\" value=\"1\">\\n<input type=\"hidden\" name=\"smart_LEVEL\" id=\"smart_LEVEL\" value=\"1\">\\n<input type=\"hidden\" name=\"bvsd\" id=\"bvsd\" value=\"\">\\n<input type=\"hidden\" name=\"encnm\" id=\"encnm\" value=\"\">\\n<input type=\"hidden\" name=\"locale\" id=\"locale\" value=\"ko_KR\">\\n<input type=\"hidden\" name=\"url\" id=\"url\" value=\"http://mail.naver.com/\">\\n\\n\\t\\t\\t\\t<fieldset class=\"login_form\">\\n\\t\\t\\t\\t\\t<legend class=\"blind\">로그인</legend>\\n\\t\\t\\t\\t\\t<div class=\"id_area\">\\n\\t\\t\\t\\t\\t\\t<div class=\"input_row focus\" id=\"id_area\">\\n\\t\\t\\t\\t\\t\\t\\t<span class=\"input_box\">\\n\\t\\t\\t\\t\\t\\t\\t\\t<label for=\"id\" id=\"label_id_area\" class=\"lbl\" style=\"display: none;\">아이디</label>\\n\\t\\t\\t\\t\\t\\t\\t\\t<input type=\"text\" id=\"id\" name=\"id\" accesskey=\"L\" placeholder=\"아이디\" class=\"int\" maxlength=\"41\" value=\"\">\\n\\t\\t\\t\\t\\t\\t\\t</span>\\n\\t\\t\\t\\t\\t\\t\\t<button type=\"button\" disabled=\"\" title=\"delete\" id=\"id_clear\" class=\"wrg\">삭제</button>\\n\\t\\t\\t\\t\\t\\t</div>\\n\\t\\t\\t\\t\\t\\t<div class=\"error\" id=\"err_empty_id\" style=\"display:none\" aria-live=\"assertive\"></div>\\n\\t\\t\\t\\t\\t</div>\\n\\t\\t\\t\\t\\t<div class=\"pw_area\">\\n\\t\\t\\t\\t\\t\\t<div class=\"input_row\" id=\"pw_area\">\\n\\t\\t\\t\\t\\t\\t\\t<span class=\"input_box\">\\n\\t\\t\\t\\t\\t\\t\\t\\t<label for=\"pw\" id=\"label_pw_area\" class=\"lbl\">비밀번호</label>\\n\\t\\t\\t\\t\\t\\t\\t\\t<input type=\"password\" id=\"pw\" name=\"pw\" placeholder=\"비밀번호\" class=\"int\" maxlength=\"16\" onkeypress=\"capslockevt(event);getKeysv2();\" onkeyup=\"checkShiftUp(event);\" onkeydown=\"checkShiftDown(event);\">\\n\\t\\t\\t\\t\\t\\t\\t</span>\\n\\t\\t\\t\\t\\t\\t\\t<button type=\"button\" disabled=\"\" title=\"delete\" id=\"pw_clear\" class=\"wrg\">삭제</button>\\n\\t\\t\\t\\t\\t\\t\\t<div class=\"ly_v2\" id=\"err_capslock\" style=\"display:none;\">\\n\\t\\t\\t\\t\\t\\t\\t\\t<div class=\"ly_box\">\\n\\t\\t\\t\\t\\t\\t\\t\\t\\t<p><strong>Caps Lock</strong>이 켜져 있습니다.</p>\\n\\t\\t\\t\\t\\t\\t\\t\\t</div>\\n\\t\\t\\t\\t\\t\\t\\t\\t<span class=\"sp ly_point\"></span>\\n\\t\\t\\t\\t\\t\\t\\t</div>\\n\\t\\t\\t\\t\\t\\t</div>\\n\\t\\t\\t\\t\\t\\t<div class=\"error\" id=\"err_empty_pw\" style=\"display:none\" aria-live=\"assertive\"></div>\\n\\t\\t\\t\\t\\t</div>\\n\\t\\t\\t\\t\\t<input type=\"submit\" title=\"로그인\" alt=\"로그인\" value=\"로그인\" class=\"btn_global\" onclick=\"nclks(\\'log.login\\',this,event)\">\\n\\t\\t\\t\\t\\t<div class=\"check_info\">\\n\\t\\t\\t\\t\\t\\t<div class=\"login_check\">\\n\\t\\t\\t\\t\\t\\t\\t<span class=\"login_check_box\">\\n\\t\\t\\t\\t\\t\\t\\t\\t<input type=\"checkbox\" id=\"login_chk\" name=\"nvlong\" class=\"\" value=\"off\" onchange=\"savedLong(this);nclks_chk(\\'login_chk\\', \\'log.keepon\\', \\'log.keepoff\\',this,event)\">\\n\\t\\t\\t\\t\\t\\t\\t\\t<label for=\"login_chk\" id=\"label_login_chk\" class=\"sp \">로그인 상태 유지</label>\\n\\t\\t\\t\\t\\t\\t\\t</span>\\n\\t\\t\\t\\t\\t\\t\\t<div class=\"ly_v2\" id=\"persist_usage\" style=\"display:none;\">\\n\\t\\t\\t\\t\\t\\t\\t\\t<div class=\"ly_box\">\\n\\t\\t\\t\\t\\t\\t\\t\\t\\t<p>개인정보 보호를 위해 <strong>개인 PC에서만 사용하세요.</strong>&nbsp;&nbsp; &nbsp;&nbsp;<a href=\"https://help.naver.com/support/contents/contents.nhn?serviceNo=532&amp;categoryNo=1523\" target=\"_blank\" class=\"sp btn_check_help\">도움말보기</a></p>\\n\\t\\t\\t\\t\\t\\t\\t\\t</div>\\n\\t\\t\\t\\t\\t\\t\\t\\t<span class=\"sp ly_point\"></span>\\n\\t\\t\\t\\t\\t\\t\\t</div>\\n\\t\\t\\t\\t\\t\\t</div>\\n\\t\\t\\t\\t\\t\\t<div class=\"pc_check\">\\n\\t\\t\\t\\t\\t\\t\\t<span class=\"ip_check\">\\n\\t\\t\\t\\t\\t\\t\\t\\t<a href=\"/login/ext/help_ip3.html\" target=\"_blank\" onclick=\"window.open(this.href, \\'IPGUIDE\\', \\'titlebar=1, resizable=1, scrollbars=yes, width=537, height=750\\'); return false;\" title=\"\">IP보안</a>\\n\\t\\t\\t\\t\\t\\t\\t\\t<span class=\"ip_ch\">\\n\\t\\t\\t\\t\\t\\t\\t\\t\\t<input type=\"checkbox\" id=\"ip_on\" value=\"off\" onchange=\"ipCheck(this,event);nclks_chk(\\'ip_on\\', \\'log.iponset\\', \\'log.ipoffset\\',this,event)\" class=\"\">\\n\\t\\t\\t\\t\\t\\t\\t\\t\\t<label for=\"ip_on\" id=\"label_ip_on\" class=\"sp on\"><span class=\"blind\">on</span></label>\\n\\t\\t\\t\\t\\t\\t\\t\\t</span>\\n\\t\\t\\t\\t\\t\\t\\t</span>\\n\\t\\t\\t\\t\\t\\t\\t<span class=\"bar\">|</span>\\n\\t\\t\\t\\t\\t\\t\\t<div class=\"dis_di\">\\n\\t\\t\\t\\t\\t\\t\\t\\t<a href=\"#\" onclick=\"onetime(); nclks(\\'log.otn\\',this,event); return false;\" title=\"일회용 로그인\">일회용 로그인</a><a href=\"javascript:viewOnetime();\" onclick=\"nclks(\\'log.otnhelp\\',this,event)\" title=\"도움말\" class=\"btn_help_cover\"><span class=\"sp btn_help\"></span><span class=\"blind\">도움말</span></a>\\n\\t\\t\\t\\t\\t\\t\\t\\t<div class=\"ly\" id=\"onetime_usage\" style=\"display:none;\" onclick=\"javascript:viewOnetime()\">\\n\\t\\t\\t\\t\\t\\t\\t\\t\\t<div class=\"ly_box\">\\n\\t\\t\\t\\t\\t\\t\\t\\t\\t\\t<p>네이버앱에서 생성된 일회용 로그인 번호를 입력하면, 앱에 로그인된 계정으로 PC에서 로그인할 수 있어요. 아이디/비밀번호를 입력하지 않아 간편하고 더욱 안전합니다.</p>\\n\\t\\t\\t\\t\\t\\t\\t\\t\\t</div>\\n\\t\\t\\t\\t\\t\\t\\t\\t\\t<span class=\"sp ly_point\"></span>\\n\\t\\t\\t\\t\\t\\t\\t\\t</div>\\n\\t\\t\\t\\t\\t\\t\\t</div>\\n\\t\\t\\t\\t\\t\\t</div>\\n\\t\\t\\t\\t\\t</div>\\n\\t\\t\\t\\t</fieldset>\\n\\t\\t\\t</form>\\n\\t\\t\\t<div class=\"position_a\">\\n\\t\\t\\t\\t<div class=\"find_info\">\\n\\t\\t\\t\\t\\t<a target=\"_blank\" id=\"idinquiry\" href=\"https://nid.naver.com/user/help.nhn?todo=idinquiry\">아이디 찾기</a> <span class=\"bar\" aria-hidden=\"true\">|</span> <a target=\"_blank\" id=\"pwinquiry\" href=\"https://nid.naver.com/nidreminder.form\">비밀번호 찾기</a> <span class=\"bar\" aria-hidden=\"true\">|</span> <a target=\"_blank\" id=\"join\" href=\"https://nid.naver.com/user/join.html?lang=ko_KR\">회원가입</a>\\n\\t\\t\\t\\t</div>\\n\\t\\t\\t</div>\\n\\t\\t\\t<div class=\"phishing_banner toolbar\">\\n\\t\\t\\t\\t<div class=\"sp\">\\n\\t\\t\\t\\t\\t<span class=\"blind\">\\n\\t\\t\\t\\t\\t<strong>지금 로그인 하는 사이트가 어디인지 알고 계신가요?</strong>\\n\\t\\t\\t\\t\\t고객님의 소중한 정보를 위해 로그인 전에 <em>주소표시줄의 naver corp(kr) URL(https://nid.naver.com)</em>을 확인해 주세요.\\n\\t\\t\\t\\t\\t</span>\\n\\t\\t\\t\\t</div>\\n\\t\\t\\t</div>\\n\\t\\t</div>\\n\\t\\t<!-- //content -->\\n\\t</div>\\n\\t<!-- //container -->\\n\\t<!-- footer -->\\n\\t<div id=\"footer\">\\n\\t\\t<ul>\\n\\t\\t<li><a target=\"_blank\" href=\"http://www.naver.com/rules/service.html\" onclick=\"nclks(\\'fot.agreement\\',this,event)\">이용약관</a></li>\\n\\t\\t<li><strong><a target=\"_blank\" href=\"http://www.naver.com/rules/privacy.html\" onclick=\"nclks(\\'fot.privacy\\',this,event)\">개인정보처리방침</a></strong></li>\\n\\t\\t<li><a target=\"_blank\" href=\"http://www.naver.com/rules/disclaimer.html\" onclick=\"nclks(\\'fot.disclaimer\\',this,event)\">책임의 한계와 법적고지</a></li>\\n\\t\\t<li><a target=\"_blank\" href=\"https://help.naver.com/support/service/main.nhn?serviceNo=532\" onclick=\"nclks(\\'fot.help\\',this,event)\">회원정보 고객센터</a></li>\\n\\t\\t</ul>\\n\\t\\t<address><em><a target=\"_blank\" href=\"http://www.navercorp.com\" class=\"logo\" onclick=\"nclks(\\'fot.naver\\',this,event)\"><span class=\"blind\">naver</span></a></em><em class=\"copy\">Copyright</em> <em class=\"u_cri\">©</em> <a target=\"_blank\" href=\"http://www.navercorp.com\" class=\"u_cra\" onclick=\"nclks(\\'fot.navercorp\\',this,event)\">NAVER Corp.</a> <span class=\"all_r\">All Rights Reserved.</span></address>\\t\\n\\t</div>\\n\\t<!-- //footer -->\\n</div>\\n<script type=\"text/javascript\" src=\"/login/js/common.all.js?141216\"> </script>\\n<script type=\"text/javascript\">\\nvar session_keys = \"\";\\nvar pc_keyboard_close=\"<span class=\\\\\"sp\\\\\">PC 키보드 닫기</span>\";\\nvar pc_keyboard_open=\"<span class=\\\\\"sp\\\\\">PC 키보드 보기</span>\";\\nvar view_char=\"한글 보기\";\\nvar view_symbol=\"특수기호 보기\";\\n\\naddInputEvent(\\'id\\', \\'id_area\\');\\naddInputEvent(\\'pw\\', \\'pw_area\\');\\ninitSmartLevel();\\nvar login_chk = $(\\'login_chk\\');\\nif(login_chk.attachEvent) {\\n\\tlogin_chk.attachEvent(\"onchange\", function(){persist_usage();});\\n} else if (login_chk.addEventListener) {\\n\\tlogin_chk.addEventListener(\"change\", function(){persist_usage();}, false);\\n}\\nfunction persist_usage()\\n{\\n\\tvar login_chk = $(\"login_chk\");\\n\\tif (login_chk.checked==true)\\n\\t{\\n\\t\\tshow(\"persist_usage\");\\n\\t\\thide(\\'onetime_usage\\');\\n\\t\\tview_onetimeusage = false;\\n\\t}\\n\\telse\\n\\t{\\n\\t\\thide(\"persist_usage\");\\n\\t}\\n}\\nvar view_onetimeusage = false;\\nfunction viewOnetime()\\n{\\n\\tif (view_onetimeusage)\\n\\t{\\n\\t\\thide(\\'onetime_usage\\');\\n\\t\\tview_onetimeusage = false;\\n\\t}\\n\\telse\\n\\t{\\n\\t\\thide(\"persist_usage\");\\n\\t\\tshow(\\'onetime_usage\\');\\n\\t\\tview_onetimeusage = true;\\n\\t}\\n}\\ntry{\\n\\tif (navigator.appVersion.toLowerCase().indexOf(\"win\") != -1) {\\n\\t\\t$(\\'id\\').style.imeMode = \"disabled\";\\n\\t\\tdocument.msCapsLockWarningOff = true;\\n\\t}\\n}catch(e) {}\\ntry{\\n\\tif ( $(\\'id\\').value.length == 0 )\\n\\t{\\n\\t\\t$(\\'id\\').focus();\\n\\t}\\n\\telse\\n\\t{\\n\\t\\t$(\\'pw\\').focus();\\n\\t}\\n}catch (e){}\\nfunction selectItemByValue(elmnt, value){\\n\\tisSet = false;\\n\\tfor(var i=0; i < elmnt.options.length; i++)\\n\\t{\\n\\t\\tif(elmnt.options[i].value === value) {\\n\\t\\t\\telmnt.selectedIndex = i;\\n\\t\\t\\tisSet = true;\\n\\t\\t\\tbreak;\\n\\t\\t}\\n\\t}\\n\\tif (!isSet)\\n\\t\\telmnt.selectedIndex=1;\\n}\\ntry {\\nselectItemByValue(locale_switch, \\'ko_KR\\');\\n}catch (e){}\\nvar id_error_msg=\"아이디를 입력해주세요.\";\\nvar pw_error_msg=\"비밀번호를 입력해주세요.\";\\nvar inSubmitProgress = false;\\nfunction confirmSplitSubmit()\\n{\\n        if (inSubmitProgress) {\\n                return false;\\n        }\\n        inSubmitProgress = true;\\n        var id = $(\"id\");\\n        var pw = $(\"pw\");\\n        var encpw = $(\"encpw\");\\n        \\n        if(id.value == \"\") {\\n                show(\"err_empty_id\");\\n                $(\"err_empty_id\").innerHTML=id_error_msg;\\n                hide(\"err_empty_pw\");\\n                $(\"err_empty_pw\").innerHTML=\"\";\\n                hide(\"err_common_pw1\");\\n                hide(\"err_common\");\\n                id.focus();\\n                inSubmitProgress = false;\\n                return false;\\n        } else if(pw.value == \"\") {\\n                show(\"err_empty_pw\");\\n                $(\"err_empty_pw\").innerHTML=pw_error_msg;\\n                hide(\"err_empty_id\");\\n                $(\"err_empty_id\").innerHTML=\"\";\\n                hide(\"err_common_pw1\");\\n                hide(\"err_common\");\\n                pw.focus();\\n                inSubmitProgress = false;\\n                return false;\\n        }\\n        try{\\n                $(\"ls\").value = localStorage.getItem(\"nid_t\");\\n        }catch(e){}\\n        return encryptIdPwSplit();\\n}\\nfunction encryptIdPwSplit() {\\n        var id = $(\"id\");\\n        var pw = $(\"pw\");\\n        var encpw = $(\"encpw\");\\n        var rsa = new RSAKey;\\n\\n        if (keySplit(session_keys)) {\\n                rsa.setPublic(evalue, nvalue);\\n                try{\\n                        encpw.value = rsa.encrypt(\\n                                getLenChar(sessionkey) + sessionkey +\\n                                getLenChar(id.value) + id.value +\\n                                getLenChar(pw.value) + pw.value);\\n                } catch(e) {\\n                        inSubmitProgress = false;\\n                        return false;\\n                }\\n                $(\\'enctp\\').value = 1;\\n\\n                setTimeout(function() {\\n                        $(\"id\").value = \"\";\\n                        $(\"pw\").value = \"\";\\n                        $(\"bvsd\").value = \"timeout\";\\n                        $(\\'frmNIDLogin\\').submit();\\n                }, 5000);\\n                try {\\n                        if (bvsd){\\n                                bvsd.f(function(a) {\\n                                        $(\"id\").value = \"\";\\n                                        $(\"pw\").value = \"\";\\n                                        $(\"bvsd\").value = a;\\n                                        $(\\'frmNIDLogin\\').submit();\\n                                });\\n                        }\\n                } catch (e) {\\n                        $(\"id\").value = \"\";\\n                        $(\"pw\").value = \"\";\\n                        $(\"bvsd\").value = \"error1|\"+e.name+\"|\"+e.message;;\\n                        $(\\'frmNIDLogin\\').submit();\\n                }\\n        }\\n        else\\n        {\\n                getKeyByRuntimeIncludeSplit();\\n        }\\n        inSubmitProgress = false;\\n        return false;\\n}\\nfunction getKeyByRuntimeIncludeSplit() {\\n        try {\\n                var keyjs  = document.createElement(\\'script\\');\\n                keyjs.type = \\'text/javascript\\';\\n                keyjs.src = \\'/login/ext/keys_js3.nhn\\';\\n                document.getElementsByTagName(\\'head\\')[0].appendChild(keyjs);\\n        } catch (e) {\\n        }\\n}\\n</script>\\n<script type=\"text/javascript\" src=\"/login/js/bvsd.1.3.4.min.js\"></script>\\n<script type=\"text/javascript\">\\nvar porperties = {\\n\\tkeyboard: [{\\n\\t\\tid: \"id\"\\n\\t}, {\\n\\t\\tid: \"pw\",\\n\\t\\tsecureMode: true\\n\\t}],\\n\\tmodeProperties: {\\n\\t\\tmode: 4\\n\\t}\\n};\\nbvsd = new sofa.Koop(porperties);\\n\\n\\n</script>\\n<script type=\"text/javascript\" src=\"https://nid.naver.com/login/js/lcs_nclicks.js?dt=20190122\"></script>\\n<script type=\"text/javascript\"> \\nlcs_do(); \\nvar g_ssc = \"nid.login_kr\";\\nvar ccsrv = \"cc.naver.com\";\\n</script>\\n<div id=\"nv_stat\" style=\"display:none;\">20</div>\\n\\n\\n</body></html>'"
      ]
     },
     "execution_count": 187,
     "metadata": {},
     "output_type": "execute_result"
    }
   ],
   "source": [
    "browser.get(\"https://mail.naver.com\")\n",
    "browser.page_source"
   ]
  },
  {
   "cell_type": "code",
   "execution_count": 191,
   "metadata": {},
   "outputs": [],
   "source": [
    "from requests import Session\n",
    "session = Session()\n"
   ]
  },
  {
   "cell_type": "code",
   "execution_count": 194,
   "metadata": {},
   "outputs": [
    {
     "name": "stdout",
     "output_type": "stream",
     "text": [
      "nid_slevel 1\n",
      "NNB 3TB5KVUBC7KFY\n",
      "nid_enctp 1\n",
      "nid_buk 3TB5KVUBC7KFY\n"
     ]
    },
    {
     "data": {
      "text/plain": [
       "Cookie(version=0, name='nid_buk', value='3TB5KVUBC7KFY', port=None, port_specified=False, domain='', domain_specified=False, domain_initial_dot=False, path='/', path_specified=True, secure=False, expires=None, discard=True, comment=None, comment_url=None, rest={'HttpOnly': None}, rfc2109=False)"
      ]
     },
     "execution_count": 194,
     "metadata": {},
     "output_type": "execute_result"
    }
   ],
   "source": [
    "for cookie in browser.get_cookies() :\n",
    "    print(cookie[\"name\"], cookie[\"value\"])\n",
    "session.cookies.set(cookie[\"name\"], cookie[\"value\"])"
   ]
  },
  {
   "cell_type": "code",
   "execution_count": 197,
   "metadata": {},
   "outputs": [
    {
     "data": {
      "text/plain": [
       "'<!DOCTYPE html>\\n<html lang=\"ko\">\\n<head>\\n\\t<meta charset=\"UTF-8\">\\n\\t<meta http-equiv=\"X-UA-Compatible\" content=\"IE=edge\">\\n\\t<meta name=\"viewport\" content=\"width=device-width, initial-scale=1.0, maximum-scale=1.0, minimum-scale=1.0, user-scalable=no\">\\n\\t<title>네이버 : 로그인</title>\\n\\t<link rel=\"stylesheet\" type=\"text/css\" href=\"/login/css/global/desktop/w_20181218.css?dt=20181218\">\\n</head>\\n<body class=\"\">\\n<div id=\"wrap\">\\n    <div id=\"u_skip\">\\n        <a href=\"#content\" onclick=\"document.getElementById(\\'content\\').tabIndex=-1;document.getElementById(\\'content\\').focus();return false;\"><span>본문으로 바로가기</span></a>\\n    </div>\\n\\t<!-- header -->\\n\\t<div id=\"header\">\\n\\t\\t<h1><a href=\"http://www.naver.com\" class=\"sp h_logo\" onclick=\"nclks(\\'log.naver\\',this,event)\"><span class=\"blind\">NAVER</span></a></h1>\\n\\t\\t<div class=\"lang\">\\n\\t\\t\\t<select id=\"locale_switch\" name=\"locale_switch\" title=\"언어선택\" class=\"sel\" onchange=\"switchlocale();nclks_select(this.value,\\'\\',{\\'ko_KR\\':\\'log.lankr\\',\\'en_US\\':\\'log.lanen\\',\\'zh-Hans_CN\\':\\'log.lancn\\',\\'zh-Hant_TW\\':\\'log.lantw\\'},this,event);\">\\n\\t\\t\\t\\t<option value=\"ko_KR\" >한국어</option>\\n\\t\\t\\t\\t<option value=\"en_US\" >English</option>\\n\\t\\t\\t\\t<option value=\"zh-Hans_CN\" >中文(简体)</option>\\n\\t\\t\\t\\t<option value=\"zh-Hant_TW\" >中文(台灣)</option>\\n\\t\\t\\t</select>\\n\\t\\t</div>\\n\\t</div>\\n\\t<!-- //header -->\\n\\t<!-- container -->\\n\\t<div id=\"container\">\\n\\t\\t<!-- content -->\\n\\t\\t<div id=\"content\">\\n\\t\\t\\t<div class=\"title\" aria-live=\"assertive\">\\n\\t\\t\\t\\t<p></p>\\n\\t\\t\\t</div>\\n\\t\\t\\t\\t<form id=\"frmNIDLogin\" name=\"frmNIDLogin\" target=\"_top\" AUTOCOMPLETE=\"off\" action=\"https://nid.naver.com/nidlogin.login\" method=\"POST\" onsubmit=\"return confirmSplitSubmit();\">\\n\\t\\t\\t\\t<input type=\"hidden\" id=\"localechange\" name=\"localechange\" value=\"\">\\n\\t\\t\\t\\t<input type=\"hidden\" name=\"encpw\" id=\"encpw\" value=\"\">\\n<input type=\"hidden\" name=\"enctp\" id=\"enctp\" value=\"1\">\\n<input type=\"hidden\" name=\"svctype\" id=\"svctype\" value=\"1\">\\n<input type=\"hidden\" name=\"smart_LEVEL\" id=\"smart_LEVEL\" value=\"1\">\\n<input type=\"hidden\" name=\"bvsd\" id=\"bvsd\" value=\"\">\\n<input type=\"hidden\" name=\"encnm\" id=\"encnm\" value=\"\">\\n<input type=\"hidden\" name=\"locale\" id=\"locale\" value=\"ko_KR\">\\n<input type=\"hidden\" name=\"url\" id=\"url\" value=\"http://mail.naver.com/\">\\n\\n\\t\\t\\t\\t<fieldset class=\"login_form\">\\n\\t\\t\\t\\t\\t<legend class=\"blind\">로그인</legend>\\n\\t\\t\\t\\t\\t<div class=\"id_area\">\\n\\t\\t\\t\\t\\t\\t<div class=\"input_row\" id=\"id_area\">\\n\\t\\t\\t\\t\\t\\t\\t<span class=\"input_box\">\\n\\t\\t\\t\\t\\t\\t\\t\\t<label for=\"id\" id=\"label_id_area\" class=\"lbl\">아이디</label>\\n\\t\\t\\t\\t\\t\\t\\t\\t<input type=\"text\" id=\"id\" name=\"id\" accesskey=\"L\" placeholder=\"아이디\" class=\"int\" maxlength=\"41\" value=\"\">\\n\\t\\t\\t\\t\\t\\t\\t</span>\\n\\t\\t\\t\\t\\t\\t\\t<button type=\"button\" disabled=\"\" title=\"delete\" id=\"id_clear\" class=\"wrg\">삭제</button>\\n\\t\\t\\t\\t\\t\\t</div>\\n\\t\\t\\t\\t\\t\\t<div class=\"error\" id=\"err_empty_id\" style=\"display:none\" aria-live=\"assertive\"></div>\\n\\t\\t\\t\\t\\t</div>\\n\\t\\t\\t\\t\\t<div class=\"pw_area\">\\n\\t\\t\\t\\t\\t\\t<div class=\"input_row\" id=\"pw_area\">\\n\\t\\t\\t\\t\\t\\t\\t<span class=\"input_box\">\\n\\t\\t\\t\\t\\t\\t\\t\\t<label for=\"pw\" id=\"label_pw_area\"  class=\"lbl\">비밀번호</label>\\n\\t\\t\\t\\t\\t\\t\\t\\t<input type=\"password\" id=\"pw\" name=\"pw\" placeholder=\"비밀번호\" class=\"int\" maxlength=\"16\" onkeypress=\"capslockevt(event);getKeysv2();\" onkeyup=\"checkShiftUp(event);\" onkeydown=\"checkShiftDown(event);\">\\n\\t\\t\\t\\t\\t\\t\\t</span>\\n\\t\\t\\t\\t\\t\\t\\t<button type=\"button\" disabled=\"\" title=\"delete\" id=\"pw_clear\" class=\"wrg\">삭제</button>\\n\\t\\t\\t\\t\\t\\t\\t<div class=\"ly_v2\" id=\"err_capslock\" style=\"display:none;\">\\n\\t\\t\\t\\t\\t\\t\\t\\t<div class=\"ly_box\">\\n\\t\\t\\t\\t\\t\\t\\t\\t\\t<p><strong>Caps Lock</strong>이 켜져 있습니다.</p>\\n\\t\\t\\t\\t\\t\\t\\t\\t</div>\\n\\t\\t\\t\\t\\t\\t\\t\\t<span class=\"sp ly_point\"></span>\\n\\t\\t\\t\\t\\t\\t\\t</div>\\n\\t\\t\\t\\t\\t\\t</div>\\n\\t\\t\\t\\t\\t\\t<div class=\"error\" id=\"err_empty_pw\" style=\"display:none\" aria-live=\"assertive\"></div>\\n\\t\\t\\t\\t\\t</div>\\n\\t\\t\\t\\t\\t<input type=\"submit\" title=\"로그인\" alt=\"로그인\" value=\"로그인\" class=\"btn_global\" onclick=\"nclks(\\'log.login\\',this,event)\">\\n\\t\\t\\t\\t\\t<div class=\"check_info\">\\n\\t\\t\\t\\t\\t\\t<div class=\"login_check\">\\n\\t\\t\\t\\t\\t\\t\\t<span class=\"login_check_box\">\\n\\t\\t\\t\\t\\t\\t\\t\\t<input type=\"checkbox\" id=\"login_chk\" name=\"nvlong\" class=\"\"  value=\"off\" onchange=\"savedLong(this);nclks_chk(\\'login_chk\\', \\'log.keepon\\', \\'log.keepoff\\',this,event)\" />\\n\\t\\t\\t\\t\\t\\t\\t\\t<label for=\"login_chk\" id=\"label_login_chk\" class=\"sp \">로그인 상태 유지</label>\\n\\t\\t\\t\\t\\t\\t\\t</span>\\n\\t\\t\\t\\t\\t\\t\\t<div class=\"ly_v2\" id=\"persist_usage\" style=\"display:none;\">\\n\\t\\t\\t\\t\\t\\t\\t\\t<div class=\"ly_box\">\\n\\t\\t\\t\\t\\t\\t\\t\\t\\t<p>개인정보 보호를 위해 <strong>개인 PC에서만 사용하세요.</strong>&nbsp;&nbsp; &nbsp;&nbsp;<a href=\"https://help.naver.com/support/contents/contents.nhn?serviceNo=532&categoryNo=1523\" target=\"_blank\" class=\"sp btn_check_help\">도움말보기</a></p>\\n\\t\\t\\t\\t\\t\\t\\t\\t</div>\\n\\t\\t\\t\\t\\t\\t\\t\\t<span class=\"sp ly_point\"></span>\\n\\t\\t\\t\\t\\t\\t\\t</div>\\n\\t\\t\\t\\t\\t\\t</div>\\n\\t\\t\\t\\t\\t\\t<div class=\"pc_check\">\\n\\t\\t\\t\\t\\t\\t\\t<span class=\"ip_check\">\\n\\t\\t\\t\\t\\t\\t\\t\\t<a href=\"/login/ext/help_ip3.html\" target=\"_blank\" onclick=\"window.open(this.href, \\'IPGUIDE\\', \\'titlebar=1, resizable=1, scrollbars=yes, width=537, height=750\\'); return false;\" title=\"\" >IP보안</a>\\n\\t\\t\\t\\t\\t\\t\\t\\t<span class=\"ip_ch\">\\n\\t\\t\\t\\t\\t\\t\\t\\t\\t<input type=\"checkbox\" id=\"ip_on\" value=\"off\" onchange=\"ipCheck(this,event);nclks_chk(\\'ip_on\\', \\'log.iponset\\', \\'log.ipoffset\\',this,event)\" class=\"\"/>\\n\\t\\t\\t\\t\\t\\t\\t\\t\\t<label for=\"ip_on\" id=\"label_ip_on\" class=\"sp \"><span class=\"blind\">on</span></label>\\n\\t\\t\\t\\t\\t\\t\\t\\t</span>\\n\\t\\t\\t\\t\\t\\t\\t</span>\\n\\t\\t\\t\\t\\t\\t\\t<span class=\"bar\">|</span>\\n\\t\\t\\t\\t\\t\\t\\t<div class=\"dis_di\">\\n\\t\\t\\t\\t\\t\\t\\t\\t<a href=\"#\" onclick=\"onetime(); nclks(\\'log.otn\\',this,event); return false;\" title=\"일회용 로그인\">일회용 로그인</a><a href=\"javascript:viewOnetime();\" onclick=\"nclks(\\'log.otnhelp\\',this,event)\" title=\"도움말\" class=\"btn_help_cover\"><span class=\"sp btn_help\"></span><span class=\"blind\">도움말</span></a>\\n\\t\\t\\t\\t\\t\\t\\t\\t<div class=\"ly\" id=\"onetime_usage\" style=\"display:none;\" onclick=\"javascript:viewOnetime()\">\\n\\t\\t\\t\\t\\t\\t\\t\\t\\t<div class=\"ly_box\">\\n\\t\\t\\t\\t\\t\\t\\t\\t\\t\\t<p>네이버앱에서 생성된 일회용 로그인 번호를 입력하면, 앱에 로그인된 계정으로 PC에서 로그인할 수 있어요. 아이디/비밀번호를 입력하지 않아 간편하고 더욱 안전합니다.</p>\\n\\t\\t\\t\\t\\t\\t\\t\\t\\t</div>\\n\\t\\t\\t\\t\\t\\t\\t\\t\\t<span class=\"sp ly_point\"></span>\\n\\t\\t\\t\\t\\t\\t\\t\\t</div>\\n\\t\\t\\t\\t\\t\\t\\t</div>\\n\\t\\t\\t\\t\\t\\t</div>\\n\\t\\t\\t\\t\\t</div>\\n\\t\\t\\t\\t</fieldset>\\n\\t\\t\\t</form>\\n\\t\\t\\t<div class=\"position_a\">\\n\\t\\t\\t\\t<div class=\"find_info\">\\n\\t\\t\\t\\t\\t<a target=\"_blank\" id=\"idinquiry\" href=\"https://nid.naver.com/user/help.nhn?todo=idinquiry\">아이디 찾기</a> <span class=\"bar\" aria-hidden=\"true\">|</span> <a target=\"_blank\" id=\"pwinquiry\" href=\"https://nid.naver.com/nidreminder.form\">비밀번호 찾기</a> <span class=\"bar\" aria-hidden=\"true\">|</span> <a target=\"_blank\" id=\"join\" href=\"https://nid.naver.com/user/join.html?lang=ko_KR\">회원가입</a>\\n\\t\\t\\t\\t</div>\\n\\t\\t\\t</div>\\n\\t\\t</div>\\n\\t\\t<!-- //content -->\\n\\t</div>\\n\\t<!-- //container -->\\n\\t<!-- footer -->\\n\\t<div id=\"footer\">\\n\\t\\t<ul>\\n\\t\\t<li><a target=\"_blank\" href=\"http://www.naver.com/rules/service.html\" onclick=\"nclks(\\'fot.agreement\\',this,event)\">이용약관</a></li>\\n\\t\\t<li><strong><a target=\"_blank\" href=\"http://www.naver.com/rules/privacy.html\" onclick=\"nclks(\\'fot.privacy\\',this,event)\">개인정보처리방침</a></strong></li>\\n\\t\\t<li><a target=\"_blank\" href=\"http://www.naver.com/rules/disclaimer.html\" onclick=\"nclks(\\'fot.disclaimer\\',this,event)\">책임의 한계와 법적고지</a></li>\\n\\t\\t<li><a target=\"_blank\" href=\"https://help.naver.com/support/service/main.nhn?serviceNo=532\" onclick=\"nclks(\\'fot.help\\',this,event)\">회원정보 고객센터</a></li>\\n\\t\\t</ul>\\n\\t\\t<address><em><a target=\"_blank\" href=\"http://www.navercorp.com\" class=\"logo\" onclick=\"nclks(\\'fot.naver\\',this,event)\"><span class=\"blind\">naver</span></a></em><em class=\"copy\">Copyright</em> <em class=\"u_cri\">&copy;</em> <a target=\"_blank\" href=\"http://www.navercorp.com\" class=\"u_cra\"  onclick=\"nclks(\\'fot.navercorp\\',this,event)\">NAVER Corp.</a> <span class=\"all_r\">All Rights Reserved.</span></address>\\t\\n\\t</div>\\n\\t<!-- //footer -->\\n</div>\\n<script type=\"text/javascript\" src=\"/login/js/common.all.js?141216\"> </script>\\n<script type=\"text/javascript\">\\nvar session_keys = \"\";\\nvar pc_keyboard_close=\"<span class=\\\\\"sp\\\\\">PC 키보드 닫기</span>\";\\nvar pc_keyboard_open=\"<span class=\\\\\"sp\\\\\">PC 키보드 보기</span>\";\\nvar view_char=\"한글 보기\";\\nvar view_symbol=\"특수기호 보기\";\\n\\naddInputEvent(\\'id\\', \\'id_area\\');\\naddInputEvent(\\'pw\\', \\'pw_area\\');\\ninitSmartLevel();\\nvar login_chk = $(\\'login_chk\\');\\nif(login_chk.attachEvent) {\\n\\tlogin_chk.attachEvent(\"onchange\", function(){persist_usage();});\\n} else if (login_chk.addEventListener) {\\n\\tlogin_chk.addEventListener(\"change\", function(){persist_usage();}, false);\\n}\\nfunction persist_usage()\\n{\\n\\tvar login_chk = $(\"login_chk\");\\n\\tif (login_chk.checked==true)\\n\\t{\\n\\t\\tshow(\"persist_usage\");\\n\\t\\thide(\\'onetime_usage\\');\\n\\t\\tview_onetimeusage = false;\\n\\t}\\n\\telse\\n\\t{\\n\\t\\thide(\"persist_usage\");\\n\\t}\\n}\\nvar view_onetimeusage = false;\\nfunction viewOnetime()\\n{\\n\\tif (view_onetimeusage)\\n\\t{\\n\\t\\thide(\\'onetime_usage\\');\\n\\t\\tview_onetimeusage = false;\\n\\t}\\n\\telse\\n\\t{\\n\\t\\thide(\"persist_usage\");\\n\\t\\tshow(\\'onetime_usage\\');\\n\\t\\tview_onetimeusage = true;\\n\\t}\\n}\\ntry{\\n\\tif (navigator.appVersion.toLowerCase().indexOf(\"win\") != -1) {\\n\\t\\t$(\\'id\\').style.imeMode = \"disabled\";\\n\\t\\tdocument.msCapsLockWarningOff = true;\\n\\t}\\n}catch(e) {}\\ntry{\\n\\tif ( $(\\'id\\').value.length == 0 )\\n\\t{\\n\\t\\t$(\\'id\\').focus();\\n\\t}\\n\\telse\\n\\t{\\n\\t\\t$(\\'pw\\').focus();\\n\\t}\\n}catch (e){}\\nfunction selectItemByValue(elmnt, value){\\n\\tisSet = false;\\n\\tfor(var i=0; i < elmnt.options.length; i++)\\n\\t{\\n\\t\\tif(elmnt.options[i].value === value) {\\n\\t\\t\\telmnt.selectedIndex = i;\\n\\t\\t\\tisSet = true;\\n\\t\\t\\tbreak;\\n\\t\\t}\\n\\t}\\n\\tif (!isSet)\\n\\t\\telmnt.selectedIndex=1;\\n}\\ntry {\\nselectItemByValue(locale_switch, \\'ko_KR\\');\\n}catch (e){}\\nvar id_error_msg=\"아이디를 입력해주세요.\";\\nvar pw_error_msg=\"비밀번호를 입력해주세요.\";\\nvar inSubmitProgress = false;\\nfunction confirmSplitSubmit()\\n{\\n        if (inSubmitProgress) {\\n                return false;\\n        }\\n        inSubmitProgress = true;\\n        var id = $(\"id\");\\n        var pw = $(\"pw\");\\n        var encpw = $(\"encpw\");\\n        \\n        if(id.value == \"\") {\\n                show(\"err_empty_id\");\\n                $(\"err_empty_id\").innerHTML=id_error_msg;\\n                hide(\"err_empty_pw\");\\n                $(\"err_empty_pw\").innerHTML=\"\";\\n                hide(\"err_common_pw1\");\\n                hide(\"err_common\");\\n                id.focus();\\n                inSubmitProgress = false;\\n                return false;\\n        } else if(pw.value == \"\") {\\n                show(\"err_empty_pw\");\\n                $(\"err_empty_pw\").innerHTML=pw_error_msg;\\n                hide(\"err_empty_id\");\\n                $(\"err_empty_id\").innerHTML=\"\";\\n                hide(\"err_common_pw1\");\\n                hide(\"err_common\");\\n                pw.focus();\\n                inSubmitProgress = false;\\n                return false;\\n        }\\n        try{\\n                $(\"ls\").value = localStorage.getItem(\"nid_t\");\\n        }catch(e){}\\n        return encryptIdPwSplit();\\n}\\nfunction encryptIdPwSplit() {\\n        var id = $(\"id\");\\n        var pw = $(\"pw\");\\n        var encpw = $(\"encpw\");\\n        var rsa = new RSAKey;\\n\\n        if (keySplit(session_keys)) {\\n                rsa.setPublic(evalue, nvalue);\\n                try{\\n                        encpw.value = rsa.encrypt(\\n                                getLenChar(sessionkey) + sessionkey +\\n                                getLenChar(id.value) + id.value +\\n                                getLenChar(pw.value) + pw.value);\\n                } catch(e) {\\n                        inSubmitProgress = false;\\n                        return false;\\n                }\\n                $(\\'enctp\\').value = 1;\\n\\n                setTimeout(function() {\\n                        $(\"id\").value = \"\";\\n                        $(\"pw\").value = \"\";\\n                        $(\"bvsd\").value = \"timeout\";\\n                        $(\\'frmNIDLogin\\').submit();\\n                }, 5000);\\n                try {\\n                        if (bvsd){\\n                                bvsd.f(function(a) {\\n                                        $(\"id\").value = \"\";\\n                                        $(\"pw\").value = \"\";\\n                                        $(\"bvsd\").value = a;\\n                                        $(\\'frmNIDLogin\\').submit();\\n                                });\\n                        }\\n                } catch (e) {\\n                        $(\"id\").value = \"\";\\n                        $(\"pw\").value = \"\";\\n                        $(\"bvsd\").value = \"error1|\"+e.name+\"|\"+e.message;;\\n                        $(\\'frmNIDLogin\\').submit();\\n                }\\n        }\\n        else\\n        {\\n                getKeyByRuntimeIncludeSplit();\\n        }\\n        inSubmitProgress = false;\\n        return false;\\n}\\nfunction getKeyByRuntimeIncludeSplit() {\\n        try {\\n                var keyjs  = document.createElement(\\'script\\');\\n                keyjs.type = \\'text/javascript\\';\\n                keyjs.src = \\'/login/ext/keys_js3.nhn\\';\\n                document.getElementsByTagName(\\'head\\')[0].appendChild(keyjs);\\n        } catch (e) {\\n        }\\n}\\n</script>\\n<script type=\"text/javascript\" src=\"/login/js/bvsd.1.3.4.min.js\"></script>\\n<script type=\"text/javascript\">\\nvar porperties = {\\n\\tkeyboard: [{\\n\\t\\tid: \"id\"\\n\\t}, {\\n\\t\\tid: \"pw\",\\n\\t\\tsecureMode: true\\n\\t}],\\n\\tmodeProperties: {\\n\\t\\tmode: 4\\n\\t}\\n};\\nbvsd = new sofa.Koop(porperties);\\n\\n\\n</script>\\n<script type=\"text/javascript\" src=\"https://nid.naver.com/login/js/lcs_nclicks.js?dt=20190122\"></script>\\n<script type=\"text/javascript\"> \\nlcs_do(); \\nvar g_ssc = \"nid.login_kr\";\\nvar ccsrv = \"cc.naver.com\";\\n</script>\\n<div id=\"nv_stat\" style=\"display:none;\">20</div>\\n</body>\\n</html>\\n'"
      ]
     },
     "execution_count": 197,
     "metadata": {},
     "output_type": "execute_result"
    }
   ],
   "source": [
    "html = session.get(\"https://mail.naver.com\")\n",
    "html.text"
   ]
  },
  {
   "cell_type": "code",
   "execution_count": null,
   "metadata": {},
   "outputs": [],
   "source": [
    "html = session.post(\"https://mail.naver.com\")\n",
    "html.json()"
   ]
  },
  {
   "cell_type": "code",
   "execution_count": 201,
   "metadata": {},
   "outputs": [
    {
     "data": {
      "text/plain": [
       "'<!DOCTYPE html>\\n<html lang=\"ko\">\\n<head>\\n\\t<meta charset=\"UTF-8\">\\n\\t<meta http-equiv=\"X-UA-Compatible\" content=\"IE=edge\">\\n\\t<meta name=\"viewport\" content=\"width=device-width, initial-scale=1.0, maximum-scale=1.0, minimum-scale=1.0, user-scalable=no\">\\n\\t<title>네이버 : 로그인</title>\\n\\t<link rel=\"stylesheet\" type=\"text/css\" href=\"/login/css/global/desktop/w_20181218.css?dt=20181218\">\\n</head>\\n<body class=\"\">\\n<div class=\"theme_txt\" id=\"theme_txt_message\">\\n\\t<p><strong>안전한 네이버 로그인을 위해 주소창의 URL과 자물쇠 마크를 확인하세요!</strong></p>\\n</div>\\n<div id=\"wrap\">\\n    <div id=\"u_skip\">\\n        <a href=\"#content\" onclick=\"document.getElementById(\\'content\\').tabIndex=-1;document.getElementById(\\'content\\').focus();return false;\"><span>본문으로 바로가기</span></a>\\n    </div>\\n\\t<!-- header -->\\n\\t<div id=\"header\">\\n\\t\\t<h1><a href=\"http://www.naver.com\" class=\"sp h_logo\" onclick=\"nclks(\\'log.naver\\',this,event)\"><span class=\"blind\">NAVER</span></a></h1>\\n\\t\\t<div class=\"lang\">\\n\\t\\t\\t<select id=\"locale_switch\" name=\"locale_switch\" title=\"언어선택\" class=\"sel\" onchange=\"switchlocale();nclks_select(this.value,\\'\\',{\\'ko_KR\\':\\'log.lankr\\',\\'en_US\\':\\'log.lanen\\',\\'zh-Hans_CN\\':\\'log.lancn\\',\\'zh-Hant_TW\\':\\'log.lantw\\'},this,event);\">\\n\\t\\t\\t\\t<option value=\"ko_KR\" >한국어</option>\\n\\t\\t\\t\\t<option value=\"en_US\" >English</option>\\n\\t\\t\\t\\t<option value=\"zh-Hans_CN\" >中文(简体)</option>\\n\\t\\t\\t\\t<option value=\"zh-Hant_TW\" >中文(台灣)</option>\\n\\t\\t\\t</select>\\n\\t\\t</div>\\n\\t</div>\\n\\t<!-- //header -->\\n\\t<!-- container -->\\n\\t<div id=\"container\">\\n\\t\\t<!-- content -->\\n\\t\\t<div id=\"content\">\\n\\t\\t\\t<div class=\"title\" aria-live=\"assertive\">\\n\\t\\t\\t\\t<p></p>\\n\\t\\t\\t</div>\\n\\t\\t\\t\\t<form id=\"frmNIDLogin\" name=\"frmNIDLogin\" target=\"_top\" AUTOCOMPLETE=\"off\" action=\"https://nid.naver.com/nidlogin.login\" method=\"POST\" onsubmit=\"return confirmSplitSubmit();\">\\n\\t\\t\\t\\t<input type=\"hidden\" id=\"localechange\" name=\"localechange\" value=\"\">\\n\\t\\t\\t\\t<input type=\"hidden\" name=\"encpw\" id=\"encpw\" value=\"\">\\n<input type=\"hidden\" name=\"enctp\" id=\"enctp\" value=\"1\">\\n<input type=\"hidden\" name=\"svctype\" id=\"svctype\" value=\"1\">\\n<input type=\"hidden\" name=\"smart_LEVEL\" id=\"smart_LEVEL\" value=\"1\">\\n<input type=\"hidden\" name=\"bvsd\" id=\"bvsd\" value=\"\">\\n<input type=\"hidden\" name=\"encnm\" id=\"encnm\" value=\"\">\\n<input type=\"hidden\" name=\"locale\" id=\"locale\" value=\"ko_KR\">\\n<input type=\"hidden\" name=\"url\" id=\"url\" value=\"http://mail.naver.com/\">\\n\\n\\t\\t\\t\\t<fieldset class=\"login_form\">\\n\\t\\t\\t\\t\\t<legend class=\"blind\">로그인</legend>\\n\\t\\t\\t\\t\\t<div class=\"id_area\">\\n\\t\\t\\t\\t\\t\\t<div class=\"input_row\" id=\"id_area\">\\n\\t\\t\\t\\t\\t\\t\\t<span class=\"input_box\">\\n\\t\\t\\t\\t\\t\\t\\t\\t<label for=\"id\" id=\"label_id_area\" class=\"lbl\">아이디</label>\\n\\t\\t\\t\\t\\t\\t\\t\\t<input type=\"text\" id=\"id\" name=\"id\" accesskey=\"L\" placeholder=\"아이디\" class=\"int\" maxlength=\"41\" value=\"\">\\n\\t\\t\\t\\t\\t\\t\\t</span>\\n\\t\\t\\t\\t\\t\\t\\t<button type=\"button\" disabled=\"\" title=\"delete\" id=\"id_clear\" class=\"wrg\">삭제</button>\\n\\t\\t\\t\\t\\t\\t</div>\\n\\t\\t\\t\\t\\t\\t<div class=\"error\" id=\"err_empty_id\" style=\"display:none\" aria-live=\"assertive\"></div>\\n\\t\\t\\t\\t\\t</div>\\n\\t\\t\\t\\t\\t<div class=\"pw_area\">\\n\\t\\t\\t\\t\\t\\t<div class=\"input_row\" id=\"pw_area\">\\n\\t\\t\\t\\t\\t\\t\\t<span class=\"input_box\">\\n\\t\\t\\t\\t\\t\\t\\t\\t<label for=\"pw\" id=\"label_pw_area\"  class=\"lbl\">비밀번호</label>\\n\\t\\t\\t\\t\\t\\t\\t\\t<input type=\"password\" id=\"pw\" name=\"pw\" placeholder=\"비밀번호\" class=\"int\" maxlength=\"16\" onkeypress=\"capslockevt(event);getKeysv2();\" onkeyup=\"checkShiftUp(event);\" onkeydown=\"checkShiftDown(event);\">\\n\\t\\t\\t\\t\\t\\t\\t</span>\\n\\t\\t\\t\\t\\t\\t\\t<button type=\"button\" disabled=\"\" title=\"delete\" id=\"pw_clear\" class=\"wrg\">삭제</button>\\n\\t\\t\\t\\t\\t\\t\\t<div class=\"ly_v2\" id=\"err_capslock\" style=\"display:none;\">\\n\\t\\t\\t\\t\\t\\t\\t\\t<div class=\"ly_box\">\\n\\t\\t\\t\\t\\t\\t\\t\\t\\t<p><strong>Caps Lock</strong>이 켜져 있습니다.</p>\\n\\t\\t\\t\\t\\t\\t\\t\\t</div>\\n\\t\\t\\t\\t\\t\\t\\t\\t<span class=\"sp ly_point\"></span>\\n\\t\\t\\t\\t\\t\\t\\t</div>\\n\\t\\t\\t\\t\\t\\t</div>\\n\\t\\t\\t\\t\\t\\t<div class=\"error\" id=\"err_empty_pw\" style=\"display:none\" aria-live=\"assertive\"></div>\\n\\t\\t\\t\\t\\t</div>\\n\\t\\t\\t\\t\\t<input type=\"submit\" title=\"로그인\" alt=\"로그인\" value=\"로그인\" class=\"btn_global\" onclick=\"nclks(\\'log.login\\',this,event)\">\\n\\t\\t\\t\\t\\t<div class=\"check_info\">\\n\\t\\t\\t\\t\\t\\t<div class=\"login_check\">\\n\\t\\t\\t\\t\\t\\t\\t<span class=\"login_check_box\">\\n\\t\\t\\t\\t\\t\\t\\t\\t<input type=\"checkbox\" id=\"login_chk\" name=\"nvlong\" class=\"\"  value=\"off\" onchange=\"savedLong(this);nclks_chk(\\'login_chk\\', \\'log.keepon\\', \\'log.keepoff\\',this,event)\" />\\n\\t\\t\\t\\t\\t\\t\\t\\t<label for=\"login_chk\" id=\"label_login_chk\" class=\"sp \">로그인 상태 유지</label>\\n\\t\\t\\t\\t\\t\\t\\t</span>\\n\\t\\t\\t\\t\\t\\t\\t<div class=\"ly_v2\" id=\"persist_usage\" style=\"display:none;\">\\n\\t\\t\\t\\t\\t\\t\\t\\t<div class=\"ly_box\">\\n\\t\\t\\t\\t\\t\\t\\t\\t\\t<p>개인정보 보호를 위해 <strong>개인 PC에서만 사용하세요.</strong>&nbsp;&nbsp; &nbsp;&nbsp;<a href=\"https://help.naver.com/support/contents/contents.nhn?serviceNo=532&categoryNo=1523\" target=\"_blank\" class=\"sp btn_check_help\">도움말보기</a></p>\\n\\t\\t\\t\\t\\t\\t\\t\\t</div>\\n\\t\\t\\t\\t\\t\\t\\t\\t<span class=\"sp ly_point\"></span>\\n\\t\\t\\t\\t\\t\\t\\t</div>\\n\\t\\t\\t\\t\\t\\t</div>\\n\\t\\t\\t\\t\\t\\t<div class=\"pc_check\">\\n\\t\\t\\t\\t\\t\\t\\t<span class=\"ip_check\">\\n\\t\\t\\t\\t\\t\\t\\t\\t<a href=\"/login/ext/help_ip3.html\" target=\"_blank\" onclick=\"window.open(this.href, \\'IPGUIDE\\', \\'titlebar=1, resizable=1, scrollbars=yes, width=537, height=750\\'); return false;\" title=\"\" >IP보안</a>\\n\\t\\t\\t\\t\\t\\t\\t\\t<span class=\"ip_ch\">\\n\\t\\t\\t\\t\\t\\t\\t\\t\\t<input type=\"checkbox\" id=\"ip_on\" value=\"off\" onchange=\"ipCheck(this,event);nclks_chk(\\'ip_on\\', \\'log.iponset\\', \\'log.ipoffset\\',this,event)\" class=\"\"/>\\n\\t\\t\\t\\t\\t\\t\\t\\t\\t<label for=\"ip_on\" id=\"label_ip_on\" class=\"sp \"><span class=\"blind\">on</span></label>\\n\\t\\t\\t\\t\\t\\t\\t\\t</span>\\n\\t\\t\\t\\t\\t\\t\\t</span>\\n\\t\\t\\t\\t\\t\\t\\t<span class=\"bar\">|</span>\\n\\t\\t\\t\\t\\t\\t\\t<div class=\"dis_di\">\\n\\t\\t\\t\\t\\t\\t\\t\\t<a href=\"#\" onclick=\"onetime(); nclks(\\'log.otn\\',this,event); return false;\" title=\"일회용 로그인\">일회용 로그인</a><a href=\"javascript:viewOnetime();\" onclick=\"nclks(\\'log.otnhelp\\',this,event)\" title=\"도움말\" class=\"btn_help_cover\"><span class=\"sp btn_help\"></span><span class=\"blind\">도움말</span></a>\\n\\t\\t\\t\\t\\t\\t\\t\\t<div class=\"ly\" id=\"onetime_usage\" style=\"display:none;\" onclick=\"javascript:viewOnetime()\">\\n\\t\\t\\t\\t\\t\\t\\t\\t\\t<div class=\"ly_box\">\\n\\t\\t\\t\\t\\t\\t\\t\\t\\t\\t<p>네이버앱에서 생성된 일회용 로그인 번호를 입력하면, 앱에 로그인된 계정으로 PC에서 로그인할 수 있어요. 아이디/비밀번호를 입력하지 않아 간편하고 더욱 안전합니다.</p>\\n\\t\\t\\t\\t\\t\\t\\t\\t\\t</div>\\n\\t\\t\\t\\t\\t\\t\\t\\t\\t<span class=\"sp ly_point\"></span>\\n\\t\\t\\t\\t\\t\\t\\t\\t</div>\\n\\t\\t\\t\\t\\t\\t\\t</div>\\n\\t\\t\\t\\t\\t\\t</div>\\n\\t\\t\\t\\t\\t</div>\\n\\t\\t\\t\\t</fieldset>\\n\\t\\t\\t</form>\\n\\t\\t\\t<div class=\"position_a\">\\n\\t\\t\\t\\t<div class=\"find_info\">\\n\\t\\t\\t\\t\\t<a target=\"_blank\" id=\"idinquiry\" href=\"https://nid.naver.com/user/help.nhn?todo=idinquiry\">아이디 찾기</a> <span class=\"bar\" aria-hidden=\"true\">|</span> <a target=\"_blank\" id=\"pwinquiry\" href=\"https://nid.naver.com/nidreminder.form\">비밀번호 찾기</a> <span class=\"bar\" aria-hidden=\"true\">|</span> <a target=\"_blank\" id=\"join\" href=\"https://nid.naver.com/user/join.html?lang=ko_KR\">회원가입</a>\\n\\t\\t\\t\\t</div>\\n\\t\\t\\t</div>\\n\\t\\t\\t<div class=\"phishing_banner toolbar\">\\n\\t\\t\\t\\t<div class=\"sp\">\\n\\t\\t\\t\\t\\t<span class=\"blind\">\\n\\t\\t\\t\\t\\t<strong>지금 로그인 하는 사이트가 어디인지 알고 계신가요?</strong>\\n\\t\\t\\t\\t\\t고객님의 소중한 정보를 위해 로그인 전에 <em>주소표시줄의 naver corp(kr) URL(https://nid.naver.com)</em>을 확인해 주세요.\\n\\t\\t\\t\\t\\t</span>\\n\\t\\t\\t\\t</div>\\n\\t\\t\\t</div>\\n\\t\\t</div>\\n\\t\\t<!-- //content -->\\n\\t</div>\\n\\t<!-- //container -->\\n\\t<!-- footer -->\\n\\t<div id=\"footer\">\\n\\t\\t<ul>\\n\\t\\t<li><a target=\"_blank\" href=\"http://www.naver.com/rules/service.html\" onclick=\"nclks(\\'fot.agreement\\',this,event)\">이용약관</a></li>\\n\\t\\t<li><strong><a target=\"_blank\" href=\"http://www.naver.com/rules/privacy.html\" onclick=\"nclks(\\'fot.privacy\\',this,event)\">개인정보처리방침</a></strong></li>\\n\\t\\t<li><a target=\"_blank\" href=\"http://www.naver.com/rules/disclaimer.html\" onclick=\"nclks(\\'fot.disclaimer\\',this,event)\">책임의 한계와 법적고지</a></li>\\n\\t\\t<li><a target=\"_blank\" href=\"https://help.naver.com/support/service/main.nhn?serviceNo=532\" onclick=\"nclks(\\'fot.help\\',this,event)\">회원정보 고객센터</a></li>\\n\\t\\t</ul>\\n\\t\\t<address><em><a target=\"_blank\" href=\"http://www.navercorp.com\" class=\"logo\" onclick=\"nclks(\\'fot.naver\\',this,event)\"><span class=\"blind\">naver</span></a></em><em class=\"copy\">Copyright</em> <em class=\"u_cri\">&copy;</em> <a target=\"_blank\" href=\"http://www.navercorp.com\" class=\"u_cra\"  onclick=\"nclks(\\'fot.navercorp\\',this,event)\">NAVER Corp.</a> <span class=\"all_r\">All Rights Reserved.</span></address>\\t\\n\\t</div>\\n\\t<!-- //footer -->\\n</div>\\n<script type=\"text/javascript\" src=\"/login/js/common.all.js?141216\"> </script>\\n<script type=\"text/javascript\">\\nvar session_keys = \"\";\\nvar pc_keyboard_close=\"<span class=\\\\\"sp\\\\\">PC 키보드 닫기</span>\";\\nvar pc_keyboard_open=\"<span class=\\\\\"sp\\\\\">PC 키보드 보기</span>\";\\nvar view_char=\"한글 보기\";\\nvar view_symbol=\"특수기호 보기\";\\n\\naddInputEvent(\\'id\\', \\'id_area\\');\\naddInputEvent(\\'pw\\', \\'pw_area\\');\\ninitSmartLevel();\\nvar login_chk = $(\\'login_chk\\');\\nif(login_chk.attachEvent) {\\n\\tlogin_chk.attachEvent(\"onchange\", function(){persist_usage();});\\n} else if (login_chk.addEventListener) {\\n\\tlogin_chk.addEventListener(\"change\", function(){persist_usage();}, false);\\n}\\nfunction persist_usage()\\n{\\n\\tvar login_chk = $(\"login_chk\");\\n\\tif (login_chk.checked==true)\\n\\t{\\n\\t\\tshow(\"persist_usage\");\\n\\t\\thide(\\'onetime_usage\\');\\n\\t\\tview_onetimeusage = false;\\n\\t}\\n\\telse\\n\\t{\\n\\t\\thide(\"persist_usage\");\\n\\t}\\n}\\nvar view_onetimeusage = false;\\nfunction viewOnetime()\\n{\\n\\tif (view_onetimeusage)\\n\\t{\\n\\t\\thide(\\'onetime_usage\\');\\n\\t\\tview_onetimeusage = false;\\n\\t}\\n\\telse\\n\\t{\\n\\t\\thide(\"persist_usage\");\\n\\t\\tshow(\\'onetime_usage\\');\\n\\t\\tview_onetimeusage = true;\\n\\t}\\n}\\ntry{\\n\\tif (navigator.appVersion.toLowerCase().indexOf(\"win\") != -1) {\\n\\t\\t$(\\'id\\').style.imeMode = \"disabled\";\\n\\t\\tdocument.msCapsLockWarningOff = true;\\n\\t}\\n}catch(e) {}\\ntry{\\n\\tif ( $(\\'id\\').value.length == 0 )\\n\\t{\\n\\t\\t$(\\'id\\').focus();\\n\\t}\\n\\telse\\n\\t{\\n\\t\\t$(\\'pw\\').focus();\\n\\t}\\n}catch (e){}\\nfunction selectItemByValue(elmnt, value){\\n\\tisSet = false;\\n\\tfor(var i=0; i < elmnt.options.length; i++)\\n\\t{\\n\\t\\tif(elmnt.options[i].value === value) {\\n\\t\\t\\telmnt.selectedIndex = i;\\n\\t\\t\\tisSet = true;\\n\\t\\t\\tbreak;\\n\\t\\t}\\n\\t}\\n\\tif (!isSet)\\n\\t\\telmnt.selectedIndex=1;\\n}\\ntry {\\nselectItemByValue(locale_switch, \\'ko_KR\\');\\n}catch (e){}\\nvar id_error_msg=\"아이디를 입력해주세요.\";\\nvar pw_error_msg=\"비밀번호를 입력해주세요.\";\\nvar inSubmitProgress = false;\\nfunction confirmSplitSubmit()\\n{\\n        if (inSubmitProgress) {\\n                return false;\\n        }\\n        inSubmitProgress = true;\\n        var id = $(\"id\");\\n        var pw = $(\"pw\");\\n        var encpw = $(\"encpw\");\\n        \\n        if(id.value == \"\") {\\n                show(\"err_empty_id\");\\n                $(\"err_empty_id\").innerHTML=id_error_msg;\\n                hide(\"err_empty_pw\");\\n                $(\"err_empty_pw\").innerHTML=\"\";\\n                hide(\"err_common_pw1\");\\n                hide(\"err_common\");\\n                id.focus();\\n                inSubmitProgress = false;\\n                return false;\\n        } else if(pw.value == \"\") {\\n                show(\"err_empty_pw\");\\n                $(\"err_empty_pw\").innerHTML=pw_error_msg;\\n                hide(\"err_empty_id\");\\n                $(\"err_empty_id\").innerHTML=\"\";\\n                hide(\"err_common_pw1\");\\n                hide(\"err_common\");\\n                pw.focus();\\n                inSubmitProgress = false;\\n                return false;\\n        }\\n        try{\\n                $(\"ls\").value = localStorage.getItem(\"nid_t\");\\n        }catch(e){}\\n        return encryptIdPwSplit();\\n}\\nfunction encryptIdPwSplit() {\\n        var id = $(\"id\");\\n        var pw = $(\"pw\");\\n        var encpw = $(\"encpw\");\\n        var rsa = new RSAKey;\\n\\n        if (keySplit(session_keys)) {\\n                rsa.setPublic(evalue, nvalue);\\n                try{\\n                        encpw.value = rsa.encrypt(\\n                                getLenChar(sessionkey) + sessionkey +\\n                                getLenChar(id.value) + id.value +\\n                                getLenChar(pw.value) + pw.value);\\n                } catch(e) {\\n                        inSubmitProgress = false;\\n                        return false;\\n                }\\n                $(\\'enctp\\').value = 1;\\n\\n                setTimeout(function() {\\n                        $(\"id\").value = \"\";\\n                        $(\"pw\").value = \"\";\\n                        $(\"bvsd\").value = \"timeout\";\\n                        $(\\'frmNIDLogin\\').submit();\\n                }, 5000);\\n                try {\\n                        if (bvsd){\\n                                bvsd.f(function(a) {\\n                                        $(\"id\").value = \"\";\\n                                        $(\"pw\").value = \"\";\\n                                        $(\"bvsd\").value = a;\\n                                        $(\\'frmNIDLogin\\').submit();\\n                                });\\n                        }\\n                } catch (e) {\\n                        $(\"id\").value = \"\";\\n                        $(\"pw\").value = \"\";\\n                        $(\"bvsd\").value = \"error1|\"+e.name+\"|\"+e.message;;\\n                        $(\\'frmNIDLogin\\').submit();\\n                }\\n        }\\n        else\\n        {\\n                getKeyByRuntimeIncludeSplit();\\n        }\\n        inSubmitProgress = false;\\n        return false;\\n}\\nfunction getKeyByRuntimeIncludeSplit() {\\n        try {\\n                var keyjs  = document.createElement(\\'script\\');\\n                keyjs.type = \\'text/javascript\\';\\n                keyjs.src = \\'/login/ext/keys_js3.nhn\\';\\n                document.getElementsByTagName(\\'head\\')[0].appendChild(keyjs);\\n        } catch (e) {\\n        }\\n}\\n</script>\\n<script type=\"text/javascript\" src=\"/login/js/bvsd.1.3.4.min.js\"></script>\\n<script type=\"text/javascript\">\\nvar porperties = {\\n\\tkeyboard: [{\\n\\t\\tid: \"id\"\\n\\t}, {\\n\\t\\tid: \"pw\",\\n\\t\\tsecureMode: true\\n\\t}],\\n\\tmodeProperties: {\\n\\t\\tmode: 4\\n\\t}\\n};\\nbvsd = new sofa.Koop(porperties);\\n\\ntry{\\n\\tvar nid_buk = localStorage.getItem(\"nid_buk\");\\n\\tif (nid_buk!=null && nid_buk.length>0)\\n\\t{\\n\\t\\tvar today = new Date();\\n\\t\\tvar expire = new Date(today.getTime() + 60 * 60 * 24 * 3650 * 1000);\\n\\t\\tvar curCookie = \"nid_buk=\" + escape(nid_buk) + \"; expires=\" + expire.toGMTString() + \"; path=/; domain=.nid.naver.com; Secure;\";\\n\\t\\tdocument.cookie = curCookie;\\n\\t}\\n\\telse\\n\\t{\\n\\t\\tnid_nnb = getCookie(\\'NNB\\');\\n\\t\\tif (nid_nnb!=null && nid_nnb.length>0)\\n\\t\\t{\\n\\t\\t\\tlocalStorage.setItem(\"nid_buk\", nid_nnb);\\n\\t\\t\\tvar today = new Date();\\n\\t\\t\\tvar expire = new Date(today.getTime() + 60 * 60 * 24 * 3650 * 1000);\\n\\t\\t\\tvar curCookie = \"nid_buk=\" + escape(nid_nnb) + \"; expires=\" + expire.toGMTString() + \"; path=/; domain=.nid.naver.com; Secure;\";\\n\\t\\t\\tdocument.cookie = curCookie;\\n\\t\\t}\\n\\t}\\n}catch(e){}\\n\\n</script>\\n<script type=\"text/javascript\" src=\"https://nid.naver.com/login/js/lcs_nclicks.js?dt=20190122\"></script>\\n<script type=\"text/javascript\"> \\nlcs_do(); \\nvar g_ssc = \"nid.login_kr\";\\nvar ccsrv = \"cc.naver.com\";\\n</script>\\n<div id=\"nv_stat\" style=\"display:none;\">20</div>\\n</body>\\n</html>\\n'"
      ]
     },
     "execution_count": 201,
     "metadata": {},
     "output_type": "execute_result"
    }
   ],
   "source": [
    "html = download(\"https://mail.naver.com\")\n",
    "html.text"
   ]
  },
  {
   "cell_type": "code",
   "execution_count": 202,
   "metadata": {},
   "outputs": [
    {
     "ename": "WebDriverException",
     "evalue": "Message: invalid session id\n  (Driver info: chromedriver=74.0.3729.6 (255758eccf3d244491b8a1317aa76e1ce10d57e9-refs/branch-heads/3729@{#29}),platform=Windows NT 10.0.17763 x86_64)\n",
     "output_type": "error",
     "traceback": [
      "\u001b[1;31m---------------------------------------------------------------------------\u001b[0m",
      "\u001b[1;31mWebDriverException\u001b[0m                        Traceback (most recent call last)",
      "\u001b[1;32m<ipython-input-202-7eb615ef07c4>\u001b[0m in \u001b[0;36m<module>\u001b[1;34m\u001b[0m\n\u001b[1;32m----> 1\u001b[1;33m \u001b[0mbrowser\u001b[0m\u001b[1;33m.\u001b[0m\u001b[0mget_cookies\u001b[0m\u001b[1;33m(\u001b[0m\u001b[1;33m)\u001b[0m\u001b[1;33m\u001b[0m\u001b[1;33m\u001b[0m\u001b[0m\n\u001b[0m",
      "\u001b[1;32m~\\Anaconda3\\lib\\site-packages\\selenium\\webdriver\\remote\\webdriver.py\u001b[0m in \u001b[0;36mget_cookies\u001b[1;34m(self)\u001b[0m\n\u001b[0;32m    839\u001b[0m             \u001b[0mdriver\u001b[0m\u001b[1;33m.\u001b[0m\u001b[0mget_cookies\u001b[0m\u001b[1;33m(\u001b[0m\u001b[1;33m)\u001b[0m\u001b[1;33m\u001b[0m\u001b[1;33m\u001b[0m\u001b[0m\n\u001b[0;32m    840\u001b[0m         \"\"\"\n\u001b[1;32m--> 841\u001b[1;33m         \u001b[1;32mreturn\u001b[0m \u001b[0mself\u001b[0m\u001b[1;33m.\u001b[0m\u001b[0mexecute\u001b[0m\u001b[1;33m(\u001b[0m\u001b[0mCommand\u001b[0m\u001b[1;33m.\u001b[0m\u001b[0mGET_ALL_COOKIES\u001b[0m\u001b[1;33m)\u001b[0m\u001b[1;33m[\u001b[0m\u001b[1;34m'value'\u001b[0m\u001b[1;33m]\u001b[0m\u001b[1;33m\u001b[0m\u001b[1;33m\u001b[0m\u001b[0m\n\u001b[0m\u001b[0;32m    842\u001b[0m \u001b[1;33m\u001b[0m\u001b[0m\n\u001b[0;32m    843\u001b[0m     \u001b[1;32mdef\u001b[0m \u001b[0mget_cookie\u001b[0m\u001b[1;33m(\u001b[0m\u001b[0mself\u001b[0m\u001b[1;33m,\u001b[0m \u001b[0mname\u001b[0m\u001b[1;33m)\u001b[0m\u001b[1;33m:\u001b[0m\u001b[1;33m\u001b[0m\u001b[1;33m\u001b[0m\u001b[0m\n",
      "\u001b[1;32m~\\Anaconda3\\lib\\site-packages\\selenium\\webdriver\\remote\\webdriver.py\u001b[0m in \u001b[0;36mexecute\u001b[1;34m(self, driver_command, params)\u001b[0m\n\u001b[0;32m    319\u001b[0m         \u001b[0mresponse\u001b[0m \u001b[1;33m=\u001b[0m \u001b[0mself\u001b[0m\u001b[1;33m.\u001b[0m\u001b[0mcommand_executor\u001b[0m\u001b[1;33m.\u001b[0m\u001b[0mexecute\u001b[0m\u001b[1;33m(\u001b[0m\u001b[0mdriver_command\u001b[0m\u001b[1;33m,\u001b[0m \u001b[0mparams\u001b[0m\u001b[1;33m)\u001b[0m\u001b[1;33m\u001b[0m\u001b[1;33m\u001b[0m\u001b[0m\n\u001b[0;32m    320\u001b[0m         \u001b[1;32mif\u001b[0m \u001b[0mresponse\u001b[0m\u001b[1;33m:\u001b[0m\u001b[1;33m\u001b[0m\u001b[1;33m\u001b[0m\u001b[0m\n\u001b[1;32m--> 321\u001b[1;33m             \u001b[0mself\u001b[0m\u001b[1;33m.\u001b[0m\u001b[0merror_handler\u001b[0m\u001b[1;33m.\u001b[0m\u001b[0mcheck_response\u001b[0m\u001b[1;33m(\u001b[0m\u001b[0mresponse\u001b[0m\u001b[1;33m)\u001b[0m\u001b[1;33m\u001b[0m\u001b[1;33m\u001b[0m\u001b[0m\n\u001b[0m\u001b[0;32m    322\u001b[0m             response['value'] = self._unwrap_value(\n\u001b[0;32m    323\u001b[0m                 response.get('value', None))\n",
      "\u001b[1;32m~\\Anaconda3\\lib\\site-packages\\selenium\\webdriver\\remote\\errorhandler.py\u001b[0m in \u001b[0;36mcheck_response\u001b[1;34m(self, response)\u001b[0m\n\u001b[0;32m    240\u001b[0m                 \u001b[0malert_text\u001b[0m \u001b[1;33m=\u001b[0m \u001b[0mvalue\u001b[0m\u001b[1;33m[\u001b[0m\u001b[1;34m'alert'\u001b[0m\u001b[1;33m]\u001b[0m\u001b[1;33m.\u001b[0m\u001b[0mget\u001b[0m\u001b[1;33m(\u001b[0m\u001b[1;34m'text'\u001b[0m\u001b[1;33m)\u001b[0m\u001b[1;33m\u001b[0m\u001b[1;33m\u001b[0m\u001b[0m\n\u001b[0;32m    241\u001b[0m             \u001b[1;32mraise\u001b[0m \u001b[0mexception_class\u001b[0m\u001b[1;33m(\u001b[0m\u001b[0mmessage\u001b[0m\u001b[1;33m,\u001b[0m \u001b[0mscreen\u001b[0m\u001b[1;33m,\u001b[0m \u001b[0mstacktrace\u001b[0m\u001b[1;33m,\u001b[0m \u001b[0malert_text\u001b[0m\u001b[1;33m)\u001b[0m\u001b[1;33m\u001b[0m\u001b[1;33m\u001b[0m\u001b[0m\n\u001b[1;32m--> 242\u001b[1;33m         \u001b[1;32mraise\u001b[0m \u001b[0mexception_class\u001b[0m\u001b[1;33m(\u001b[0m\u001b[0mmessage\u001b[0m\u001b[1;33m,\u001b[0m \u001b[0mscreen\u001b[0m\u001b[1;33m,\u001b[0m \u001b[0mstacktrace\u001b[0m\u001b[1;33m)\u001b[0m\u001b[1;33m\u001b[0m\u001b[1;33m\u001b[0m\u001b[0m\n\u001b[0m\u001b[0;32m    243\u001b[0m \u001b[1;33m\u001b[0m\u001b[0m\n\u001b[0;32m    244\u001b[0m     \u001b[1;32mdef\u001b[0m \u001b[0m_value_or_default\u001b[0m\u001b[1;33m(\u001b[0m\u001b[0mself\u001b[0m\u001b[1;33m,\u001b[0m \u001b[0mobj\u001b[0m\u001b[1;33m,\u001b[0m \u001b[0mkey\u001b[0m\u001b[1;33m,\u001b[0m \u001b[0mdefault\u001b[0m\u001b[1;33m)\u001b[0m\u001b[1;33m:\u001b[0m\u001b[1;33m\u001b[0m\u001b[1;33m\u001b[0m\u001b[0m\n",
      "\u001b[1;31mWebDriverException\u001b[0m: Message: invalid session id\n  (Driver info: chromedriver=74.0.3729.6 (255758eccf3d244491b8a1317aa76e1ce10d57e9-refs/branch-heads/3729@{#29}),platform=Windows NT 10.0.17763 x86_64)\n"
     ]
    }
   ],
   "source": [
    "browser.get_cookies()"
   ]
  },
  {
   "cell_type": "code",
   "execution_count": 204,
   "metadata": {},
   "outputs": [
    {
     "data": {
      "text/plain": [
       "'anabasis'"
      ]
     },
     "execution_count": 204,
     "metadata": {},
     "output_type": "execute_result"
    }
   ],
   "source": [
    "## DAUM 로그인\n",
    "\n",
    "import json\n",
    "\n",
    "with open(\"../account.json\",\"r\", encoding=\"utf-8\") as fp :\n",
    "    account = json.load(fp)\n",
    "\n",
    "account[\"id\"]\n"
   ]
  },
  {
   "cell_type": "code",
   "execution_count": 227,
   "metadata": {},
   "outputs": [
    {
     "name": "stdout",
     "output_type": "stream",
     "text": [
      "\n",
      "Checking for win32 chromedriver:74.0.3729.6 in cache\n",
      "Driver found in C:\\Users\\USER\\.wdm\\chromedriver\\74.0.3729.6\\win32/chromedriver.exe\n"
     ]
    }
   ],
   "source": [
    "from selenium import webdriver\n",
    "\n",
    "browser = webdriver.Chrome(ChromeDriverManager().install())\n",
    "\n",
    "url = \"https://logins.daum.net/accounts/signinform.do?url=http%3A%2F%2Fmail.daum.net%2F\"\n",
    "browser.get(url)"
   ]
  },
  {
   "cell_type": "code",
   "execution_count": 228,
   "metadata": {},
   "outputs": [],
   "source": [
    "browser.find_element_by_xpath(\"//input[@id='id']\").clear()\n",
    "browser.find_element_by_id(\"inputPwd\").clear()\n",
    "browser.find_element_by_name(\"id\").send_keys(account[\"id\"])\n",
    "browser.find_element_by_css_selector(\"#inputPwd\").send_keys(account[\"pw\"])"
   ]
  },
  {
   "cell_type": "code",
   "execution_count": 229,
   "metadata": {},
   "outputs": [],
   "source": [
    "browser.find_element_by_id(\"loginBtn\").click()"
   ]
  },
  {
   "cell_type": "code",
   "execution_count": 230,
   "metadata": {},
   "outputs": [
    {
     "name": "stderr",
     "output_type": "stream",
     "text": [
      "C:\\Users\\USER\\Anaconda3\\lib\\site-packages\\ipykernel_launcher.py:1: DeprecationWarning: use driver.switch_to.default_content instead\n",
      "  \"\"\"Entry point for launching an IPython kernel.\n"
     ]
    }
   ],
   "source": [
    "browser.switch_to_default_content()"
   ]
  },
  {
   "cell_type": "code",
   "execution_count": 231,
   "metadata": {},
   "outputs": [],
   "source": [
    "browser.get(\"https://www.kt.com\")"
   ]
  },
  {
   "cell_type": "code",
   "execution_count": 232,
   "metadata": {},
   "outputs": [
    {
     "name": "stderr",
     "output_type": "stream",
     "text": [
      "C:\\Users\\USER\\Anaconda3\\lib\\site-packages\\ipykernel_launcher.py:1: DeprecationWarning: use driver.switch_to.window instead\n",
      "  \"\"\"Entry point for launching an IPython kernel.\n"
     ]
    }
   ],
   "source": [
    "browser.switch_to_window(browser.window_handles[-1])"
   ]
  },
  {
   "cell_type": "code",
   "execution_count": 233,
   "metadata": {},
   "outputs": [
    {
     "name": "stderr",
     "output_type": "stream",
     "text": [
      "C:\\Users\\USER\\Anaconda3\\lib\\site-packages\\ipykernel_launcher.py:1: DeprecationWarning: use driver.switch_to.window instead\n",
      "  \"\"\"Entry point for launching an IPython kernel.\n"
     ]
    }
   ],
   "source": [
    "browser.switch_to_window(browser.window_handles[0])"
   ]
  },
  {
   "cell_type": "code",
   "execution_count": null,
   "metadata": {},
   "outputs": [],
   "source": []
  },
  {
   "cell_type": "code",
   "execution_count": 218,
   "metadata": {},
   "outputs": [
    {
     "ename": "WebDriverException",
     "evalue": "Message: invalid session id\n  (Driver info: chromedriver=74.0.3729.6 (255758eccf3d244491b8a1317aa76e1ce10d57e9-refs/branch-heads/3729@{#29}),platform=Windows NT 10.0.17763 x86_64)\n",
     "output_type": "error",
     "traceback": [
      "\u001b[1;31m---------------------------------------------------------------------------\u001b[0m",
      "\u001b[1;31mWebDriverException\u001b[0m                        Traceback (most recent call last)",
      "\u001b[1;32m<ipython-input-218-63e8525b2200>\u001b[0m in \u001b[0;36m<module>\u001b[1;34m\u001b[0m\n\u001b[0;32m      1\u001b[0m \u001b[0mbrowser\u001b[0m\u001b[1;33m.\u001b[0m\u001b[0mclose\u001b[0m\u001b[1;33m(\u001b[0m\u001b[1;33m)\u001b[0m\u001b[1;33m\u001b[0m\u001b[1;33m\u001b[0m\u001b[0m\n\u001b[1;32m----> 2\u001b[1;33m \u001b[0mbrowser\u001b[0m\u001b[1;33m.\u001b[0m\u001b[0mwindow_handles\u001b[0m\u001b[1;33m\u001b[0m\u001b[1;33m\u001b[0m\u001b[0m\n\u001b[0m",
      "\u001b[1;32m~\\Anaconda3\\lib\\site-packages\\selenium\\webdriver\\remote\\webdriver.py\u001b[0m in \u001b[0;36mwindow_handles\u001b[1;34m(self)\u001b[0m\n\u001b[0;32m    724\u001b[0m             \u001b[1;32mreturn\u001b[0m \u001b[0mself\u001b[0m\u001b[1;33m.\u001b[0m\u001b[0mexecute\u001b[0m\u001b[1;33m(\u001b[0m\u001b[0mCommand\u001b[0m\u001b[1;33m.\u001b[0m\u001b[0mW3C_GET_WINDOW_HANDLES\u001b[0m\u001b[1;33m)\u001b[0m\u001b[1;33m[\u001b[0m\u001b[1;34m'value'\u001b[0m\u001b[1;33m]\u001b[0m\u001b[1;33m\u001b[0m\u001b[1;33m\u001b[0m\u001b[0m\n\u001b[0;32m    725\u001b[0m         \u001b[1;32melse\u001b[0m\u001b[1;33m:\u001b[0m\u001b[1;33m\u001b[0m\u001b[1;33m\u001b[0m\u001b[0m\n\u001b[1;32m--> 726\u001b[1;33m             \u001b[1;32mreturn\u001b[0m \u001b[0mself\u001b[0m\u001b[1;33m.\u001b[0m\u001b[0mexecute\u001b[0m\u001b[1;33m(\u001b[0m\u001b[0mCommand\u001b[0m\u001b[1;33m.\u001b[0m\u001b[0mGET_WINDOW_HANDLES\u001b[0m\u001b[1;33m)\u001b[0m\u001b[1;33m[\u001b[0m\u001b[1;34m'value'\u001b[0m\u001b[1;33m]\u001b[0m\u001b[1;33m\u001b[0m\u001b[1;33m\u001b[0m\u001b[0m\n\u001b[0m\u001b[0;32m    727\u001b[0m \u001b[1;33m\u001b[0m\u001b[0m\n\u001b[0;32m    728\u001b[0m     \u001b[1;32mdef\u001b[0m \u001b[0mmaximize_window\u001b[0m\u001b[1;33m(\u001b[0m\u001b[0mself\u001b[0m\u001b[1;33m)\u001b[0m\u001b[1;33m:\u001b[0m\u001b[1;33m\u001b[0m\u001b[1;33m\u001b[0m\u001b[0m\n",
      "\u001b[1;32m~\\Anaconda3\\lib\\site-packages\\selenium\\webdriver\\remote\\webdriver.py\u001b[0m in \u001b[0;36mexecute\u001b[1;34m(self, driver_command, params)\u001b[0m\n\u001b[0;32m    319\u001b[0m         \u001b[0mresponse\u001b[0m \u001b[1;33m=\u001b[0m \u001b[0mself\u001b[0m\u001b[1;33m.\u001b[0m\u001b[0mcommand_executor\u001b[0m\u001b[1;33m.\u001b[0m\u001b[0mexecute\u001b[0m\u001b[1;33m(\u001b[0m\u001b[0mdriver_command\u001b[0m\u001b[1;33m,\u001b[0m \u001b[0mparams\u001b[0m\u001b[1;33m)\u001b[0m\u001b[1;33m\u001b[0m\u001b[1;33m\u001b[0m\u001b[0m\n\u001b[0;32m    320\u001b[0m         \u001b[1;32mif\u001b[0m \u001b[0mresponse\u001b[0m\u001b[1;33m:\u001b[0m\u001b[1;33m\u001b[0m\u001b[1;33m\u001b[0m\u001b[0m\n\u001b[1;32m--> 321\u001b[1;33m             \u001b[0mself\u001b[0m\u001b[1;33m.\u001b[0m\u001b[0merror_handler\u001b[0m\u001b[1;33m.\u001b[0m\u001b[0mcheck_response\u001b[0m\u001b[1;33m(\u001b[0m\u001b[0mresponse\u001b[0m\u001b[1;33m)\u001b[0m\u001b[1;33m\u001b[0m\u001b[1;33m\u001b[0m\u001b[0m\n\u001b[0m\u001b[0;32m    322\u001b[0m             response['value'] = self._unwrap_value(\n\u001b[0;32m    323\u001b[0m                 response.get('value', None))\n",
      "\u001b[1;32m~\\Anaconda3\\lib\\site-packages\\selenium\\webdriver\\remote\\errorhandler.py\u001b[0m in \u001b[0;36mcheck_response\u001b[1;34m(self, response)\u001b[0m\n\u001b[0;32m    240\u001b[0m                 \u001b[0malert_text\u001b[0m \u001b[1;33m=\u001b[0m \u001b[0mvalue\u001b[0m\u001b[1;33m[\u001b[0m\u001b[1;34m'alert'\u001b[0m\u001b[1;33m]\u001b[0m\u001b[1;33m.\u001b[0m\u001b[0mget\u001b[0m\u001b[1;33m(\u001b[0m\u001b[1;34m'text'\u001b[0m\u001b[1;33m)\u001b[0m\u001b[1;33m\u001b[0m\u001b[1;33m\u001b[0m\u001b[0m\n\u001b[0;32m    241\u001b[0m             \u001b[1;32mraise\u001b[0m \u001b[0mexception_class\u001b[0m\u001b[1;33m(\u001b[0m\u001b[0mmessage\u001b[0m\u001b[1;33m,\u001b[0m \u001b[0mscreen\u001b[0m\u001b[1;33m,\u001b[0m \u001b[0mstacktrace\u001b[0m\u001b[1;33m,\u001b[0m \u001b[0malert_text\u001b[0m\u001b[1;33m)\u001b[0m\u001b[1;33m\u001b[0m\u001b[1;33m\u001b[0m\u001b[0m\n\u001b[1;32m--> 242\u001b[1;33m         \u001b[1;32mraise\u001b[0m \u001b[0mexception_class\u001b[0m\u001b[1;33m(\u001b[0m\u001b[0mmessage\u001b[0m\u001b[1;33m,\u001b[0m \u001b[0mscreen\u001b[0m\u001b[1;33m,\u001b[0m \u001b[0mstacktrace\u001b[0m\u001b[1;33m)\u001b[0m\u001b[1;33m\u001b[0m\u001b[1;33m\u001b[0m\u001b[0m\n\u001b[0m\u001b[0;32m    243\u001b[0m \u001b[1;33m\u001b[0m\u001b[0m\n\u001b[0;32m    244\u001b[0m     \u001b[1;32mdef\u001b[0m \u001b[0m_value_or_default\u001b[0m\u001b[1;33m(\u001b[0m\u001b[0mself\u001b[0m\u001b[1;33m,\u001b[0m \u001b[0mobj\u001b[0m\u001b[1;33m,\u001b[0m \u001b[0mkey\u001b[0m\u001b[1;33m,\u001b[0m \u001b[0mdefault\u001b[0m\u001b[1;33m)\u001b[0m\u001b[1;33m:\u001b[0m\u001b[1;33m\u001b[0m\u001b[1;33m\u001b[0m\u001b[0m\n",
      "\u001b[1;31mWebDriverException\u001b[0m: Message: invalid session id\n  (Driver info: chromedriver=74.0.3729.6 (255758eccf3d244491b8a1317aa76e1ce10d57e9-refs/branch-heads/3729@{#29}),platform=Windows NT 10.0.17763 x86_64)\n"
     ]
    }
   ],
   "source": [
    "browser.close()\n",
    "browser.window_handles"
   ]
  },
  {
   "cell_type": "code",
   "execution_count": null,
   "metadata": {},
   "outputs": [],
   "source": [
    "# 프로젝트 => 검색엔진(데이터), 문서분류, 스팸분류, 감성분석\n",
    "#    for 검색엔진(데이터), 문서분류\n",
    "#    다음, 네이트 뉴스\n",
    "#    경로, 제목, 요약\n",
    "# => 파일경로, 기사제목, 내용\n",
    "# 파일경로 => 고유번호 + 카테고리(6)\n",
    "\n",
    "# 정치 - 몇번째뉴스.txt 저장 ..."
   ]
  }
 ],
 "metadata": {
  "kernelspec": {
   "display_name": "Python 3",
   "language": "python",
   "name": "python3"
  },
  "language_info": {
   "codemirror_mode": {
    "name": "ipython",
    "version": 3
   },
   "file_extension": ".py",
   "mimetype": "text/x-python",
   "name": "python",
   "nbconvert_exporter": "python",
   "pygments_lexer": "ipython3",
   "version": "3.7.3"
  }
 },
 "nbformat": 4,
 "nbformat_minor": 2
}
