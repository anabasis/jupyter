{
 "cells": [
  {
   "cell_type": "code",
   "execution_count": 1,
   "metadata": {},
   "outputs": [
    {
     "name": "stdout",
     "output_type": "stream",
     "text": [
      "(2, 2)\n"
     ]
    }
   ],
   "source": [
    "# Evaluation\n",
    "\n",
    "from sklearn.metrics import confusion_matrix\n",
    "\n",
    "# 0 : non-spam, 1 : spam\n",
    "trueY = [1,1,1,1,1,0,0,0,0,0]\n",
    "predY = [0,1,1,1,0,0,0,0,0,1]\n",
    "result = confusion_matrix(trueY, predY) # 우리가 아는 행과 열이 바뀜\n",
    "\n",
    "print(result.shape)\n"
   ]
  },
  {
   "cell_type": "code",
   "execution_count": 2,
   "metadata": {},
   "outputs": [
    {
     "name": "stdout",
     "output_type": "stream",
     "text": [
      "[[4 2]\n",
      " [1 3]]\n",
      "Precesion :  0 0.6666666666666666\n",
      "Recall :  0 0.8\n",
      "F1-Score :  0 0.7272727272727272\n",
      "Precesion :  1 0.75\n",
      "Recall :  1 0.6\n",
      "F1-Score :  1 0.6666666666666665\n",
      "Accuracy :  1 0.7\n",
      "10\n"
     ]
    }
   ],
   "source": [
    "# 열 => Actural\n",
    "# 행 => Predicton\n",
    "#             Actual\n",
    "#             0    1\n",
    "# Predict 0\n",
    "#         1\n",
    "print(result.T)\n",
    "\n",
    "total = result.sum()\n",
    "_sum = 0\n",
    "for i in range(result.T.shape[0]):\n",
    "    P = result[i,i]/result[:,i].sum()\n",
    "    R = result[i,i]/result[i].sum()\n",
    "    _sum += result[i,i]\n",
    "    print(\"Precesion : \", i, P)\n",
    "    print(\"Recall : \", i, R)\n",
    "    print(\"F1-Score : \", i, 2 * P * R / (P+R))\n",
    "\n",
    "print(\"Accuracy : \", i, _sum/total)\n",
    "print(total)  # 10\n"
   ]
  },
  {
   "cell_type": "code",
   "execution_count": 3,
   "metadata": {},
   "outputs": [
    {
     "name": "stdout",
     "output_type": "stream",
     "text": [
      "              precision    recall  f1-score   support\n",
      "\n",
      "           0       0.67      0.80      0.73         5\n",
      "           1       0.75      0.60      0.67         5\n",
      "\n",
      "   micro avg       0.70      0.70      0.70        10\n",
      "   macro avg       0.71      0.70      0.70        10\n",
      "weighted avg       0.71      0.70      0.70        10\n",
      "\n"
     ]
    }
   ],
   "source": [
    "from sklearn.metrics import  classification_report\n",
    "print(classification_report(trueY, predY))\n",
    "\n",
    "\n",
    "########################################################################################################################\n",
    "# trueY = [2,0,2,2,0,1]\n",
    "# predY = [0,0,2,2,0,2]\n",
    "# confusion matrix\n",
    "#              predict\n",
    "# Actual  0    1    2\n",
    "#      0  2    0    0\n",
    "#      1  0    0    1\n",
    "#      2  1    0    2\n",
    "\n",
    "# 문제\n",
    "# Class0 : P=2/3,  R=2/2, F1=\n",
    "# Class1 : P=0/0,  R=0/1, F1=\n",
    "# Class2 : P=2/3,  R=2/3, F1=\n",
    "# 모델의 전체 평균 P = (P+P+P)/3 or 4/6\n",
    "#                  R = (P+P+P)/3 or 4/6"
   ]
  },
  {
   "cell_type": "code",
   "execution_count": null,
   "metadata": {},
   "outputs": [],
   "source": []
  }
 ],
 "metadata": {
  "kernelspec": {
   "display_name": "Python 3",
   "language": "python",
   "name": "python3"
  },
  "language_info": {
   "codemirror_mode": {
    "name": "ipython",
    "version": 3
   },
   "file_extension": ".py",
   "mimetype": "text/x-python",
   "name": "python",
   "nbconvert_exporter": "python",
   "pygments_lexer": "ipython3",
   "version": "3.7.3"
  }
 },
 "nbformat": 4,
 "nbformat_minor": 2
}
