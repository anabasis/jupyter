{
 "cells": [
  {
   "cell_type": "code",
   "execution_count": 1,
   "metadata": {},
   "outputs": [
    {
     "name": "stdout",
     "output_type": "stream",
     "text": [
      "Collecting builtwith\n",
      "  Downloading https://files.pythonhosted.org/packages/9b/b8/4a320be83bb3c9c1b3ac3f9469a5d66e02918e20d226aa97a3e86bddd130/builtwith-1.3.3.tar.gz\n",
      "Requirement already satisfied: six in d:\\edu\\lib\\site-packages (from builtwith) (1.12.0)\n",
      "Building wheels for collected packages: builtwith\n",
      "  Building wheel for builtwith (setup.py): started\n",
      "  Building wheel for builtwith (setup.py): finished with status 'done'\n",
      "  Stored in directory: C:\\Users\\USER\\AppData\\Local\\pip\\Cache\\wheels\\2b\\00\\c2\\a96241e7fe520e75093898bf926764a924873e0304f10b2524\n",
      "Successfully built builtwith\n",
      "Installing collected packages: builtwith\n",
      "Successfully installed builtwith-1.3.3\n"
     ]
    }
   ],
   "source": [
    "!pip install builtwith "
   ]
  },
  {
   "cell_type": "code",
   "execution_count": 3,
   "metadata": {},
   "outputs": [
    {
     "data": {
      "text/plain": [
       "{'web-servers': ['Nginx'],\n",
       " 'font-scripts': ['Google Font API'],\n",
       " 'ecommerce': ['WooCommerce'],\n",
       " 'cms': ['WordPress'],\n",
       " 'programming-languages': ['PHP'],\n",
       " 'blogs': ['PHP', 'WordPress']}"
      ]
     },
     "execution_count": 3,
     "metadata": {},
     "output_type": "execute_result"
    }
   ],
   "source": [
    "from builtwith import builtwith\n",
    "\n",
    "builtwith(\"http://www.wrodpress.com\")"
   ]
  },
  {
   "cell_type": "code",
   "execution_count": 4,
   "metadata": {},
   "outputs": [
    {
     "data": {
      "text/plain": [
       "{'cdn': ['CloudFlare'],\n",
       " 'javascript-frameworks': ['Modernizr', 'jQuery'],\n",
       " 'cms': ['WordPress'],\n",
       " 'programming-languages': ['PHP'],\n",
       " 'blogs': ['PHP', 'WordPress']}"
      ]
     },
     "execution_count": 4,
     "metadata": {},
     "output_type": "execute_result"
    }
   ],
   "source": [
    "builtwith(\"http://jquery.com\")"
   ]
  },
  {
   "cell_type": "code",
   "execution_count": 5,
   "metadata": {},
   "outputs": [
    {
     "data": {
      "text/plain": [
       "{'javascript-frameworks': ['Prototype', 'RequireJS', 'jQuery']}"
      ]
     },
     "execution_count": 5,
     "metadata": {},
     "output_type": "execute_result"
    }
   ],
   "source": [
    "builtwith(\"http://microsoft.com\")"
   ]
  },
  {
   "cell_type": "code",
   "execution_count": 6,
   "metadata": {},
   "outputs": [
    {
     "data": {
      "text/plain": [
       "{'web-servers': ['Apache'],\n",
       " 'font-scripts': ['Font Awesome'],\n",
       " 'tag-managers': ['Google Tag Manager'],\n",
       " 'web-frameworks': ['Twitter Bootstrap'],\n",
       " 'javascript-frameworks': ['jQuery']}"
      ]
     },
     "execution_count": 6,
     "metadata": {},
     "output_type": "execute_result"
    }
   ],
   "source": [
    "builtwith(\"http://joomla.com\")"
   ]
  },
  {
   "cell_type": "code",
   "execution_count": 7,
   "metadata": {},
   "outputs": [
    {
     "name": "stdout",
     "output_type": "stream",
     "text": [
      "Collecting python-whois\n",
      "  Downloading https://files.pythonhosted.org/packages/3e/32/3a7fa80b485f4a1c41492c062396441f2abf28865bb65d069c228af165f7/python-whois-0.7.1.tar.gz (83kB)\n",
      "Requirement already satisfied: future in d:\\edu\\lib\\site-packages (from python-whois) (0.17.1)\n",
      "Building wheels for collected packages: python-whois\n",
      "  Building wheel for python-whois (setup.py): started\n",
      "  Building wheel for python-whois (setup.py): finished with status 'done'\n",
      "  Stored in directory: C:\\Users\\USER\\AppData\\Local\\pip\\Cache\\wheels\\09\\69\\68\\dc484fdb90e36236630beafa07b21644b4280ce3ebd5f8b4b9\n",
      "Successfully built python-whois\n",
      "Installing collected packages: python-whois\n",
      "Successfully installed python-whois-0.7.1\n"
     ]
    }
   ],
   "source": [
    "!pip install python-whois"
   ]
  },
  {
   "cell_type": "code",
   "execution_count": 9,
   "metadata": {},
   "outputs": [
    {
     "data": {
      "text/plain": [
       "{'domain_name': ['GOOGLE.COM', 'google.com'],\n",
       " 'registrar': 'MarkMonitor, Inc.',\n",
       " 'whois_server': 'whois.markmonitor.com',\n",
       " 'referral_url': None,\n",
       " 'updated_date': [datetime.datetime(2018, 2, 21, 18, 36, 40),\n",
       "  datetime.datetime(2018, 2, 21, 10, 45, 7)],\n",
       " 'creation_date': [datetime.datetime(1997, 9, 15, 4, 0),\n",
       "  datetime.datetime(1997, 9, 15, 0, 0)],\n",
       " 'expiration_date': [datetime.datetime(2020, 9, 14, 4, 0),\n",
       "  datetime.datetime(2020, 9, 13, 21, 0)],\n",
       " 'name_servers': ['NS1.GOOGLE.COM',\n",
       "  'NS2.GOOGLE.COM',\n",
       "  'NS3.GOOGLE.COM',\n",
       "  'NS4.GOOGLE.COM',\n",
       "  'ns2.google.com',\n",
       "  'ns3.google.com',\n",
       "  'ns4.google.com',\n",
       "  'ns1.google.com'],\n",
       " 'status': ['clientDeleteProhibited https://icann.org/epp#clientDeleteProhibited',\n",
       "  'clientTransferProhibited https://icann.org/epp#clientTransferProhibited',\n",
       "  'clientUpdateProhibited https://icann.org/epp#clientUpdateProhibited',\n",
       "  'serverDeleteProhibited https://icann.org/epp#serverDeleteProhibited',\n",
       "  'serverTransferProhibited https://icann.org/epp#serverTransferProhibited',\n",
       "  'serverUpdateProhibited https://icann.org/epp#serverUpdateProhibited',\n",
       "  'clientUpdateProhibited (https://www.icann.org/epp#clientUpdateProhibited)',\n",
       "  'clientTransferProhibited (https://www.icann.org/epp#clientTransferProhibited)',\n",
       "  'clientDeleteProhibited (https://www.icann.org/epp#clientDeleteProhibited)',\n",
       "  'serverUpdateProhibited (https://www.icann.org/epp#serverUpdateProhibited)',\n",
       "  'serverTransferProhibited (https://www.icann.org/epp#serverTransferProhibited)',\n",
       "  'serverDeleteProhibited (https://www.icann.org/epp#serverDeleteProhibited)'],\n",
       " 'emails': ['abusecomplaints@markmonitor.com', 'whoisrequest@markmonitor.com'],\n",
       " 'dnssec': 'unsigned',\n",
       " 'name': None,\n",
       " 'org': 'Google LLC',\n",
       " 'address': None,\n",
       " 'city': None,\n",
       " 'state': 'CA',\n",
       " 'zipcode': None,\n",
       " 'country': 'US'}"
      ]
     },
     "execution_count": 9,
     "metadata": {},
     "output_type": "execute_result"
    }
   ],
   "source": [
    "from whois import whois\n",
    "\n",
    "whois(\"http://www.google.com\")"
   ]
  },
  {
   "cell_type": "code",
   "execution_count": 10,
   "metadata": {},
   "outputs": [
    {
     "data": {
      "text/plain": [
       "{'domain_name': ['NAVER.COM', 'naver.com'],\n",
       " 'registrar': 'Gabia, Inc.',\n",
       " 'whois_server': 'whois.gabia.com',\n",
       " 'referral_url': None,\n",
       " 'updated_date': [datetime.datetime(2016, 8, 5, 6, 37, 57),\n",
       "  datetime.datetime(2018, 2, 28, 11, 27, 15)],\n",
       " 'creation_date': [datetime.datetime(1997, 9, 12, 4, 0),\n",
       "  datetime.datetime(1997, 9, 12, 0, 0)],\n",
       " 'expiration_date': [datetime.datetime(2023, 9, 11, 4, 0),\n",
       "  datetime.datetime(2023, 9, 11, 0, 0)],\n",
       " 'name_servers': ['NS1.NAVER.COM',\n",
       "  'NS2.NAVER.COM',\n",
       "  'ns1.naver.com',\n",
       "  'ns2.naver.com'],\n",
       " 'status': ['clientDeleteProhibited https://icann.org/epp#clientDeleteProhibited',\n",
       "  'clientTransferProhibited https://icann.org/epp#clientTransferProhibited',\n",
       "  'clientUpdateProhibited https://icann.org/epp#clientUpdateProhibited',\n",
       "  'ok https://icann.org/epp#ok'],\n",
       " 'emails': ['white.4818@navercorp.com',\n",
       "  'dl_ssl@navercorp.com',\n",
       "  'abuse@gabia.com'],\n",
       " 'dnssec': 'unsigned',\n",
       " 'name': 'NAVER Corp.',\n",
       " 'org': 'NAVER Corp.',\n",
       " 'address': '6 Buljung-ro, Bundang-gu, Seongnam-si, Gyeonggi-do, 463-867, Korea',\n",
       " 'city': 'Gyeonggi',\n",
       " 'state': None,\n",
       " 'zipcode': '463463',\n",
       " 'country': 'KR'}"
      ]
     },
     "execution_count": 10,
     "metadata": {},
     "output_type": "execute_result"
    }
   ],
   "source": [
    "whois(\"http://www.naver.com\")"
   ]
  },
  {
   "cell_type": "code",
   "execution_count": 11,
   "metadata": {},
   "outputs": [
    {
     "data": {
      "text/plain": [
       "{'domain_name': ['JOOMLA.COM', 'joomla.com'],\n",
       " 'registrar': 'GoDaddy.com, LLC',\n",
       " 'whois_server': 'whois.godaddy.com',\n",
       " 'referral_url': None,\n",
       " 'updated_date': [datetime.datetime(2018, 6, 5, 11, 33, 7),\n",
       "  datetime.datetime(2017, 5, 24, 21, 3, 40)],\n",
       " 'creation_date': datetime.datetime(2005, 8, 21, 9, 9, 46),\n",
       " 'expiration_date': datetime.datetime(2020, 5, 1, 11, 59, 59),\n",
       " 'name_servers': ['NS1.GRIDFAST.NET', 'NS2.GRIDFAST.NET'],\n",
       " 'status': ['clientDeleteProhibited https://icann.org/epp#clientDeleteProhibited',\n",
       "  'clientRenewProhibited https://icann.org/epp#clientRenewProhibited',\n",
       "  'clientTransferProhibited https://icann.org/epp#clientTransferProhibited',\n",
       "  'clientUpdateProhibited https://icann.org/epp#clientUpdateProhibited',\n",
       "  'clientTransferProhibited http://www.icann.org/epp#clientTransferProhibited',\n",
       "  'clientUpdateProhibited http://www.icann.org/epp#clientUpdateProhibited',\n",
       "  'clientRenewProhibited http://www.icann.org/epp#clientRenewProhibited',\n",
       "  'clientDeleteProhibited http://www.icann.org/epp#clientDeleteProhibited'],\n",
       " 'emails': ['abuse@godaddy.com', 'joomla.com@domainsbyproxy.com'],\n",
       " 'dnssec': 'unsigned',\n",
       " 'name': 'Registration Private',\n",
       " 'org': 'Domains By Proxy, LLC',\n",
       " 'address': ['DomainsByProxy.com', '14455 N. Hayden Road'],\n",
       " 'city': 'Scottsdale',\n",
       " 'state': 'Arizona',\n",
       " 'zipcode': '85260',\n",
       " 'country': 'US'}"
      ]
     },
     "execution_count": 11,
     "metadata": {},
     "output_type": "execute_result"
    }
   ],
   "source": [
    "whois(\"http://www.joomla.com\")"
   ]
  },
  {
   "cell_type": "code",
   "execution_count": 12,
   "metadata": {},
   "outputs": [
    {
     "data": {
      "text/plain": [
       "{'domain_name': ['JQUERY.COM', 'jquery.com'],\n",
       " 'registrar': 'NAMECHEAP INC',\n",
       " 'whois_server': 'whois.namecheap.com',\n",
       " 'referral_url': None,\n",
       " 'updated_date': datetime.datetime(2018, 2, 10, 5, 18, 57),\n",
       " 'creation_date': datetime.datetime(2005, 12, 10, 23, 1, 26),\n",
       " 'expiration_date': datetime.datetime(2019, 12, 8, 16, 5, 47),\n",
       " 'name_servers': ['GEORGE.NS.CLOUDFLARE.COM',\n",
       "  'LARA.NS.CLOUDFLARE.COM',\n",
       "  'lara.ns.cloudflare.com',\n",
       "  'george.ns.cloudflare.com'],\n",
       " 'status': 'clientTransferProhibited https://icann.org/epp#clientTransferProhibited',\n",
       " 'emails': ['abuse@namecheap.com',\n",
       "  '58c8715e8629448bb3288e07128fa508.protect@whoisguard.com'],\n",
       " 'dnssec': 'unsigned',\n",
       " 'name': 'WhoisGuard Protected',\n",
       " 'org': 'WhoisGuard, Inc.',\n",
       " 'address': 'P.O. Box 0823-03411',\n",
       " 'city': 'Panama',\n",
       " 'state': 'Panama',\n",
       " 'zipcode': None,\n",
       " 'country': 'PA'}"
      ]
     },
     "execution_count": 12,
     "metadata": {},
     "output_type": "execute_result"
    }
   ],
   "source": [
    "whois(\"http://www.jquery.com\")"
   ]
  },
  {
   "cell_type": "code",
   "execution_count": null,
   "metadata": {},
   "outputs": [],
   "source": []
  }
 ],
 "metadata": {
  "kernelspec": {
   "display_name": "Python 3",
   "language": "python",
   "name": "python3"
  },
  "language_info": {
   "codemirror_mode": {
    "name": "ipython",
    "version": 3
   },
   "file_extension": ".py",
   "mimetype": "text/x-python",
   "name": "python",
   "nbconvert_exporter": "python",
   "pygments_lexer": "ipython3",
   "version": "3.7.3"
  }
 },
 "nbformat": 4,
 "nbformat_minor": 2
}
