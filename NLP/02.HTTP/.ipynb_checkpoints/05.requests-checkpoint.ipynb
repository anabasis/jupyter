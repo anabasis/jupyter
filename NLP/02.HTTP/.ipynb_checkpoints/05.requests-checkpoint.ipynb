{
 "cells": [
  {
   "cell_type": "code",
   "execution_count": 2,
   "metadata": {},
   "outputs": [],
   "source": [
    "import requests\n",
    "\n",
    "#resp = requests.request(\"get\",\"http://httpbin.org/get\", params={\"key\":\"value\"})\n",
    "resp = requests.request(\"get\",\"http://httpbin.org/get\", params={\"key\":\"value\"})"
   ]
  },
  {
   "cell_type": "code",
   "execution_count": 9,
   "metadata": {},
   "outputs": [
    {
     "data": {
      "text/plain": [
       "(200,\n",
       " {'Access-Control-Allow-Credentials': 'true', 'Access-Control-Allow-Origin': '*', 'Content-Encoding': 'gzip', 'Content-Type': 'application/json', 'Date': 'Thu, 02 May 2019 10:29:26 GMT', 'Referrer-Policy': 'no-referrer-when-downgrade', 'Server': 'nginx', 'X-Content-Type-Options': 'nosniff', 'X-Frame-Options': 'DENY', 'X-XSS-Protection': '1; mode=block', 'Content-Length': '198', 'Connection': 'keep-alive'},\n",
       " b'{\\n  \"args\": {\\n    \"key\": \"value\"\\n  }, \\n  \"headers\": {\\n    \"Accept\": \"*/*\", \\n    \"Accept-Encoding\": \"gzip, deflate\", \\n    \"Host\": \"httpbin.org\", \\n    \"User-Agent\": \"python-requests/2.21.0\"\\n  }, \\n  \"origin\": \"115.91.55.67, 115.91.55.67\", \\n  \"url\": \"https://httpbin.org/get?key=value\"\\n}\\n')"
      ]
     },
     "execution_count": 9,
     "metadata": {},
     "output_type": "execute_result"
    }
   ],
   "source": [
    "resp.status_code, resp.headers, resp.content"
   ]
  },
  {
   "cell_type": "code",
   "execution_count": null,
   "metadata": {},
   "outputs": [],
   "source": []
  },
  {
   "cell_type": "code",
   "execution_count": 18,
   "metadata": {},
   "outputs": [
    {
     "data": {
      "text/plain": [
       "'value'"
      ]
     },
     "execution_count": 18,
     "metadata": {},
     "output_type": "execute_result"
    }
   ],
   "source": [
    "import json\n",
    "\n",
    "result = json.loads(resp.content)\n",
    "result\n",
    "result[\"args\"][\"key\"]"
   ]
  },
  {
   "cell_type": "code",
   "execution_count": 5,
   "metadata": {},
   "outputs": [],
   "source": [
    "import requests\n",
    "# 200 => OK\n",
    "# 400 => My Fault\n",
    "# 500 => You Fault => Traffic 과도하게 증가\n",
    "header={\"User-Agent\":\"Mozilla/5.0 (Windows NT 10.0; WOW64; Trident/7.0; rv:11.0) like Gecko\"}\n",
    "\n",
    "def download(url, params ={}, retries = 3) :\n",
    "    resp = None\n",
    "    try :\n",
    "        resp = requests.get(url, params = params, headers = header)\n",
    "        resp.raise_for_status()\n",
    "    except requests.exceptions.HTTPError as e :\n",
    "        if 500 <= e.response.status_code < 600 and retries > 0:\n",
    "            print(retries)\n",
    "            resp = download(url, params, retries - 1)\n",
    "        else :\n",
    "            print(e.response.status_code)\n",
    "            print(e.response.reason)\n",
    "            print(e.response.headers)\n",
    "    \n",
    "    return resp"
   ]
  },
  {
   "cell_type": "code",
   "execution_count": 38,
   "metadata": {},
   "outputs": [
    {
     "data": {
      "text/plain": [
       "('{\\n  \"args\": {\\n    \"Key\": \"Values\"\\n  }, \\n  \"headers\": {\\n    \"Accept\": \"*/*\", \\n    \"Accept-Encoding\": \"gzip, deflate\", \\n    \"Host\": \"httpbin.org\", \\n    \"User-Agent\": \"Mozilla/5.0 (Windows NT 10.0; WOW64; Trident/7.0; rv:11.0) like Gecko\"\\n  }, \\n  \"origin\": \"115.91.55.67, 115.91.55.67\", \\n  \"url\": \"https://httpbin.org/get?Key=Values\"\\n}\\n',\n",
       " b'{\\n  \"args\": {\\n    \"Key\": \"Values\"\\n  }, \\n  \"headers\": {\\n    \"Accept\": \"*/*\", \\n    \"Accept-Encoding\": \"gzip, deflate\", \\n    \"Host\": \"httpbin.org\", \\n    \"User-Agent\": \"Mozilla/5.0 (Windows NT 10.0; WOW64; Trident/7.0; rv:11.0) like Gecko\"\\n  }, \\n  \"origin\": \"115.91.55.67, 115.91.55.67\", \\n  \"url\": \"https://httpbin.org/get?Key=Values\"\\n}\\n')"
      ]
     },
     "execution_count": 38,
     "metadata": {},
     "output_type": "execute_result"
    }
   ],
   "source": [
    "html = download(\"http://httpbin.org/get\",{\"Key\":\"Values\"})\n",
    "html.text, html.content"
   ]
  },
  {
   "cell_type": "code",
   "execution_count": 39,
   "metadata": {},
   "outputs": [
    {
     "name": "stdout",
     "output_type": "stream",
     "text": [
      "3\n",
      "2\n",
      "1\n",
      "500\n",
      "Internal Server Error\n",
      "{'Content-Encoding': 'gzip', 'Content-Type': 'text/html', 'Date': 'Thu, 02 May 2019 10:44:32 GMT', 'Server': 'nginx/1.10.3', 'Vary': 'Accept-Encoding', 'X-Content-Type-Options': 'nosniff', 'X-Frame-Options': 'SAMEORIGIN', 'X-XSS-Protection': '1; mode=block', 'Content-Length': '46', 'Connection': 'keep-alive'}\n"
     ]
    },
    {
     "data": {
      "text/plain": [
       "'https://www.crawler-test.com/status_codes/status_숫자'"
      ]
     },
     "execution_count": 39,
     "metadata": {},
     "output_type": "execute_result"
    }
   ],
   "source": [
    "#html = download(\"http://httpbin.org/get\",{\"Key\":\"Values\"})\n",
    "html = download(\"https://www.crawler-test.com/status_codes/status_500\")\n",
    "#html.text, html.content\n",
    "\"https://www.crawler-test.com/status_codes/status_숫자\""
   ]
  },
  {
   "cell_type": "code",
   "execution_count": null,
   "metadata": {},
   "outputs": [],
   "source": [
    "# http://openapi.airkorea.or.kr/openapi/services/rest/ArpltnInforInqireSvc/getMsrstnAcctoRltmMesureDnsty?serviceKey=P1K0cS48gt4CpuycLlpbBV7PULVT7F%2BmMhxwxvLyt3jqNDsCUezMkYggVmmqpmPlz4mdasHQ4o%2BjP3dgUNbC0g%3D%3D&numOfRows=10&pageNo=1&stationName=%EC%A2%85%EB%A1%9C%EA%B5%AC&dataTerm=DAILY&ver=1.3&_returnType=json\n",
    "# &_returnType=json : Default(XML) --> JSON"
   ]
  },
  {
   "cell_type": "code",
   "execution_count": 12,
   "metadata": {},
   "outputs": [],
   "source": [
    "#http://openapi.airkorea.or.kr/openapi/services/rest/ArpltnInforInqireSvc/getMsrstnAcctoRltmMesureDnsty?\n",
    "#    serviceKey=P1K0cS48gt4CpuycLlpbBV7PULVT7F%2BmMhxwxvLyt3jqNDsCUezMkYggVmmqpmPlz4mdasHQ4o%2BjP3dgUNbC0g%3D%3D&\n",
    "#    numOfRows=10&\n",
    "#    pageNo=1&\n",
    "#    stationName=%EC%A2%85%EB%A1%9C%EA%B5%AC&\n",
    "#    dataTerm=DAILY&\n",
    "#    ver=1.3&\n",
    "#    _returnType=json\n",
    "\n",
    "#http://openapi.airkorea.or.kr/openapi/services/rest/ArpltnInforInqireSvc/getCtprvnRltmMesureDnsty?\n",
    "#    serviceKey=P1K0cS48gt4CpuycLlpbBV7PULVT7F%2BmMhxwxvLyt3jqNDsCUezMkYggVmmqpmPlz4mdasHQ4o%2BjP3dgUNbC0g%3D%3D\n",
    "#    &numOfRows=10\n",
    "#    &pageNo=1\n",
    "#    &sidoName=%EC%9D%B8%EC%B2%9C\n",
    "#    &ver=1.3\n",
    "#    _returnType=json\n",
    "\n",
    "url = \"http://openapi.airkorea.or.kr/openapi/services/rest/ArpltnInforInqireSvc/getCtprvnRltmMesureDnsty\"\n",
    "params = {\n",
    "    \"serviceKey\":\"P1K0cS48gt4CpuycLlpbBV7PULVT7F%2BmMhxwxvLyt3jqNDsCUezMkYggVmmqpmPlz4mdasHQ4o%2BjP3dgUNbC0g%3D%3D\",\n",
    "    \"numOfRows\":\"10\",\n",
    "    \"pageNo\":\"1\",\n",
    "    \"sidoName\":\"서울\",\n",
    "    \"ver\":\"1.3\",\n",
    "    \"_returnType\":\"json\"\n",
    "}"
   ]
  },
  {
   "cell_type": "code",
   "execution_count": 15,
   "metadata": {},
   "outputs": [],
   "source": [
    "from requests.utils import quote, unquote\n",
    "# 바이트 변환 -> 유니코드\n",
    "params[\"serviceKey\"] = requests.utils.unquote(params[\"serviceKey\"])"
   ]
  },
  {
   "cell_type": "code",
   "execution_count": 22,
   "metadata": {},
   "outputs": [
    {
     "data": {
      "text/plain": [
       "('{\"list\":[{\"_returnType\":\"json\",\"coGrade\":\"1\",\"coValue\":\"0.4\",\"dataTerm\":\"\",\"dataTime\":\"2019-05-02 20:00\",\"khaiGrade\":\"2\",\"khaiValue\":\"58\",\"mangName\":\"도시대기\",\"no2Grade\":\"2\",\"no2Value\":\"0.031\",\"numOfRows\":\"10\",\"o3Grade\":\"2\",\"o3Value\":\"0.040\",\"pageNo\":\"1\",\"pm10Grade\":\"2\",\"pm10Grade1h\":\"1\",\"pm10Value\":\"26\",\"pm10Value24\":\"36\",\"pm25Grade\":\"1\",\"pm25Grade1h\":\"1\",\"pm25Value\":\"10\",\"pm25Value24\":\"11\",\"resultCode\":\"\",\"resultMsg\":\"\",\"rnum\":0,\"serviceKey\":\"\",\"sidoName\":\"\",\"so2Grade\":\"1\",\"so2Value\":\"0.003\",\"stationCode\":\"\",\"stationName\":\"중구\",\"totalCount\":\"\",\"ver\":\"\"},{\"_returnType\":\"json\",\"coGrade\":\"1\",\"coValue\":\"0.5\",\"dataTerm\":\"\",\"dataTime\":\"2019-05-02 20:00\",\"khaiGrade\":\"2\",\"khaiValue\":\"90\",\"mangName\":\"도로변대기\",\"no2Grade\":\"2\",\"no2Value\":\"0.054\",\"numOfRows\":\"10\",\"o3Grade\":\"1\",\"o3Value\":\"0.019\",\"pageNo\":\"1\",\"pm10Grade\":\"2\",\"pm10Grade1h\":\"2\",\"pm10Value\":\"41\",\"pm10Value24\":\"59\",\"pm25Grade\":\"1\",\"pm25Grade1h\":\"2\",\"pm25Value\":\"16\",\"pm25Value24\":\"15\",\"resultCode\":\"\",\"resultMsg\":\"\",\"rnum\":0,\"serviceKey\":\"\",\"sidoName\":\"\",\"so2Grade\":\"1\",\"so2Value\":\"0.004\",\"stationCode\":\"\",\"stationName\":\"한강대로\",\"totalCount\":\"\",\"ver\":\"\"},{\"_returnType\":\"json\",\"coGrade\":\"1\",\"coValue\":\"0.5\",\"dataTerm\":\"\",\"dataTime\":\"2019-05-02 20:00\",\"khaiGrade\":\"2\",\"khaiValue\":\"59\",\"mangName\":\"도시대기\",\"no2Grade\":\"1\",\"no2Value\":\"0.030\",\"numOfRows\":\"10\",\"o3Grade\":\"2\",\"o3Value\":\"0.034\",\"pageNo\":\"1\",\"pm10Grade\":\"2\",\"pm10Grade1h\":\"1\",\"pm10Value\":\"29\",\"pm10Value24\":\"39\",\"pm25Grade\":\"1\",\"pm25Grade1h\":\"1\",\"pm25Value\":\"11\",\"pm25Value24\":\"12\",\"resultCode\":\"\",\"resultMsg\":\"\",\"rnum\":0,\"serviceKey\":\"\",\"sidoName\":\"\",\"so2Grade\":\"1\",\"so2Value\":\"0.003\",\"stationCode\":\"\",\"stationName\":\"종로구\",\"totalCount\":\"\",\"ver\":\"\"},{\"_returnType\":\"json\",\"coGrade\":\"1\",\"coValue\":\"0.6\",\"dataTerm\":\"\",\"dataTime\":\"2019-05-02 20:00\",\"khaiGrade\":\"2\",\"khaiValue\":\"71\",\"mangName\":\"도로변대기\",\"no2Grade\":\"2\",\"no2Value\":\"0.043\",\"numOfRows\":\"10\",\"o3Grade\":\"1\",\"o3Value\":\"0.027\",\"pageNo\":\"1\",\"pm10Grade\":\"2\",\"pm10Grade1h\":\"1\",\"pm10Value\":\"29\",\"pm10Value24\":\"42\",\"pm25Grade\":\"1\",\"pm25Grade1h\":\"1\",\"pm25Value\":\"12\",\"pm25Value24\":\"14\",\"resultCode\":\"\",\"resultMsg\":\"\",\"rnum\":0,\"serviceKey\":\"\",\"sidoName\":\"\",\"so2Grade\":\"1\",\"so2Value\":\"0.003\",\"stationCode\":\"\",\"stationName\":\"청계천로\",\"totalCount\":\"\",\"ver\":\"\"},{\"_returnType\":\"json\",\"coGrade\":\"1\",\"coValue\":\"0.7\",\"dataTerm\":\"\",\"dataTime\":\"2019-05-02 20:00\",\"khaiGrade\":\"2\",\"khaiValue\":\"73\",\"mangName\":\"도로변대기\",\"no2Grade\":\"2\",\"no2Value\":\"0.044\",\"numOfRows\":\"10\",\"o3Grade\":\"1\",\"o3Value\":\"0.022\",\"pageNo\":\"1\",\"pm10Grade\":\"2\",\"pm10Grade1h\":\"2\",\"pm10Value\":\"32\",\"pm10Value24\":\"42\",\"pm25Grade\":\"1\",\"pm25Grade1h\":\"1\",\"pm25Value\":\"12\",\"pm25Value24\":\"10\",\"resultCode\":\"\",\"resultMsg\":\"\",\"rnum\":0,\"serviceKey\":\"\",\"sidoName\":\"\",\"so2Grade\":\"1\",\"so2Value\":\"0.003\",\"stationCode\":\"\",\"stationName\":\"종로\",\"totalCount\":\"\",\"ver\":\"\"},{\"_returnType\":\"json\",\"coGrade\":\"1\",\"coValue\":\"0.4\",\"dataTerm\":\"\",\"dataTime\":\"2019-05-02 20:00\",\"khaiGrade\":\"2\",\"khaiValue\":\"58\",\"mangName\":\"도시대기\",\"no2Grade\":\"2\",\"no2Value\":\"0.035\",\"numOfRows\":\"10\",\"o3Grade\":\"2\",\"o3Value\":\"0.032\",\"pageNo\":\"1\",\"pm10Grade\":\"2\",\"pm10Grade1h\":\"1\",\"pm10Value\":\"23\",\"pm10Value24\":\"34\",\"pm25Grade\":\"1\",\"pm25Grade1h\":\"1\",\"pm25Value\":\"11\",\"pm25Value24\":\"10\",\"resultCode\":\"\",\"resultMsg\":\"\",\"rnum\":0,\"serviceKey\":\"\",\"sidoName\":\"\",\"so2Grade\":\"1\",\"so2Value\":\"0.003\",\"stationCode\":\"\",\"stationName\":\"용산구\",\"totalCount\":\"\",\"ver\":\"\"},{\"_returnType\":\"json\",\"coGrade\":\"1\",\"coValue\":\"0.5\",\"dataTerm\":\"\",\"dataTime\":\"2019-05-02 20:00\",\"khaiGrade\":\"2\",\"khaiValue\":\"65\",\"mangName\":\"도시대기\",\"no2Grade\":\"1\",\"no2Value\":\"0.028\",\"numOfRows\":\"10\",\"o3Grade\":\"2\",\"o3Value\":\"0.031\",\"pageNo\":\"1\",\"pm10Grade\":\"2\",\"pm10Grade1h\":\"1\",\"pm10Value\":\"26\",\"pm10Value24\":\"45\",\"pm25Grade\":\"1\",\"pm25Grade1h\":\"1\",\"pm25Value\":\"7\",\"pm25Value24\":\"15\",\"resultCode\":\"\",\"resultMsg\":\"\",\"rnum\":0,\"serviceKey\":\"\",\"sidoName\":\"\",\"so2Grade\":\"1\",\"so2Value\":\"0.003\",\"stationCode\":\"\",\"stationName\":\"광진구\",\"totalCount\":\"\",\"ver\":\"\"},{\"_returnType\":\"json\",\"coGrade\":\"1\",\"coValue\":\"0.3\",\"dataTerm\":\"\",\"dataTime\":\"2019-05-02 20:00\",\"khaiGrade\":\"2\",\"khaiValue\":\"68\",\"mangName\":\"도시대기\",\"no2Grade\":\"1\",\"no2Value\":\"0.029\",\"numOfRows\":\"10\",\"o3Grade\":\"2\",\"o3Value\":\"0.041\",\"pageNo\":\"1\",\"pm10Grade\":\"2\",\"pm10Grade1h\":\"1\",\"pm10Value\":\"27\",\"pm10Value24\":\"48\",\"pm25Grade\":\"1\",\"pm25Grade1h\":\"1\",\"pm25Value\":\"7\",\"pm25Value24\":\"10\",\"resultCode\":\"\",\"resultMsg\":\"\",\"rnum\":0,\"serviceKey\":\"\",\"sidoName\":\"\",\"so2Grade\":\"1\",\"so2Value\":\"0.003\",\"stationCode\":\"\",\"stationName\":\"성동구\",\"totalCount\":\"\",\"ver\":\"\"},{\"_returnType\":\"json\",\"coGrade\":\"1\",\"coValue\":\"0.3\",\"dataTerm\":\"\",\"dataTime\":\"2019-05-02 20:00\",\"khaiGrade\":\"2\",\"khaiValue\":\"81\",\"mangName\":\"도로변대기\",\"no2Grade\":\"2\",\"no2Value\":\"0.049\",\"numOfRows\":\"10\",\"o3Grade\":\"1\",\"o3Value\":\"0.024\",\"pageNo\":\"1\",\"pm10Grade\":\"2\",\"pm10Grade1h\":\"2\",\"pm10Value\":\"39\",\"pm10Value24\":\"58\",\"pm25Grade\":\"1\",\"pm25Grade1h\":\"1\",\"pm25Value\":\"10\",\"pm25Value24\":\"13\",\"resultCode\":\"\",\"resultMsg\":\"\",\"rnum\":0,\"serviceKey\":\"\",\"sidoName\":\"\",\"so2Grade\":\"1\",\"so2Value\":\"0.003\",\"stationCode\":\"\",\"stationName\":\"강변북로\",\"totalCount\":\"\",\"ver\":\"\"},{\"_returnType\":\"json\",\"coGrade\":\"1\",\"coValue\":\"0.4\",\"dataTerm\":\"\",\"dataTime\":\"2019-05-02 20:00\",\"khaiGrade\":\"2\",\"khaiValue\":\"58\",\"mangName\":\"도시대기\",\"no2Grade\":\"1\",\"no2Value\":\"0.026\",\"numOfRows\":\"10\",\"o3Grade\":\"1\",\"o3Value\":\"0.030\",\"pageNo\":\"1\",\"pm10Grade\":\"2\",\"pm10Grade1h\":\"1\",\"pm10Value\":\"26\",\"pm10Value24\":\"38\",\"pm25Grade\":\"1\",\"pm25Grade1h\":\"1\",\"pm25Value\":\"12\",\"pm25Value24\":\"11\",\"resultCode\":\"\",\"resultMsg\":\"\",\"rnum\":0,\"serviceKey\":\"\",\"sidoName\":\"\",\"so2Grade\":\"1\",\"so2Value\":\"0.005\",\"stationCode\":\"\",\"stationName\":\"중랑구\",\"totalCount\":\"\",\"ver\":\"\"}],\"parm\":{\"_returnType\":\"json\",\"coGrade\":\"\",\"coValue\":\"\",\"dataTerm\":\"\",\"dataTime\":\"\",\"khaiGrade\":\"\",\"khaiValue\":\"\",\"mangName\":\"\",\"no2Grade\":\"\",\"no2Value\":\"\",\"numOfRows\":\"10\",\"o3Grade\":\"\",\"o3Value\":\"\",\"pageNo\":\"1\",\"pm10Grade\":\"\",\"pm10Grade1h\":\"\",\"pm10Value\":\"\",\"pm10Value24\":\"\",\"pm25Grade\":\"\",\"pm25Grade1h\":\"\",\"pm25Value\":\"\",\"pm25Value24\":\"\",\"resultCode\":\"\",\"resultMsg\":\"\",\"rnum\":0,\"serviceKey\":\"P1K0cS48gt4CpuycLlpbBV7PULVT7F+mMhxwxvLyt3jqNDsCUezMkYggVmmqpmPlz4mdasHQ4o+jP3dgUNbC0g==\",\"sidoName\":\"서울\",\"so2Grade\":\"\",\"so2Value\":\"\",\"stationCode\":\"\",\"stationName\":\"\",\"totalCount\":\"\",\"ver\":\"1.3\"},\"ArpltnInforInqireSvcVo\":{\"_returnType\":\"json\",\"coGrade\":\"\",\"coValue\":\"\",\"dataTerm\":\"\",\"dataTime\":\"\",\"khaiGrade\":\"\",\"khaiValue\":\"\",\"mangName\":\"\",\"no2Grade\":\"\",\"no2Value\":\"\",\"numOfRows\":\"10\",\"o3Grade\":\"\",\"o3Value\":\"\",\"pageNo\":\"1\",\"pm10Grade\":\"\",\"pm10Grade1h\":\"\",\"pm10Value\":\"\",\"pm10Value24\":\"\",\"pm25Grade\":\"\",\"pm25Grade1h\":\"\",\"pm25Value\":\"\",\"pm25Value24\":\"\",\"resultCode\":\"\",\"resultMsg\":\"\",\"rnum\":0,\"serviceKey\":\"P1K0cS48gt4CpuycLlpbBV7PULVT7F+mMhxwxvLyt3jqNDsCUezMkYggVmmqpmPlz4mdasHQ4o+jP3dgUNbC0g==\",\"sidoName\":\"서울\",\"so2Grade\":\"\",\"so2Value\":\"\",\"stationCode\":\"\",\"stationName\":\"\",\"totalCount\":\"\",\"ver\":\"1.3\"},\"totalCount\":40}',\n",
       " {'Date': 'Thu, 02 May 2019 11:41:36 GMT', 'Content-Language': 'ko-KR', 'Content-Length': '6885', 'Connection': 'close', 'Content-Type': 'text/plain;charset=utf-8'})"
      ]
     },
     "execution_count": 22,
     "metadata": {},
     "output_type": "execute_result"
    }
   ],
   "source": [
    "result = download(url, params)\n",
    "result.text, result.headers"
   ]
  },
  {
   "cell_type": "code",
   "execution_count": 23,
   "metadata": {},
   "outputs": [
    {
     "data": {
      "text/plain": [
       "{'list': [{'_returnType': 'json',\n",
       "   'coGrade': '1',\n",
       "   'coValue': '0.4',\n",
       "   'dataTerm': '',\n",
       "   'dataTime': '2019-05-02 20:00',\n",
       "   'khaiGrade': '2',\n",
       "   'khaiValue': '58',\n",
       "   'mangName': '도시대기',\n",
       "   'no2Grade': '2',\n",
       "   'no2Value': '0.031',\n",
       "   'numOfRows': '10',\n",
       "   'o3Grade': '2',\n",
       "   'o3Value': '0.040',\n",
       "   'pageNo': '1',\n",
       "   'pm10Grade': '2',\n",
       "   'pm10Grade1h': '1',\n",
       "   'pm10Value': '26',\n",
       "   'pm10Value24': '36',\n",
       "   'pm25Grade': '1',\n",
       "   'pm25Grade1h': '1',\n",
       "   'pm25Value': '10',\n",
       "   'pm25Value24': '11',\n",
       "   'resultCode': '',\n",
       "   'resultMsg': '',\n",
       "   'rnum': 0,\n",
       "   'serviceKey': '',\n",
       "   'sidoName': '',\n",
       "   'so2Grade': '1',\n",
       "   'so2Value': '0.003',\n",
       "   'stationCode': '',\n",
       "   'stationName': '중구',\n",
       "   'totalCount': '',\n",
       "   'ver': ''},\n",
       "  {'_returnType': 'json',\n",
       "   'coGrade': '1',\n",
       "   'coValue': '0.5',\n",
       "   'dataTerm': '',\n",
       "   'dataTime': '2019-05-02 20:00',\n",
       "   'khaiGrade': '2',\n",
       "   'khaiValue': '90',\n",
       "   'mangName': '도로변대기',\n",
       "   'no2Grade': '2',\n",
       "   'no2Value': '0.054',\n",
       "   'numOfRows': '10',\n",
       "   'o3Grade': '1',\n",
       "   'o3Value': '0.019',\n",
       "   'pageNo': '1',\n",
       "   'pm10Grade': '2',\n",
       "   'pm10Grade1h': '2',\n",
       "   'pm10Value': '41',\n",
       "   'pm10Value24': '59',\n",
       "   'pm25Grade': '1',\n",
       "   'pm25Grade1h': '2',\n",
       "   'pm25Value': '16',\n",
       "   'pm25Value24': '15',\n",
       "   'resultCode': '',\n",
       "   'resultMsg': '',\n",
       "   'rnum': 0,\n",
       "   'serviceKey': '',\n",
       "   'sidoName': '',\n",
       "   'so2Grade': '1',\n",
       "   'so2Value': '0.004',\n",
       "   'stationCode': '',\n",
       "   'stationName': '한강대로',\n",
       "   'totalCount': '',\n",
       "   'ver': ''},\n",
       "  {'_returnType': 'json',\n",
       "   'coGrade': '1',\n",
       "   'coValue': '0.5',\n",
       "   'dataTerm': '',\n",
       "   'dataTime': '2019-05-02 20:00',\n",
       "   'khaiGrade': '2',\n",
       "   'khaiValue': '59',\n",
       "   'mangName': '도시대기',\n",
       "   'no2Grade': '1',\n",
       "   'no2Value': '0.030',\n",
       "   'numOfRows': '10',\n",
       "   'o3Grade': '2',\n",
       "   'o3Value': '0.034',\n",
       "   'pageNo': '1',\n",
       "   'pm10Grade': '2',\n",
       "   'pm10Grade1h': '1',\n",
       "   'pm10Value': '29',\n",
       "   'pm10Value24': '39',\n",
       "   'pm25Grade': '1',\n",
       "   'pm25Grade1h': '1',\n",
       "   'pm25Value': '11',\n",
       "   'pm25Value24': '12',\n",
       "   'resultCode': '',\n",
       "   'resultMsg': '',\n",
       "   'rnum': 0,\n",
       "   'serviceKey': '',\n",
       "   'sidoName': '',\n",
       "   'so2Grade': '1',\n",
       "   'so2Value': '0.003',\n",
       "   'stationCode': '',\n",
       "   'stationName': '종로구',\n",
       "   'totalCount': '',\n",
       "   'ver': ''},\n",
       "  {'_returnType': 'json',\n",
       "   'coGrade': '1',\n",
       "   'coValue': '0.6',\n",
       "   'dataTerm': '',\n",
       "   'dataTime': '2019-05-02 20:00',\n",
       "   'khaiGrade': '2',\n",
       "   'khaiValue': '71',\n",
       "   'mangName': '도로변대기',\n",
       "   'no2Grade': '2',\n",
       "   'no2Value': '0.043',\n",
       "   'numOfRows': '10',\n",
       "   'o3Grade': '1',\n",
       "   'o3Value': '0.027',\n",
       "   'pageNo': '1',\n",
       "   'pm10Grade': '2',\n",
       "   'pm10Grade1h': '1',\n",
       "   'pm10Value': '29',\n",
       "   'pm10Value24': '42',\n",
       "   'pm25Grade': '1',\n",
       "   'pm25Grade1h': '1',\n",
       "   'pm25Value': '12',\n",
       "   'pm25Value24': '14',\n",
       "   'resultCode': '',\n",
       "   'resultMsg': '',\n",
       "   'rnum': 0,\n",
       "   'serviceKey': '',\n",
       "   'sidoName': '',\n",
       "   'so2Grade': '1',\n",
       "   'so2Value': '0.003',\n",
       "   'stationCode': '',\n",
       "   'stationName': '청계천로',\n",
       "   'totalCount': '',\n",
       "   'ver': ''},\n",
       "  {'_returnType': 'json',\n",
       "   'coGrade': '1',\n",
       "   'coValue': '0.7',\n",
       "   'dataTerm': '',\n",
       "   'dataTime': '2019-05-02 20:00',\n",
       "   'khaiGrade': '2',\n",
       "   'khaiValue': '73',\n",
       "   'mangName': '도로변대기',\n",
       "   'no2Grade': '2',\n",
       "   'no2Value': '0.044',\n",
       "   'numOfRows': '10',\n",
       "   'o3Grade': '1',\n",
       "   'o3Value': '0.022',\n",
       "   'pageNo': '1',\n",
       "   'pm10Grade': '2',\n",
       "   'pm10Grade1h': '2',\n",
       "   'pm10Value': '32',\n",
       "   'pm10Value24': '42',\n",
       "   'pm25Grade': '1',\n",
       "   'pm25Grade1h': '1',\n",
       "   'pm25Value': '12',\n",
       "   'pm25Value24': '10',\n",
       "   'resultCode': '',\n",
       "   'resultMsg': '',\n",
       "   'rnum': 0,\n",
       "   'serviceKey': '',\n",
       "   'sidoName': '',\n",
       "   'so2Grade': '1',\n",
       "   'so2Value': '0.003',\n",
       "   'stationCode': '',\n",
       "   'stationName': '종로',\n",
       "   'totalCount': '',\n",
       "   'ver': ''},\n",
       "  {'_returnType': 'json',\n",
       "   'coGrade': '1',\n",
       "   'coValue': '0.4',\n",
       "   'dataTerm': '',\n",
       "   'dataTime': '2019-05-02 20:00',\n",
       "   'khaiGrade': '2',\n",
       "   'khaiValue': '58',\n",
       "   'mangName': '도시대기',\n",
       "   'no2Grade': '2',\n",
       "   'no2Value': '0.035',\n",
       "   'numOfRows': '10',\n",
       "   'o3Grade': '2',\n",
       "   'o3Value': '0.032',\n",
       "   'pageNo': '1',\n",
       "   'pm10Grade': '2',\n",
       "   'pm10Grade1h': '1',\n",
       "   'pm10Value': '23',\n",
       "   'pm10Value24': '34',\n",
       "   'pm25Grade': '1',\n",
       "   'pm25Grade1h': '1',\n",
       "   'pm25Value': '11',\n",
       "   'pm25Value24': '10',\n",
       "   'resultCode': '',\n",
       "   'resultMsg': '',\n",
       "   'rnum': 0,\n",
       "   'serviceKey': '',\n",
       "   'sidoName': '',\n",
       "   'so2Grade': '1',\n",
       "   'so2Value': '0.003',\n",
       "   'stationCode': '',\n",
       "   'stationName': '용산구',\n",
       "   'totalCount': '',\n",
       "   'ver': ''},\n",
       "  {'_returnType': 'json',\n",
       "   'coGrade': '1',\n",
       "   'coValue': '0.5',\n",
       "   'dataTerm': '',\n",
       "   'dataTime': '2019-05-02 20:00',\n",
       "   'khaiGrade': '2',\n",
       "   'khaiValue': '65',\n",
       "   'mangName': '도시대기',\n",
       "   'no2Grade': '1',\n",
       "   'no2Value': '0.028',\n",
       "   'numOfRows': '10',\n",
       "   'o3Grade': '2',\n",
       "   'o3Value': '0.031',\n",
       "   'pageNo': '1',\n",
       "   'pm10Grade': '2',\n",
       "   'pm10Grade1h': '1',\n",
       "   'pm10Value': '26',\n",
       "   'pm10Value24': '45',\n",
       "   'pm25Grade': '1',\n",
       "   'pm25Grade1h': '1',\n",
       "   'pm25Value': '7',\n",
       "   'pm25Value24': '15',\n",
       "   'resultCode': '',\n",
       "   'resultMsg': '',\n",
       "   'rnum': 0,\n",
       "   'serviceKey': '',\n",
       "   'sidoName': '',\n",
       "   'so2Grade': '1',\n",
       "   'so2Value': '0.003',\n",
       "   'stationCode': '',\n",
       "   'stationName': '광진구',\n",
       "   'totalCount': '',\n",
       "   'ver': ''},\n",
       "  {'_returnType': 'json',\n",
       "   'coGrade': '1',\n",
       "   'coValue': '0.3',\n",
       "   'dataTerm': '',\n",
       "   'dataTime': '2019-05-02 20:00',\n",
       "   'khaiGrade': '2',\n",
       "   'khaiValue': '68',\n",
       "   'mangName': '도시대기',\n",
       "   'no2Grade': '1',\n",
       "   'no2Value': '0.029',\n",
       "   'numOfRows': '10',\n",
       "   'o3Grade': '2',\n",
       "   'o3Value': '0.041',\n",
       "   'pageNo': '1',\n",
       "   'pm10Grade': '2',\n",
       "   'pm10Grade1h': '1',\n",
       "   'pm10Value': '27',\n",
       "   'pm10Value24': '48',\n",
       "   'pm25Grade': '1',\n",
       "   'pm25Grade1h': '1',\n",
       "   'pm25Value': '7',\n",
       "   'pm25Value24': '10',\n",
       "   'resultCode': '',\n",
       "   'resultMsg': '',\n",
       "   'rnum': 0,\n",
       "   'serviceKey': '',\n",
       "   'sidoName': '',\n",
       "   'so2Grade': '1',\n",
       "   'so2Value': '0.003',\n",
       "   'stationCode': '',\n",
       "   'stationName': '성동구',\n",
       "   'totalCount': '',\n",
       "   'ver': ''},\n",
       "  {'_returnType': 'json',\n",
       "   'coGrade': '1',\n",
       "   'coValue': '0.3',\n",
       "   'dataTerm': '',\n",
       "   'dataTime': '2019-05-02 20:00',\n",
       "   'khaiGrade': '2',\n",
       "   'khaiValue': '81',\n",
       "   'mangName': '도로변대기',\n",
       "   'no2Grade': '2',\n",
       "   'no2Value': '0.049',\n",
       "   'numOfRows': '10',\n",
       "   'o3Grade': '1',\n",
       "   'o3Value': '0.024',\n",
       "   'pageNo': '1',\n",
       "   'pm10Grade': '2',\n",
       "   'pm10Grade1h': '2',\n",
       "   'pm10Value': '39',\n",
       "   'pm10Value24': '58',\n",
       "   'pm25Grade': '1',\n",
       "   'pm25Grade1h': '1',\n",
       "   'pm25Value': '10',\n",
       "   'pm25Value24': '13',\n",
       "   'resultCode': '',\n",
       "   'resultMsg': '',\n",
       "   'rnum': 0,\n",
       "   'serviceKey': '',\n",
       "   'sidoName': '',\n",
       "   'so2Grade': '1',\n",
       "   'so2Value': '0.003',\n",
       "   'stationCode': '',\n",
       "   'stationName': '강변북로',\n",
       "   'totalCount': '',\n",
       "   'ver': ''},\n",
       "  {'_returnType': 'json',\n",
       "   'coGrade': '1',\n",
       "   'coValue': '0.4',\n",
       "   'dataTerm': '',\n",
       "   'dataTime': '2019-05-02 20:00',\n",
       "   'khaiGrade': '2',\n",
       "   'khaiValue': '58',\n",
       "   'mangName': '도시대기',\n",
       "   'no2Grade': '1',\n",
       "   'no2Value': '0.026',\n",
       "   'numOfRows': '10',\n",
       "   'o3Grade': '1',\n",
       "   'o3Value': '0.030',\n",
       "   'pageNo': '1',\n",
       "   'pm10Grade': '2',\n",
       "   'pm10Grade1h': '1',\n",
       "   'pm10Value': '26',\n",
       "   'pm10Value24': '38',\n",
       "   'pm25Grade': '1',\n",
       "   'pm25Grade1h': '1',\n",
       "   'pm25Value': '12',\n",
       "   'pm25Value24': '11',\n",
       "   'resultCode': '',\n",
       "   'resultMsg': '',\n",
       "   'rnum': 0,\n",
       "   'serviceKey': '',\n",
       "   'sidoName': '',\n",
       "   'so2Grade': '1',\n",
       "   'so2Value': '0.005',\n",
       "   'stationCode': '',\n",
       "   'stationName': '중랑구',\n",
       "   'totalCount': '',\n",
       "   'ver': ''}],\n",
       " 'parm': {'_returnType': 'json',\n",
       "  'coGrade': '',\n",
       "  'coValue': '',\n",
       "  'dataTerm': '',\n",
       "  'dataTime': '',\n",
       "  'khaiGrade': '',\n",
       "  'khaiValue': '',\n",
       "  'mangName': '',\n",
       "  'no2Grade': '',\n",
       "  'no2Value': '',\n",
       "  'numOfRows': '10',\n",
       "  'o3Grade': '',\n",
       "  'o3Value': '',\n",
       "  'pageNo': '1',\n",
       "  'pm10Grade': '',\n",
       "  'pm10Grade1h': '',\n",
       "  'pm10Value': '',\n",
       "  'pm10Value24': '',\n",
       "  'pm25Grade': '',\n",
       "  'pm25Grade1h': '',\n",
       "  'pm25Value': '',\n",
       "  'pm25Value24': '',\n",
       "  'resultCode': '',\n",
       "  'resultMsg': '',\n",
       "  'rnum': 0,\n",
       "  'serviceKey': 'P1K0cS48gt4CpuycLlpbBV7PULVT7F+mMhxwxvLyt3jqNDsCUezMkYggVmmqpmPlz4mdasHQ4o+jP3dgUNbC0g==',\n",
       "  'sidoName': '서울',\n",
       "  'so2Grade': '',\n",
       "  'so2Value': '',\n",
       "  'stationCode': '',\n",
       "  'stationName': '',\n",
       "  'totalCount': '',\n",
       "  'ver': '1.3'},\n",
       " 'ArpltnInforInqireSvcVo': {'_returnType': 'json',\n",
       "  'coGrade': '',\n",
       "  'coValue': '',\n",
       "  'dataTerm': '',\n",
       "  'dataTime': '',\n",
       "  'khaiGrade': '',\n",
       "  'khaiValue': '',\n",
       "  'mangName': '',\n",
       "  'no2Grade': '',\n",
       "  'no2Value': '',\n",
       "  'numOfRows': '10',\n",
       "  'o3Grade': '',\n",
       "  'o3Value': '',\n",
       "  'pageNo': '1',\n",
       "  'pm10Grade': '',\n",
       "  'pm10Grade1h': '',\n",
       "  'pm10Value': '',\n",
       "  'pm10Value24': '',\n",
       "  'pm25Grade': '',\n",
       "  'pm25Grade1h': '',\n",
       "  'pm25Value': '',\n",
       "  'pm25Value24': '',\n",
       "  'resultCode': '',\n",
       "  'resultMsg': '',\n",
       "  'rnum': 0,\n",
       "  'serviceKey': 'P1K0cS48gt4CpuycLlpbBV7PULVT7F+mMhxwxvLyt3jqNDsCUezMkYggVmmqpmPlz4mdasHQ4o+jP3dgUNbC0g==',\n",
       "  'sidoName': '서울',\n",
       "  'so2Grade': '',\n",
       "  'so2Value': '',\n",
       "  'stationCode': '',\n",
       "  'stationName': '',\n",
       "  'totalCount': '',\n",
       "  'ver': '1.3'},\n",
       " 'totalCount': 40}"
      ]
     },
     "execution_count": 23,
     "metadata": {},
     "output_type": "execute_result"
    }
   ],
   "source": [
    "import json\n",
    "result = json.loads(result.text)\n",
    "result"
   ]
  },
  {
   "cell_type": "code",
   "execution_count": 25,
   "metadata": {},
   "outputs": [
    {
     "name": "stdout",
     "output_type": "stream",
     "text": [
      "중구 10\n",
      "한강대로 16\n",
      "종로구 11\n",
      "청계천로 12\n",
      "종로 12\n",
      "용산구 11\n",
      "광진구 7\n",
      "성동구 7\n",
      "강변북로 10\n",
      "중랑구 12\n"
     ]
    }
   ],
   "source": [
    "for row in result[\"list\"]:\n",
    "    print(row[\"stationName\"], row[\"pm25Value\"])\n",
    "    "
   ]
  },
  {
   "cell_type": "code",
   "execution_count": 28,
   "metadata": {},
   "outputs": [
    {
     "data": {
      "text/plain": [
       "({'User-Agent': 'Mozilla/5.0 (Windows NT 10.0; WOW64; Trident/7.0; rv:11.0) like Gecko', 'Accept-Encoding': 'gzip, deflate', 'Accept': '*/*', 'Connection': 'keep-alive'},\n",
       " '<h2>Tell me your name!</h2>\\n<form method=\"post\" action=\"processing.php\">\\nFirst name: <input type=\"text\" name=\"firstname\"><br>\\nLast name: <input type=\"text\" name=\"lastname\"><br>\\n<input type=\"submit\" value=\"Submit\" id=\"submit\">\\n</form>')"
      ]
     },
     "execution_count": 28,
     "metadata": {},
     "output_type": "execute_result"
    }
   ],
   "source": [
    "#http://pythonscraping.com/pages/files/form.html\n",
    "url = \"http://pythonscraping.com/pages/files/form.html\"\n",
    "html = download(url,{\"firstname\":\"2132131\",\"lastname\":\"312321313131\"})\n",
    "html.request.headers, html.text"
   ]
  },
  {
   "cell_type": "code",
   "execution_count": null,
   "metadata": {},
   "outputs": [],
   "source": [
    "#http://pythonscraping.com/pages/files/form.html\n",
    "url = \"http://pythonscraping.com/pages/files/form.html\"\n",
    "html = download(url,{\"firstname\":\"2132131\",\"lastname\":\"312321313131\"})\n",
    "html.request.headers, html.text"
   ]
  },
  {
   "cell_type": "code",
   "execution_count": 30,
   "metadata": {},
   "outputs": [
    {
     "data": {
      "text/plain": [
       "({'User-Agent': 'python-requests/2.21.0', 'Accept-Encoding': 'gzip, deflate', 'Accept': '*/*', 'Connection': 'keep-alive', 'Content-Length': '39', 'Content-Type': 'application/x-www-form-urlencoded'},\n",
       " 'Hello there, 2132131 312321313131!')"
      ]
     },
     "execution_count": 30,
     "metadata": {},
     "output_type": "execute_result"
    }
   ],
   "source": [
    "#http://pythonscraping.com/pages/files/processing.php\n",
    "url = \"http://pythonscraping.com/pages/files/processing.php\"\n",
    "#html = download(url,{\"firstname\":\"2132131\",\"lastname\":\"312321313131\"})\n",
    "html = requests.post(url, {\"firstname\":\"2132131\",\"lastname\":\"312321313131\"})\n",
    "html.request.headers, html.text"
   ]
  },
  {
   "cell_type": "code",
   "execution_count": 32,
   "metadata": {},
   "outputs": [
    {
     "data": {
      "text/plain": [
       "('firstname=2132131&lastname=312321313131',\n",
       " 'Hello there, 2132131 312321313131!')"
      ]
     },
     "execution_count": 32,
     "metadata": {},
     "output_type": "execute_result"
    }
   ],
   "source": [
    "html.request.body, html.text"
   ]
  },
  {
   "cell_type": "code",
   "execution_count": 33,
   "metadata": {},
   "outputs": [
    {
     "data": {
      "text/plain": [
       "({'User-Agent': 'python-requests/2.21.0', 'Accept-Encoding': 'gzip, deflate', 'Accept': '*/*', 'Connection': 'keep-alive', 'Content-Length': '38', 'Content-Type': 'application/x-www-form-urlencoded'},\n",
       " '\\n<h2>Welcome to the Website!</h2>\\nWhoops! You logged in wrong. Try again with any username, and the password \"password\"<br><a href=\"login.html\">Log in here</a>')"
      ]
     },
     "execution_count": 33,
     "metadata": {},
     "output_type": "execute_result"
    }
   ],
   "source": [
    "#http://pythonscraping.com/pages/cookies/welcome.php\n",
    "url = \"http://pythonscraping.com/pages/cookies/welcome.php\"\n",
    "#html = download(url,{\"firstname\":\"2132131\",\"lastname\":\"312321313131\"})\n",
    "html = requests.post(url, {\"username\":\"anything!\",\"password\":\"password\"})\n",
    "html.request.headers, html.text"
   ]
  },
  {
   "cell_type": "code",
   "execution_count": 34,
   "metadata": {},
   "outputs": [
    {
     "data": {
      "text/plain": [
       "{'loggedin': '1', 'username': 'anything%21'}"
      ]
     },
     "execution_count": 34,
     "metadata": {},
     "output_type": "execute_result"
    }
   ],
   "source": [
    "html.cookies.get_dict()"
   ]
  },
  {
   "cell_type": "code",
   "execution_count": 36,
   "metadata": {},
   "outputs": [
    {
     "data": {
      "text/plain": [
       "'\\n<h2>Welcome to the Website!</h2>\\nYou have logged in successfully! <br><a href=\"profile.php\">Check out your profile!</a>'"
      ]
     },
     "execution_count": 36,
     "metadata": {},
     "output_type": "execute_result"
    }
   ],
   "source": [
    "html = requests.get(url,cookies=html.cookies)\n",
    "html.text"
   ]
  },
  {
   "cell_type": "code",
   "execution_count": 41,
   "metadata": {},
   "outputs": [
    {
     "data": {
      "text/plain": [
       "('\\n<h2>Welcome to the Website!</h2>\\nYou have logged in successfully! <br><a href=\"profile.php\">Check out your profile!</a>',\n",
       " None)"
      ]
     },
     "execution_count": 41,
     "metadata": {},
     "output_type": "execute_result"
    }
   ],
   "source": [
    "session = requests.Session()\n",
    "html = session.post(url, {\"username\":\"anything!\",\"password\":\"password\"})\n",
    "html = session.post(url)\n",
    "html.text, html.request.body"
   ]
  },
  {
   "cell_type": "code",
   "execution_count": null,
   "metadata": {},
   "outputs": [],
   "source": []
  }
 ],
 "metadata": {
  "kernelspec": {
   "display_name": "Python 3",
   "language": "python",
   "name": "python3"
  },
  "language_info": {
   "codemirror_mode": {
    "name": "ipython",
    "version": 3
   },
   "file_extension": ".py",
   "mimetype": "text/x-python",
   "name": "python",
   "nbconvert_exporter": "python",
   "pygments_lexer": "ipython3",
   "version": "3.7.3"
  }
 },
 "nbformat": 4,
 "nbformat_minor": 2
}
