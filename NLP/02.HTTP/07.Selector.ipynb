{
 "cells": [
  {
   "cell_type": "code",
   "execution_count": 1,
   "metadata": {},
   "outputs": [],
   "source": [
    "div, section, article, h1, h2, ... h6, a, span, ==> Tag\n",
    "tagname\n",
    "id => #\n",
    "class => .\n",
    "<div id=\"row\"> => div#row\n",
    "<div class=\"row\"> => div.row\n",
    "\n",
    "<div id=\"1\">\n",
    "    <div id=\"2\">    => div > div, div div\n",
    "        <div id=\"2\">\n",
    "        <span>\n",
    "        div > div, id=2, id=3\n",
    "        div#1 > div, id=2\n",
    "        div#1  div, id=2, id=3\n",
    "        div + span"
   ]
  },
  {
   "cell_type": "code",
   "execution_count": 11,
   "metadata": {},
   "outputs": [],
   "source": [
    "import requests\n",
    "# 200 => OK\n",
    "# 400 => My Fault\n",
    "# 500 => You Fault => Traffic 과도하게 증가\n",
    "header={\"User-Agent\":\"Mozilla/5.0 (Windows NT 10.0; WOW64; Trident/7.0; rv:11.0) like Gecko\"}\n",
    "\n",
    "def download(url, params ={}, retries = 3) :\n",
    "    resp = None\n",
    "    try :\n",
    "        resp = requests.get(url, params = params, headers = header)\n",
    "        resp.raise_for_status()\n",
    "    except requests.exceptions.HTTPError as e :\n",
    "        if 500 <= e.response.status_code < 600 and retries > 0:\n",
    "            print(retries)\n",
    "            resp = download(url, params, retries - 1)\n",
    "        else :\n",
    "            print(e.response.status_code)\n",
    "            print(e.response.reason)\n",
    "            print(e.response.headers)\n",
    "    \n",
    "    return resp"
   ]
  },
  {
   "cell_type": "code",
   "execution_count": 2,
   "metadata": {},
   "outputs": [],
   "source": [
    "html = \"\"\"\n",
    "<html>\n",
    "<head></head>\n",
    "<body>\n",
    "    <div id=test></div>\n",
    "    <div id=\"result\">\n",
    "        <p class=\"row\">\n",
    "            <a class=\"red\">go to page1</a>\n",
    "            <a class=\"blue\">go to page2</a>\n",
    "    </div>\n",
    "\n",
    "</body>\n",
    "</html>\n",
    "\"\"\""
   ]
  },
  {
   "cell_type": "code",
   "execution_count": 3,
   "metadata": {},
   "outputs": [],
   "source": [
    "from bs4 import BeautifulSoup\n",
    "dom = BeautifulSoup(html,\"lxml\")"
   ]
  },
  {
   "cell_type": "code",
   "execution_count": 5,
   "metadata": {},
   "outputs": [
    {
     "data": {
      "text/plain": [
       "(<a class=\"red\">go to page1</a>, bs4.element.Tag)"
      ]
     },
     "execution_count": 5,
     "metadata": {},
     "output_type": "execute_result"
    }
   ],
   "source": [
    "dom.select_one(\"a\"), type(dom.select_one(\"a\"))"
   ]
  },
  {
   "cell_type": "code",
   "execution_count": 6,
   "metadata": {},
   "outputs": [
    {
     "data": {
      "text/plain": [
       "([<a class=\"red\">go to page1</a>, <a class=\"blue\">go to page2</a>], list)"
      ]
     },
     "execution_count": 6,
     "metadata": {},
     "output_type": "execute_result"
    }
   ],
   "source": [
    "dom.select(\"a\"), type(dom.select(\"a\"))"
   ]
  },
  {
   "cell_type": "code",
   "execution_count": 7,
   "metadata": {},
   "outputs": [
    {
     "data": {
      "text/plain": [
       "[<a class=\"blue\">go to page2</a>]"
      ]
     },
     "execution_count": 7,
     "metadata": {},
     "output_type": "execute_result"
    }
   ],
   "source": [
    "dom.select(\"a + a\")"
   ]
  },
  {
   "cell_type": "code",
   "execution_count": 9,
   "metadata": {},
   "outputs": [
    {
     "data": {
      "text/plain": [
       "[<a class=\"blue\">go to page2</a>]"
      ]
     },
     "execution_count": 9,
     "metadata": {},
     "output_type": "execute_result"
    }
   ],
   "source": [
    "dom.select(\"div a.blue\")"
   ]
  },
  {
   "cell_type": "code",
   "execution_count": 12,
   "metadata": {},
   "outputs": [],
   "source": [
    "html = download(\"http://pythonscraping.com/pages/page3.html\")\n",
    "exercise = BeautifulSoup(html.text,\"lxml\")"
   ]
  },
  {
   "cell_type": "code",
   "execution_count": 13,
   "metadata": {},
   "outputs": [
    {
     "data": {
      "text/plain": [
       "[<img src=\"../img/gifts/img1.jpg\"/>,\n",
       " <img src=\"../img/gifts/img2.jpg\"/>,\n",
       " <img src=\"../img/gifts/img3.jpg\"/>,\n",
       " <img src=\"../img/gifts/img4.jpg\"/>,\n",
       " <img src=\"../img/gifts/img6.jpg\"/>]"
      ]
     },
     "execution_count": 13,
     "metadata": {},
     "output_type": "execute_result"
    }
   ],
   "source": [
    "exercise.select(\"td > img\")"
   ]
  },
  {
   "cell_type": "code",
   "execution_count": 15,
   "metadata": {},
   "outputs": [
    {
     "data": {
      "text/plain": [
       "['tr', 'tr', 'tr', 'tr', 'tr']"
      ]
     },
     "execution_count": 15,
     "metadata": {},
     "output_type": "execute_result"
    }
   ],
   "source": [
    "[ _.name for _ in exercise.select(\"tr.gift\")]"
   ]
  },
  {
   "cell_type": "code",
   "execution_count": 16,
   "metadata": {},
   "outputs": [
    {
     "ename": "SyntaxError",
     "evalue": "invalid syntax (<ipython-input-16-1e5c9009c1f1>, line 1)",
     "output_type": "error",
     "traceback": [
      "\u001b[1;36m  File \u001b[1;32m\"<ipython-input-16-1e5c9009c1f1>\"\u001b[1;36m, line \u001b[1;32m1\u001b[0m\n\u001b[1;33m    class = \"a b c\"\u001b[0m\n\u001b[1;37m          ^\u001b[0m\n\u001b[1;31mSyntaxError\u001b[0m\u001b[1;31m:\u001b[0m invalid syntax\n"
     ]
    }
   ],
   "source": [
    "class = \"a b c\"\n",
    "[ _.name for _ in exercise.select(\"tr.a\")]"
   ]
  },
  {
   "cell_type": "code",
   "execution_count": 17,
   "metadata": {},
   "outputs": [],
   "source": [
    "html = download(\"http://www.google.com.com/search\",{\"q\":\"박보영\"})\n",
    "google = BeautifulSoup(html.text,\"lxml\")\n",
    "#len(google.find_all(\"h3\",{\"class\":\"LC201b\"}))"
   ]
  },
  {
   "cell_type": "code",
   "execution_count": 23,
   "metadata": {},
   "outputs": [
    {
     "data": {
      "text/plain": [
       "<!DOCTYPE html>\n",
       "<!--[if lt IE 7]>      <html class=\"no-js ie lt-ie9 lt-ie8 lt-ie7\" lang=\"en\"> <![endif]--><!--[if IE 7]>         <html class=\"no-js ie lt-ie9 lt-ie8\" lang=\"en\"> <![endif]--><!--[if IE 8]>         <html class=\"no-js ie lt-ie9\" lang=\"en\"> <![endif]--><!--[if gt IE 8]><!--><html class=\"no-js\" lang=\"en\"> <!--<![endif]-->\n",
       "<!--[if IE]><!--> <!--<![endif]-->\n",
       "<head>\n",
       "<meta charset=\"utf-8\"/>\n",
       "<meta content=\"IE=edge,chrome=1\" http-equiv=\"X-UA-Compatible\"/>\n",
       "<meta content=\"width=device-width, initial-scale=1\" name=\"viewport\"/>\n",
       "<meta content=\"QnAeNWckYaXNBPvtptCMa05PH7ZN1NiKHi3fMpnm\" name=\"csrf-token\"/>\n",
       "<title>    Search\n",
       " | com.com</title>\n",
       "<link href=\"http://com.com\" rel=\"canonical\"/>\n",
       "<link href=\"/favicon-32x32.png\" rel=\"icon\" sizes=\"32x32\" type=\"image/png\"/>\n",
       "<link href=\"/favicon-16x16.png\" rel=\"icon\" sizes=\"16x16\" type=\"image/png\"/>\n",
       "<script src=\"/build/js/modernizr-43710f21f2.js\"></script>\n",
       "<link data-norem=\"\" href=\"https://fonts.googleapis.com/css?family=Karla:400,400i,700,700i\" rel=\"stylesheet\"/>\n",
       "<link href=\"/build/css/public-ccd80a4f47.css\" rel=\"stylesheet\"/>\n",
       "<link href=\"/build/css/all-public-cc324caee9.css\" rel=\"stylesheet\"/>\n",
       "<script>\n",
       "      window.Laravel = {\"csrfToken\":\"QnAeNWckYaXNBPvtptCMa05PH7ZN1NiKHi3fMpnm\"};\n",
       "    </script>\n",
       "<script>\n",
       "        (function(i,s,o,g,r,a,m){i['GoogleAnalyticsObject']=r;i[r]=i[r]||function(){\n",
       "        (i[r].q=i[r].q||[]).push(arguments)},i[r].l=1*new Date();a=s.createElement(o),\n",
       "        m=s.getElementsByTagName(o)[0];a.async=1;a.src=g;m.parentNode.insertBefore(a,m)\n",
       "        })(window,document,'script','https://www.google-analytics.com/analytics.js','ga');\n",
       "\n",
       "        ga('create', 'UA-89347323-1', 'auto');\n",
       "        ga('send', 'pageview');\n",
       "    </script>\n",
       "<!--[if lte IE 8]><script src=\"/build/js/respond-b890fb8052.js\"></script><![endif]-->\n",
       "<link href=\"/manifest.json\" rel=\"manifest\"/>\n",
       "<script async=\"\" src=\"https://cdn.onesignal.com/sdks/OneSignalSDK.js\"></script>\n",
       "<script>\n",
       "  var OneSignal = window.OneSignal || [];\n",
       "  OneSignal.push(function() {\n",
       "    OneSignal.init({\n",
       "      appId: \"1a75a9d6-20fe-4359-a54d-b2353bebf4b6\",\n",
       "      autoRegister: true,\n",
       "      notifyButton: {\n",
       "        enable: false,\n",
       "      },\n",
       "      welcomeNotification: {\n",
       "        disable: true,\n",
       "      },\n",
       "    });\n",
       "  });\n",
       "</script>\n",
       "</head><body>\n",
       "<div class=\"app-container\" id=\"public-app\">\n",
       "<layout-app value=\"\"></layout-app>\n",
       "<noscript>\n",
       "<div class=\"wrapper-medium\">\n",
       "<div class=\"wrapper-medium has-background-white has-drop-shadow\">\n",
       "<h1 class=\"h3 color-red s--center s--margin-bottom\">You need to enable JavaScript to run this website.</h1>\n",
       "</div>\n",
       "</div>\n",
       "</noscript>\n",
       "</div>\n",
       "<footer class=\"site-footer\" role=\"contentinfo\">\n",
       "<nav class=\"site-footer-nav\">\n",
       "<div class=\"wrapper\">\n",
       "<div class=\"row site-footer-nav--links\">\n",
       "<div class=\"col-12 col-2-sm-med\"></div>\n",
       "<div class=\"col-12 col-6-xs col-2-sm-med\">\n",
       "<ul class=\"list-nested list-reset\">\n",
       "<li><strong><a href=\"http://com.com/com\">Compare</a></strong>\n",
       "<ul>\n",
       "<li><a href=\"https://sessions.com.xyz/v1/sessions/xyz.gif?action=click&amp;creative_id=1d8e8a04-4af7-4e79-9b61-5998f4cc41ee&amp;traffic_source_id=1cdd413b-f073-432f-b169-b81ec48b4f7e\">Personal Loans</a></li>\n",
       "<li><a href=\"http://com.com/com/categories\">All Categories</a></li>\n",
       "</ul>\n",
       "</li>\n",
       "</ul>\n",
       "</div>\n",
       "<div class=\"col-12 col-6-xs col-2-sm-med\">\n",
       "<ul class=\"list-nested list-reset\">\n",
       "<li><strong>About</strong>\n",
       "<ul>\n",
       "<li><a href=\"http://com.com/com/how-it-works\">How It Works</a></li>\n",
       "<li><a href=\"https://com.xyz/advertisers/sign-up\">Advertise With Us</a></li>\n",
       "<li><a href=\"https://com.xyz/publishers/sign-up\">Publisher Sign Up</a></li>\n",
       "</ul>\n",
       "</li>\n",
       "</ul>\n",
       "</div>\n",
       "<div class=\"col-12 col-6-xs col-2-sm-med\">\n",
       "<ul class=\"list-nested list-reset\">\n",
       "<li><strong>Legal</strong>\n",
       "<ul>\n",
       "<li><a href=\"http://com.com/terms\">Terms Of Use</a></li>\n",
       "<li><a href=\"http://com.com/privacy\">Privacy Policy</a></li>\n",
       "<li><a href=\"http://com.com/legal\">Legal</a></li>\n",
       "</ul>\n",
       "</li>\n",
       "</ul>\n",
       "</div>\n",
       "<div class=\"col-12 col-6-xs col-2-sm-med\">\n",
       "<ul class=\"list-nested list-reset\">\n",
       "<li><strong>Account</strong>\n",
       "<ul>\n",
       "<li>Coming Soon</li>\n",
       "</ul>\n",
       "</li>\n",
       "</ul>\n",
       "</div>\n",
       "<div class=\"col-12 col-2-sm-med\"></div>\n",
       "</div>\n",
       "</div>\n",
       "</nav>\n",
       "<div class=\"wrapper site-footer--info\">\n",
       "<div class=\"row\">\n",
       "<div class=\"col-12 col-6-med site-footer--logo\">\n",
       "<a class=\"site-logo\" href=\"http://com.com/com\">\n",
       "<img alt=\"com.com\" class=\"site-logo--image\" onerror=\"this.src='/images/comcom-color-logo.png';this.onerror=null;\" src=\"/images/comcom-color-logo.svg\"/>\n",
       "</a>\n",
       "</div>\n",
       "<div class=\"col-12 col-6-med site-footer--copyright\">\n",
       "<p class=\"text--small\">© Copyright 2019 com.com. All rights reserved.</p>\n",
       "</div>\n",
       "</div>\n",
       "</div>\n",
       "</footer>\n",
       "<script src=\"/build/js/public-84237410db.js\"></script>\n",
       "<!--[if lte IE 8]><script src=\"/build/js/rem-f6062a8798.js\"></script><![endif]-->\n",
       "</body>\n",
       "</html>"
      ]
     },
     "execution_count": 23,
     "metadata": {},
     "output_type": "execute_result"
    }
   ],
   "source": [
    "google\n"
   ]
  },
  {
   "cell_type": "code",
   "execution_count": 28,
   "metadata": {},
   "outputs": [
    {
     "data": {
      "text/plain": [
       "[]"
      ]
     },
     "execution_count": 28,
     "metadata": {},
     "output_type": "execute_result"
    }
   ],
   "source": [
    "[ _[\"href\"] for _ in google.select(\".r > a\")]"
   ]
  },
  {
   "cell_type": "code",
   "execution_count": 26,
   "metadata": {},
   "outputs": [],
   "source": [
    "html = download(\"https://search.daum.net/search\",{\"q\":\"박보영\"})\n",
    "daum = BeautifulSoup(html.text,\"lxml\")"
   ]
  },
  {
   "cell_type": "code",
   "execution_count": 27,
   "metadata": {
    "scrolled": true
   },
   "outputs": [
    {
     "data": {
      "text/plain": [
       "['http://v.media.daum.net/v/20190507140359069?f=o',\n",
       " 'http://v.media.daum.net/v/20190507175153358?f=o',\n",
       " 'http://v.media.daum.net/v/20190507185002021?f=o',\n",
       " 'http://v.media.daum.net/v/20190507175700537?f=o',\n",
       " 'http://papa0717.tistory.com/223',\n",
       " 'http://dudrms606.tistory.com/367',\n",
       " 'http://adam24eve.tistory.com/858',\n",
       " 'http://k3k2y.tistory.com/35',\n",
       " 'https://ko.wikipedia.org/wiki/%EB%B0%95%EB%B3%B4%EC%98%81',\n",
       " 'https://ko.wikipedia.org/wiki/%EB%B0%95%EB%B3%B4%EC%98%81%20%28%EB%B2%95%EC%A1%B0%EC%9D%B8%29',\n",
       " 'http://cafe.daum.net/subdued20club/ReHf/2280152?q=%EB%B0%95%EB%B3%B4%EC%98%81',\n",
       " 'http://cafe.daum.net/subdued20club/ReHf/2282606?q=%EB%B0%95%EB%B3%B4%EC%98%81',\n",
       " 'http://cafe.daum.net/ASMONACOFC/gAVU/1243818?q=%EB%B0%95%EB%B3%B4%EC%98%81',\n",
       " 'http://cafe.daum.net/ok1221/9Zdf/1524913?q=%EB%B0%95%EB%B3%B4%EC%98%81',\n",
       " 'http://tip.daum.net/answer/54503481?q=%EB%B0%95%EB%B3%B4%EC%98%81',\n",
       " 'http://tip.daum.net/answer/54767339?q=%EB%B0%95%EB%B3%B4%EC%98%81',\n",
       " 'http://tip.daum.net/answer/55072609?q=%EB%B0%95%EB%B3%B4%EC%98%81',\n",
       " 'http://tip.daum.net/answer/54866982?q=%EB%B0%95%EB%B3%B4%EC%98%81',\n",
       " 'http://gall.dcinside.com/board/lists/?id=parkboyoung',\n",
       " 'http://cafe.daum.net/parkboyoungfd',\n",
       " 'http://channels.vlive.tv/FCE49/video',\n",
       " 'http://www.bjc.or.kr/',\n",
       " 'javascript:;',\n",
       " 'javascript:;',\n",
       " 'javascript:;',\n",
       " 'javascript:;',\n",
       " 'javascript:;']"
      ]
     },
     "execution_count": 27,
     "metadata": {},
     "output_type": "execute_result"
    }
   ],
   "source": [
    "[ _[\"href\"] for _ in daum.select(\"div.wrap_tit > a\")]"
   ]
  },
  {
   "cell_type": "code",
   "execution_count": 38,
   "metadata": {},
   "outputs": [],
   "source": [
    "html = download(\"https://search.naver.com/search.naver\",{\"query\":\"박보영\",\"oquery\":\"박보영\"})\n",
    "naver = BeautifulSoup(html.text,\"lxml\")"
   ]
  },
  {
   "cell_type": "code",
   "execution_count": 39,
   "metadata": {},
   "outputs": [
    {
     "data": {
      "text/plain": [
       "['https://music.naver.com/album/index.nhn?albumId=2500698',\n",
       " 'https://music.naver.com/album/index.nhn?albumId=565464',\n",
       " '?where=nexearch&sm=tab_etc&query=%EC%96%B4%EB%B9%84%EC%8A%A4%EA%B3%A0%EC%84%B8%EC%97%B0',\n",
       " '?where=nexearch&sm=tab_etc&query=%ED%9E%98%EC%8E%88%EC%97%AC%EC%9E%90%EB%8F%84%EB%B4%89%EC%88%9C%EB%8F%84%EB%B4%89%EC%88%9C',\n",
       " 'https://m.post.naver.com/viewer/postView.nhn?volumeNo=19568466&memberNo=36645352&vType=VERTICAL',\n",
       " 'https://m.post.naver.com/viewer/postView.nhn?volumeNo=19813069&memberNo=25041664&vType=VERTICAL',\n",
       " 'https://m.post.naver.com/viewer/postView.nhn?volumeNo=17970239&memberNo=23519771&vType=VERTICAL',\n",
       " 'http://sports.chosun.com/news/ntype.htm?id=201905080100041210002631&servicedate=20190507',\n",
       " 'http://www.osen.co.kr/article/G1111136950',\n",
       " 'http://www.dt.co.kr/contents.html?article_no=2019050702109919040003&ref=naver',\n",
       " 'http://news.wowtv.co.kr/NewsCenter/News/Read?articleId=A201905070393&t=NN',\n",
       " 'https://cafe.naver.com/heidicafe/1241714',\n",
       " 'https://cafe.naver.com/imsanbu/44492596',\n",
       " 'https://cafe.naver.com/dieselmania/26934064',\n",
       " 'https://cafe.naver.com/momakakao/11285454',\n",
       " 'https://cafe.naver.com/linearbeit/43556',\n",
       " 'https://namu.wiki/w/%EB%B0%95%EB%B3%B4%EC%98%81',\n",
       " 'http://gall.dcinside.com/board/lists/?id=parkboyoung',\n",
       " 'https://movie.daum.net/person/main?personId=105244',\n",
       " 'https://kin.naver.com/qna/detail.nhn?d1id=3&dirId=3021401&docId=326457379&qb=67CV67O07JiB&enc=utf8&section=kin&rank=1&search_sort=0&spq=1',\n",
       " 'https://kin.naver.com/qna/detail.nhn?d1id=3&dirId=306&docId=325917258&qb=67CV67O07JiB&enc=utf8&section=kin&rank=2&search_sort=0&spq=1',\n",
       " 'https://kin.naver.com/qna/detail.nhn?d1id=3&dirId=31402&docId=322399276&qb=67CV67O07JiB&enc=utf8&section=kin&rank=3&search_sort=0&spq=1',\n",
       " 'https://kin.naver.com/qna/detail.nhn?d1id=3&dirId=30104&docId=319183446&qb=67CV67O07JiB&enc=utf8&section=kin&rank=4&search_sort=0&spq=1',\n",
       " 'https://blog.naver.com/shkwon1128?Redirect=Log&logNo=221530738046',\n",
       " 'https://blog.naver.com/js2y86?Redirect=Log&logNo=221454815826',\n",
       " 'https://blog.naver.com/dlqlwm14?Redirect=Log&logNo=221529807195',\n",
       " 'https://blog.naver.com/lyj0088?Redirect=Log&logNo=221530708253',\n",
       " 'https://komartin.blog.me/221530734469']"
      ]
     },
     "execution_count": 39,
     "metadata": {},
     "output_type": "execute_result"
    }
   ],
   "source": [
    "[ _[\"href\"] for _ in naver.select(\"div > ul > li > dl > dt > a\")]"
   ]
  },
  {
   "cell_type": "code",
   "execution_count": 63,
   "metadata": {},
   "outputs": [],
   "source": [
    "html = download(\"https://www.naver.com\")\n",
    "naver = BeautifulSoup(html.text,\"lxml\")"
   ]
  },
  {
   "cell_type": "code",
   "execution_count": 67,
   "metadata": {
    "scrolled": true
   },
   "outputs": [
    {
     "data": {
      "text/plain": [
       "['하나경',\n",
       " '울산대교',\n",
       " '한서희',\n",
       " '강은비',\n",
       " '어비스',\n",
       " '맥반석닭갈비',\n",
       " '강이준',\n",
       " '정용국',\n",
       " '고양 창릉',\n",
       " '양의지',\n",
       " '3기 신도시',\n",
       " '삼성바이오로직스',\n",
       " '부천 대장동',\n",
       " '이다해',\n",
       " '심재철',\n",
       " '공민규',\n",
       " '김사랑',\n",
       " '고양시 창릉동',\n",
       " '한선교',\n",
       " '규현']"
      ]
     },
     "execution_count": 67,
     "metadata": {},
     "output_type": "execute_result"
    }
   ],
   "source": [
    "#[ _[\"href\"] for _ in naver.select(\"ol.lst_realtime_srch > li a.bx_item \")]\n",
    "[ _.text for _ in naver.select(\".ah_roll_area li.ah_item .ah_k\")]"
   ]
  },
  {
   "cell_type": "code",
   "execution_count": null,
   "metadata": {},
   "outputs": [],
   "source": []
  },
  {
   "cell_type": "code",
   "execution_count": null,
   "metadata": {},
   "outputs": [],
   "source": []
  }
 ],
 "metadata": {
  "kernelspec": {
   "display_name": "Python 3",
   "language": "python",
   "name": "python3"
  },
  "language_info": {
   "codemirror_mode": {
    "name": "ipython",
    "version": 3
   },
   "file_extension": ".py",
   "mimetype": "text/x-python",
   "name": "python",
   "nbconvert_exporter": "python",
   "pygments_lexer": "ipython3",
   "version": "3.7.3"
  }
 },
 "nbformat": 4,
 "nbformat_minor": 2
}
