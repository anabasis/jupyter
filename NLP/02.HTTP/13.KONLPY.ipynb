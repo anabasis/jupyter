{
 "cells": [
  {
   "cell_type": "code",
   "execution_count": 1,
   "metadata": {},
   "outputs": [],
   "source": [
    "from nltk.corpus import brown\n",
    "import nltk\n",
    "# Tokenize\n",
    "from nltk.tokenize import sent_tokenize, word_tokenize, TweetTokenizer"
   ]
  },
  {
   "cell_type": "code",
   "execution_count": 87,
   "metadata": {},
   "outputs": [],
   "source": [
    "from konlpy.corpus import kolaw ,kobill\n",
    "\n",
    "corpus = kolaw.open(kolaw.fileids()[0]).read()\n"
   ]
  },
  {
   "cell_type": "code",
   "execution_count": 88,
   "metadata": {},
   "outputs": [],
   "source": [
    "from konlpy.tag import Kkma\n",
    "\n",
    "ma = Kkma()"
   ]
  },
  {
   "cell_type": "code",
   "execution_count": 89,
   "metadata": {},
   "outputs": [],
   "source": [
    "from nltk.tokenize import sent_tokenize\n",
    "\n",
    "morphemes = list()\n",
    "\n",
    "for sentence in sent_tokenize(corpus) :\n",
    "    morphemes.extend(ma.pos(sentence))\n",
    "    # morphs => [형태소, 형태소]\n",
    "    # nouns => [형태소=명사, 명사, 명사 ...]\n",
    "    # pos => [('형태소','품사'),('형태소','품사'),('형태소','품사')]"
   ]
  },
  {
   "cell_type": "code",
   "execution_count": 90,
   "metadata": {},
   "outputs": [
    {
     "data": {
      "image/png": "[encoded data removed]",
      "text/plain": [
       "<Figure size 432x288 with 1 Axes>"
      ]
     },
     "metadata": {
      "needs_background": "light"
     },
     "output_type": "display_data"
    }
   ],
   "source": [
    "from nltk import Text\n",
    "\n",
    "kolawText = Text(morphemes)\n",
    "kolawText.vocab().most_common(10) \n",
    "kolawText.vocab()\n",
    "kolawText.plot(50)"
   ]
  },
  {
   "cell_type": "code",
   "execution_count": 91,
   "metadata": {},
   "outputs": [
    {
     "ename": "AttributeError",
     "evalue": "'tuple' object has no attribute 'isalpha'",
     "output_type": "error",
     "traceback": [
      "\u001b[1;31m---------------------------------------------------------------------------\u001b[0m",
      "\u001b[1;31mAttributeError\u001b[0m                            Traceback (most recent call last)",
      "\u001b[1;32m<ipython-input-91-dca05ff18233>\u001b[0m in \u001b[0;36m<module>\u001b[1;34m\u001b[0m\n\u001b[0;32m      1\u001b[0m \u001b[1;31m#kolawText.vocab('국민')\u001b[0m\u001b[1;33m\u001b[0m\u001b[1;33m\u001b[0m\u001b[1;33m\u001b[0m\u001b[0m\n\u001b[1;32m----> 2\u001b[1;33m \u001b[0mkolawText\u001b[0m\u001b[1;33m.\u001b[0m\u001b[0msimilar\u001b[0m\u001b[1;33m(\u001b[0m\u001b[1;33m[\u001b[0m\u001b[1;34m\"국민\"\u001b[0m\u001b[1;33m]\u001b[0m\u001b[1;33m)\u001b[0m\u001b[1;33m,\u001b[0m \u001b[0mkolawText\u001b[0m\u001b[1;33m.\u001b[0m\u001b[0msimilar\u001b[0m\u001b[1;33m(\u001b[0m\u001b[1;33m[\u001b[0m\u001b[1;34m\"국회\"\u001b[0m\u001b[1;33m]\u001b[0m\u001b[1;33m)\u001b[0m \u001b[1;33m,\u001b[0m \u001b[0mkolawText\u001b[0m\u001b[1;33m.\u001b[0m\u001b[0msimilar\u001b[0m\u001b[1;33m(\u001b[0m\u001b[1;34m\"국회\"\u001b[0m\u001b[1;33m)\u001b[0m\u001b[1;33m\u001b[0m\u001b[1;33m\u001b[0m\u001b[0m\n\u001b[0m\u001b[0;32m      3\u001b[0m \u001b[1;33m\u001b[0m\u001b[0m\n\u001b[0;32m      4\u001b[0m \u001b[0mkolawText\u001b[0m\u001b[1;33m.\u001b[0m\u001b[0mdispersion_ployt\u001b[0m\u001b[1;33m(\u001b[0m\u001b[1;33m[\u001b[0m\u001b[1;34m\"국민\"\u001b[0m\u001b[1;33m,\u001b[0m\u001b[1;34m\"국회\"\u001b[0m\u001b[1;33m,\u001b[0m\u001b[1;34m\"대통령\"\u001b[0m\u001b[1;33m]\u001b[0m\u001b[1;33m)\u001b[0m\u001b[1;33m\u001b[0m\u001b[1;33m\u001b[0m\u001b[0m\n\u001b[0;32m      5\u001b[0m \u001b[1;31m# ==> preprocessing(Tokenizing, Stemming(BPE),Ngram/)\u001b[0m\u001b[1;33m\u001b[0m\u001b[1;33m\u001b[0m\u001b[1;33m\u001b[0m\u001b[0m\n",
      "\u001b[1;32m~\\Anaconda3\\lib\\site-packages\\nltk\\text.py\u001b[0m in \u001b[0;36msimilar\u001b[1;34m(self, word, num)\u001b[0m\n\u001b[0;32m    459\u001b[0m             \u001b[1;31m# print('Building word-context index...')\u001b[0m\u001b[1;33m\u001b[0m\u001b[1;33m\u001b[0m\u001b[1;33m\u001b[0m\u001b[0m\n\u001b[0;32m    460\u001b[0m             self._word_context_index = ContextIndex(\n\u001b[1;32m--> 461\u001b[1;33m                 \u001b[0mself\u001b[0m\u001b[1;33m.\u001b[0m\u001b[0mtokens\u001b[0m\u001b[1;33m,\u001b[0m \u001b[0mfilter\u001b[0m\u001b[1;33m=\u001b[0m\u001b[1;32mlambda\u001b[0m \u001b[0mx\u001b[0m\u001b[1;33m:\u001b[0m \u001b[0mx\u001b[0m\u001b[1;33m.\u001b[0m\u001b[0misalpha\u001b[0m\u001b[1;33m(\u001b[0m\u001b[1;33m)\u001b[0m\u001b[1;33m,\u001b[0m \u001b[0mkey\u001b[0m\u001b[1;33m=\u001b[0m\u001b[1;32mlambda\u001b[0m \u001b[0ms\u001b[0m\u001b[1;33m:\u001b[0m \u001b[0ms\u001b[0m\u001b[1;33m.\u001b[0m\u001b[0mlower\u001b[0m\u001b[1;33m(\u001b[0m\u001b[1;33m)\u001b[0m\u001b[1;33m\u001b[0m\u001b[1;33m\u001b[0m\u001b[0m\n\u001b[0m\u001b[0;32m    462\u001b[0m             )\n\u001b[0;32m    463\u001b[0m \u001b[1;33m\u001b[0m\u001b[0m\n",
      "\u001b[1;32m~\\Anaconda3\\lib\\site-packages\\nltk\\text.py\u001b[0m in \u001b[0;36m__init__\u001b[1;34m(self, tokens, context_func, filter, key)\u001b[0m\n\u001b[0;32m     59\u001b[0m             \u001b[0mself\u001b[0m\u001b[1;33m.\u001b[0m\u001b[0m_context_func\u001b[0m \u001b[1;33m=\u001b[0m \u001b[0mself\u001b[0m\u001b[1;33m.\u001b[0m\u001b[0m_default_context\u001b[0m\u001b[1;33m\u001b[0m\u001b[1;33m\u001b[0m\u001b[0m\n\u001b[0;32m     60\u001b[0m         \u001b[1;32mif\u001b[0m \u001b[0mfilter\u001b[0m\u001b[1;33m:\u001b[0m\u001b[1;33m\u001b[0m\u001b[1;33m\u001b[0m\u001b[0m\n\u001b[1;32m---> 61\u001b[1;33m             \u001b[0mtokens\u001b[0m \u001b[1;33m=\u001b[0m \u001b[1;33m[\u001b[0m\u001b[0mt\u001b[0m \u001b[1;32mfor\u001b[0m \u001b[0mt\u001b[0m \u001b[1;32min\u001b[0m \u001b[0mtokens\u001b[0m \u001b[1;32mif\u001b[0m \u001b[0mfilter\u001b[0m\u001b[1;33m(\u001b[0m\u001b[0mt\u001b[0m\u001b[1;33m)\u001b[0m\u001b[1;33m]\u001b[0m\u001b[1;33m\u001b[0m\u001b[1;33m\u001b[0m\u001b[0m\n\u001b[0m\u001b[0;32m     62\u001b[0m         self._word_to_contexts = CFD(\n\u001b[0;32m     63\u001b[0m             \u001b[1;33m(\u001b[0m\u001b[0mself\u001b[0m\u001b[1;33m.\u001b[0m\u001b[0m_key\u001b[0m\u001b[1;33m(\u001b[0m\u001b[0mw\u001b[0m\u001b[1;33m)\u001b[0m\u001b[1;33m,\u001b[0m \u001b[0mself\u001b[0m\u001b[1;33m.\u001b[0m\u001b[0m_context_func\u001b[0m\u001b[1;33m(\u001b[0m\u001b[0mtokens\u001b[0m\u001b[1;33m,\u001b[0m \u001b[0mi\u001b[0m\u001b[1;33m)\u001b[0m\u001b[1;33m)\u001b[0m \u001b[1;32mfor\u001b[0m \u001b[0mi\u001b[0m\u001b[1;33m,\u001b[0m \u001b[0mw\u001b[0m \u001b[1;32min\u001b[0m \u001b[0menumerate\u001b[0m\u001b[1;33m(\u001b[0m\u001b[0mtokens\u001b[0m\u001b[1;33m)\u001b[0m\u001b[1;33m\u001b[0m\u001b[1;33m\u001b[0m\u001b[0m\n",
      "\u001b[1;32m~\\Anaconda3\\lib\\site-packages\\nltk\\text.py\u001b[0m in \u001b[0;36m<listcomp>\u001b[1;34m(.0)\u001b[0m\n\u001b[0;32m     59\u001b[0m             \u001b[0mself\u001b[0m\u001b[1;33m.\u001b[0m\u001b[0m_context_func\u001b[0m \u001b[1;33m=\u001b[0m \u001b[0mself\u001b[0m\u001b[1;33m.\u001b[0m\u001b[0m_default_context\u001b[0m\u001b[1;33m\u001b[0m\u001b[1;33m\u001b[0m\u001b[0m\n\u001b[0;32m     60\u001b[0m         \u001b[1;32mif\u001b[0m \u001b[0mfilter\u001b[0m\u001b[1;33m:\u001b[0m\u001b[1;33m\u001b[0m\u001b[1;33m\u001b[0m\u001b[0m\n\u001b[1;32m---> 61\u001b[1;33m             \u001b[0mtokens\u001b[0m \u001b[1;33m=\u001b[0m \u001b[1;33m[\u001b[0m\u001b[0mt\u001b[0m \u001b[1;32mfor\u001b[0m \u001b[0mt\u001b[0m \u001b[1;32min\u001b[0m \u001b[0mtokens\u001b[0m \u001b[1;32mif\u001b[0m \u001b[0mfilter\u001b[0m\u001b[1;33m(\u001b[0m\u001b[0mt\u001b[0m\u001b[1;33m)\u001b[0m\u001b[1;33m]\u001b[0m\u001b[1;33m\u001b[0m\u001b[1;33m\u001b[0m\u001b[0m\n\u001b[0m\u001b[0;32m     62\u001b[0m         self._word_to_contexts = CFD(\n\u001b[0;32m     63\u001b[0m             \u001b[1;33m(\u001b[0m\u001b[0mself\u001b[0m\u001b[1;33m.\u001b[0m\u001b[0m_key\u001b[0m\u001b[1;33m(\u001b[0m\u001b[0mw\u001b[0m\u001b[1;33m)\u001b[0m\u001b[1;33m,\u001b[0m \u001b[0mself\u001b[0m\u001b[1;33m.\u001b[0m\u001b[0m_context_func\u001b[0m\u001b[1;33m(\u001b[0m\u001b[0mtokens\u001b[0m\u001b[1;33m,\u001b[0m \u001b[0mi\u001b[0m\u001b[1;33m)\u001b[0m\u001b[1;33m)\u001b[0m \u001b[1;32mfor\u001b[0m \u001b[0mi\u001b[0m\u001b[1;33m,\u001b[0m \u001b[0mw\u001b[0m \u001b[1;32min\u001b[0m \u001b[0menumerate\u001b[0m\u001b[1;33m(\u001b[0m\u001b[0mtokens\u001b[0m\u001b[1;33m)\u001b[0m\u001b[1;33m\u001b[0m\u001b[1;33m\u001b[0m\u001b[0m\n",
      "\u001b[1;32m~\\Anaconda3\\lib\\site-packages\\nltk\\text.py\u001b[0m in \u001b[0;36m<lambda>\u001b[1;34m(x)\u001b[0m\n\u001b[0;32m    459\u001b[0m             \u001b[1;31m# print('Building word-context index...')\u001b[0m\u001b[1;33m\u001b[0m\u001b[1;33m\u001b[0m\u001b[1;33m\u001b[0m\u001b[0m\n\u001b[0;32m    460\u001b[0m             self._word_context_index = ContextIndex(\n\u001b[1;32m--> 461\u001b[1;33m                 \u001b[0mself\u001b[0m\u001b[1;33m.\u001b[0m\u001b[0mtokens\u001b[0m\u001b[1;33m,\u001b[0m \u001b[0mfilter\u001b[0m\u001b[1;33m=\u001b[0m\u001b[1;32mlambda\u001b[0m \u001b[0mx\u001b[0m\u001b[1;33m:\u001b[0m \u001b[0mx\u001b[0m\u001b[1;33m.\u001b[0m\u001b[0misalpha\u001b[0m\u001b[1;33m(\u001b[0m\u001b[1;33m)\u001b[0m\u001b[1;33m,\u001b[0m \u001b[0mkey\u001b[0m\u001b[1;33m=\u001b[0m\u001b[1;32mlambda\u001b[0m \u001b[0ms\u001b[0m\u001b[1;33m:\u001b[0m \u001b[0ms\u001b[0m\u001b[1;33m.\u001b[0m\u001b[0mlower\u001b[0m\u001b[1;33m(\u001b[0m\u001b[1;33m)\u001b[0m\u001b[1;33m\u001b[0m\u001b[1;33m\u001b[0m\u001b[0m\n\u001b[0m\u001b[0;32m    462\u001b[0m             )\n\u001b[0;32m    463\u001b[0m \u001b[1;33m\u001b[0m\u001b[0m\n",
      "\u001b[1;31mAttributeError\u001b[0m: 'tuple' object has no attribute 'isalpha'"
     ]
    }
   ],
   "source": [
    "#kolawText.vocab('국민')\n",
    "kolawText.similar([\"국민\"]), kolawText.similar([\"국회\"]) , kolawText.similar(\"국회\")\n",
    "\n",
    "kolawText.dispersion_ployt([\"국민\",\"국회\",\"대통령\"])\n",
    "# ==> preprocessing(Tokenizing, Stemming(BPE),Ngram/) "
   ]
  },
  {
   "cell_type": "code",
   "execution_count": 92,
   "metadata": {},
   "outputs": [
    {
     "data": {
      "image/png": "[encoded data removed]",
      "text/plain": [
       "<Figure size 432x288 with 1 Axes>"
      ]
     },
     "metadata": {
      "needs_background": "light"
     },
     "output_type": "display_data"
    },
    {
     "data": {
      "image/png": "[encoded data removed]",
      "text/plain": [
       "<Figure size 432x288 with 1 Axes>"
      ]
     },
     "metadata": {
      "needs_background": "light"
     },
     "output_type": "display_data"
    }
   ],
   "source": [
    "import os\n",
    "import matplotlib.pyplot as plt\n",
    "from math import log\n",
    "from konlpy.tag import Okt #=> Twitter\n",
    "\n",
    "base = \"./news\"\n",
    "ma = Okt()\n",
    "morphemes = list()\n",
    "\n",
    "# foo _ in os.lisdr:(base)\n",
    "for _ in [ _ for _ in os.listdir(base) if _.endswith(\"txt\")] :\n",
    "    \n",
    "    \n",
    "    with open(base +\"/\"+ _ ,encoding=\"utf-8\") as fp :\n",
    "        text = fp.read()\n",
    "                                                    \n",
    "    for sententce in sent_tokenize(text) :\n",
    "        morphemes.extend(ma.morphs(sentence))\n",
    "\n",
    "obj = Text(morphemes)\n",
    "                                                    \n",
    "#x = [_[0] for _ in obj.voca().most_common(30)]\n",
    "x = range(len(obj.vocab().most_common() ))\n",
    "y = [ _[1] for _ in obj.vocab().most_common(30)]\n",
    "yy = [ log(_) for _ in y ]\n",
    "     \n",
    "#x, y, yy    \n",
    "plt.plot(x, y, \"r-\")\n",
    "plt.show()\n",
    "                                                    \n",
    "plt.plot(x, yy, \"b-\")\n",
    "plt.show()\n"
   ]
  },
  {
   "cell_type": "code",
   "execution_count": 62,
   "metadata": {},
   "outputs": [
    {
     "data": {
      "image/png": "[encoded data removed]",
      "text/plain": [
       "<Figure size 432x288 with 1 Axes>"
      ]
     },
     "metadata": {
      "needs_background": "light"
     },
     "output_type": "display_data"
    },
    {
     "data": {
      "image/png": "[encoded data removed]",
      "text/plain": [
       "<Figure size 432x288 with 1 Axes>"
      ]
     },
     "metadata": {
      "needs_background": "light"
     },
     "output_type": "display_data"
    }
   ],
   "source": [
    "import os\n",
    "import matplotlib.pyplot as plt\n",
    "from math import log\n",
    "from konlpy.tag import Okt #=> Twitter\n",
    "\n",
    "base = \"./news/\"\n",
    "ma = Okt()\n",
    "k = 50  # 10-100\n",
    "b = 0.5 # 0.4~0.6\n",
    "# M = kT**b\n",
    "# M(유니크) = k * T(전체단어의수)\n",
    "\n",
    "text = \"\"\n",
    "morphemes = list()\n",
    "\n",
    "# foo _ in os.lisdr:(base)\n",
    "for _ in [ _ for _ in os.listdir(base) if _.endswith(\"txt\")] :\n",
    "    tokens = list()\n",
    "    \n",
    "    with open(base + _ ,encoding=\"utf-8\") as fp :\n",
    "        text = fp.read()\n",
    "                                                    \n",
    "    for sentence in sent_tokenize(text) :\n",
    "        tokens.extend(ma.morphs(sentence))\n",
    "    morphemes.append(tokens)\n",
    "\n",
    "obj = Text(morphemes)\n",
    "x = [ log(len(_)) for _ in morphemes]\n",
    "y = [ log(k)+b*log(_) for _ in x]\n",
    "yy = [log(len(set(_))) for _ in morphemes]\n",
    "     \n",
    "#x, y, yy    \n",
    "plt.plot(x, y, \"r-\")\n",
    "plt.show()\n",
    "\n",
    "plt.plot(x, yy, \"b-\")\n",
    "plt.show()\n",
    "\n",
    "## Mecab --> linux, Khaii --> linux"
   ]
  },
  {
   "cell_type": "code",
   "execution_count": 199,
   "metadata": {},
   "outputs": [],
   "source": [
    "# Beautiful is better than ugly.\n",
    "#      1     2   3      4   5 6\n",
    "\n",
    "# P(4|1-3) ==>  p(4|3)*P(3|2)*P(2|1)*P(1)\n",
    "# ==> 1st Markov Assuption\n",
    "# p(4|3) => 4hits / 3hits\n",
    "# work_tokenzied\n",
    "\n",
    "# n-gram(bi-gram = n=2)\n",
    "# 어절 = 형태소조홥\n",
    "# 음절, 어절\n",
    "\n",
    "# likeihood / P / Bayes ==> 낯선사람ML\n",
    "# 100단어\n",
    "# 1 = Beautiflee(20/N) 0.2\n",
    "# 1,2 = Beautiflee(5 /0.2)\n",
    "# 2,3 = Beautiflee(count / 1,2)\n",
    "# 3,4 = better than\n"
   ]
  },
  {
   "cell_type": "code",
   "execution_count": 200,
   "metadata": {},
   "outputs": [],
   "source": [
    "def eojeol(text,n=2) :\n",
    "    ngram = list()\n",
    "    tokens = text.split()\n",
    "    \n",
    "    for i in range(len(tokens)-(n-1)) :\n",
    "        #print(i)\n",
    "        #print(tokens[i:i+n])\n",
    "        ngram.append(\" \".join(tokens[i:i+n]))\n",
    "    return ngram"
   ]
  },
  {
   "cell_type": "code",
   "execution_count": 201,
   "metadata": {},
   "outputs": [
    {
     "name": "stdout",
     "output_type": "stream",
     "text": [
      "['대한민국헌법 유구한', '유구한 역사와', '역사와 전통에', '전통에 빛나는', '빛나는 우리', '우리 대한국민은', '대한국민은 3·1운동으로', '3·1운동으로 건립된', '건립된 대한민국임시정부의', '대한민국임시정부의 법통과', '법통과 불의에', '불의에 항거한', '항거한 4·19민주이념을', '4·19민주이념을 계승하고,', '계승하고, 조국의', '조국의 민주개혁과', '민주개혁과 평화적', '평화적 통일의', '통일의 사명에', '사명에 입각하여', '입각하여 정의·인도와', '정의·인도와 동포애로써', '동포애로써 민족의', '민족의 단결을', '단결을 공고히', '공고히 하고,', '하고, 모든', '모든 사회적', '사회적 폐습과', '폐습과 불의를', '불의를 타파하며,', '타파하며, 자율과', '자율과 조화를', '조화를 바탕으로', '바탕으로 자유민주적', '자유민주적 기본질서를', '기본질서를 더욱', '더욱 확고히', '확고히 하여', '하여 정치·경제·사회·문화의', '정치·경제·사회·문화의 모든', '모든 영역에', '영역에 있어서', '있어서 각인의', '각인의 기회를', '기회를 균등히', '균등히 하고,', '하고, 능력을', '능력을 최고도로', '최고도로 발휘하게', '발휘하게 하며,', '하며, 자유와', '자유와 권리에', '권리에 따르는', '따르는 책임과', '책임과 의무를', '의무를 완수하게', '완수하게 하여,', '하여, 안으로는', '안으로는 국민생활의', '국민생활의 균등한', '균등한 향상을', '향상을 기하고', '기하고 밖으로는', '밖으로는 항구적인', '항구적인 세계평화와', '세계평화와 인류공영에', '인류공영에 이바지함으로써', '이바지함으로써 우리들과', '우리들과 우리들의', '우리들의 자손의', '자손의 안전과', '안전과 자유와', '자유와 행복을', '행복을 영원히', '영원히 확보할', '확보할 것을', '것을 다짐하면서', '다짐하면서 1948년', '1948년 7월', '7월 12일에', '12일에 제정되고', '제정되고 8차에', '8차에 걸쳐', '걸쳐 개정된', '개정된 헌법을', '헌법을 이제', '이제 국회의', '국회의 의결을', '의결을 거쳐', '거쳐 국민투표에', '국민투표에 의하여', '의하여 개정한다.']\n"
     ]
    }
   ],
   "source": [
    "for _ in sent_tokenize(corpus) :\n",
    "    print(eojeol(_))\n",
    "    break"
   ]
  },
  {
   "cell_type": "code",
   "execution_count": 202,
   "metadata": {},
   "outputs": [
    {
     "data": {
      "text/plain": [
       "['가 나 다', '나 다 라']"
      ]
     },
     "execution_count": 202,
     "metadata": {},
     "output_type": "execute_result"
    }
   ],
   "source": [
    "eojeol(\"가 나 다 라\", n=3)\n"
   ]
  },
  {
   "cell_type": "code",
   "execution_count": 203,
   "metadata": {},
   "outputs": [
    {
     "data": {
      "text/plain": [
       "FreqDist({('의', 'JKG'): 532, ('.', 'SF'): 359, ('하', 'XSV'): 350, ('에', 'JKM'): 328, ('ㄴ다', 'EFN'): 243, ('ㄴ', 'ETD'): 234, ('을', 'JKO'): 211, ('은', 'JX'): 182, ('는', 'JX'): 180, ('저', 'NP'): 155, ...})"
      ]
     },
     "execution_count": 203,
     "metadata": {},
     "output_type": "execute_result"
    }
   ],
   "source": [
    "kolawText.vocab()"
   ]
  },
  {
   "cell_type": "code",
   "execution_count": 204,
   "metadata": {},
   "outputs": [],
   "source": [
    "def umjeol(text,n=2) :\n",
    "    ngram = list()\n",
    "    \n",
    "    for i in range(len(text)-(n-1)) :\n",
    "        #print(i)\n",
    "        #print(tokens[i:i+n])\n",
    "        ngram.append(\" \".join(text[i:i+n]))\n",
    "    return ngram"
   ]
  },
  {
   "cell_type": "code",
   "execution_count": 205,
   "metadata": {},
   "outputs": [
    {
     "name": "stdout",
     "output_type": "stream",
     "text": [
      "94 440\n"
     ]
    }
   ],
   "source": [
    "for _ in sent_tokenize(corpus) :\n",
    "    #print(_.split(), umjeol(_))\n",
    "    print(len(_.split()), len(umjeol(_)))\n",
    "    break"
   ]
  },
  {
   "cell_type": "code",
   "execution_count": 206,
   "metadata": {},
   "outputs": [
    {
     "data": {
      "text/plain": [
       "FreqDist({'수 있다.': 56, '법률이 정하는': 48, '정하는 바에': 37, '바에 의하여': 36, '법률로 정한다.': 28, '모든 국민은': 23, '수 없다.': 20, '① 모든': 14, '사항은 법률로': 14, '의무를 진다.': 11, ...})"
      ]
     },
     "execution_count": 206,
     "metadata": {},
     "output_type": "execute_result"
    }
   ],
   "source": [
    "bigram = eojeol(corpus)\n",
    "bigramText = Text(bigram)\n",
    "bigramText.vocab()\n",
    "\n",
    "# 어절,음절 ngram ==> 순위, similar, 위치정보, zipf법칙, heaps법칙이 유지 되는가?\n",
    "# 음소 => ㄱ , CRF, HMM"
   ]
  },
  {
   "cell_type": "code",
   "execution_count": 207,
   "metadata": {},
   "outputs": [
    {
     "data": {
      "text/plain": [
       "FreqDist({'수 있다.': 56, '법률이 정하는': 48, '정하는 바에': 37, '바에 의하여': 36, '법률로 정한다.': 28, '모든 국민은': 23, '수 없다.': 20, '① 모든': 14, '사항은 법률로': 14, '의무를 진다.': 11, ...})"
      ]
     },
     "execution_count": 207,
     "metadata": {},
     "output_type": "execute_result"
    }
   ],
   "source": [
    "Text(eojeol(corpus)).vocab()"
   ]
  },
  {
   "cell_type": "code",
   "execution_count": 208,
   "metadata": {},
   "outputs": [],
   "source": [
    "#BPE(Byte Pair Encoding)\n",
    "# (\"어절\":빈도),(\"어절\":빈도),(\"어절\":빈도),\n",
    "#low:5, lowest:2\n",
    "#l o w</w>\n",
    "#l o w e s t</w>\n"
   ]
  },
  {
   "cell_type": "code",
   "execution_count": 209,
   "metadata": {},
   "outputs": [],
   "source": [
    "def splitTerm(term) :\n",
    "    #list(term)\n",
    "    #print(\" \".join(list(term) + [\"\\w\"]))\n",
    "    # \" \" => \"_\"\n",
    "    result = list()\n",
    "    for token in term.split():\n",
    "        result.append(\" \".join(list(term) + [\"</w>\"]))\n",
    "    return \" _ \".join(result)"
   ]
  },
  {
   "cell_type": "code",
   "execution_count": 210,
   "metadata": {},
   "outputs": [
    {
     "data": {
      "text/plain": [
       "['l', 'o', 'w', 'e', 'r', '</w>']"
      ]
     },
     "execution_count": 210,
     "metadata": {},
     "output_type": "execute_result"
    }
   ],
   "source": [
    "splitTerm(\"lower\").split()"
   ]
  },
  {
   "cell_type": "code",
   "execution_count": 211,
   "metadata": {},
   "outputs": [
    {
     "data": {
      "text/plain": [
       "{'l o w e r </w>': 5,\n",
       " 'l o w e s t </w>': 2,\n",
       " 'n e w e r </w>': 6,\n",
       " 'w i d e r </w>': 3}"
      ]
     },
     "execution_count": 211,
     "metadata": {},
     "output_type": "execute_result"
    }
   ],
   "source": [
    "data = {\n",
    "    splitTerm(\"lower\"):5,\n",
    "    splitTerm(\"lowest\"):2,\n",
    "    splitTerm(\"newer\"):6,\n",
    "    splitTerm(\"wider\"):3,\n",
    "}\n",
    "data"
   ]
  },
  {
   "cell_type": "code",
   "execution_count": 212,
   "metadata": {},
   "outputs": [],
   "source": [
    "from collections import defaultdict\n",
    "# l o : 5\n",
    "# o w : 5\n",
    "# w e : 5\n",
    "def ngram(data, n=2) :\n",
    "    result = defaultdict(int)\n",
    "    \n",
    "    for term, freq in data.items() :\n",
    "        tokens = term.split()\n",
    "        for i in range(len(tokens)-(n-1)) :\n",
    "            result[\" \".join(tokens[i:i+n])] += freq\n",
    "    return result"
   ]
  },
  {
   "cell_type": "code",
   "execution_count": 213,
   "metadata": {},
   "outputs": [
    {
     "data": {
      "text/plain": [
       "defaultdict(int,\n",
       "            {'l o': 7,\n",
       "             'o w': 7,\n",
       "             'w e': 13,\n",
       "             'e r': 14,\n",
       "             'r </w>': 14,\n",
       "             'e s': 2,\n",
       "             's t': 2,\n",
       "             't </w>': 2,\n",
       "             'n e': 6,\n",
       "             'e w': 6,\n",
       "             'w i': 3,\n",
       "             'i d': 3,\n",
       "             'd e': 3})"
      ]
     },
     "execution_count": 213,
     "metadata": {},
     "output_type": "execute_result"
    }
   ],
   "source": [
    "ngram(data)"
   ]
  },
  {
   "cell_type": "code",
   "execution_count": 214,
   "metadata": {},
   "outputs": [
    {
     "ename": "AttributeError",
     "evalue": "'str' object has no attribute 'items'",
     "output_type": "error",
     "traceback": [
      "\u001b[1;31m---------------------------------------------------------------------------\u001b[0m",
      "\u001b[1;31mAttributeError\u001b[0m                            Traceback (most recent call last)",
      "\u001b[1;32m<ipython-input-214-70049ef9b70e>\u001b[0m in \u001b[0;36m<module>\u001b[1;34m\u001b[0m\n\u001b[0;32m      1\u001b[0m \u001b[1;32mfor\u001b[0m \u001b[0mterm\u001b[0m\u001b[1;33m,\u001b[0m \u001b[0mfreq\u001b[0m \u001b[1;32min\u001b[0m \u001b[0mdata\u001b[0m\u001b[1;33m.\u001b[0m\u001b[0mitems\u001b[0m\u001b[1;33m(\u001b[0m\u001b[1;33m)\u001b[0m\u001b[1;33m:\u001b[0m\u001b[1;33m\u001b[0m\u001b[1;33m\u001b[0m\u001b[0m\n\u001b[0;32m      2\u001b[0m     \u001b[1;31m#print(term)\u001b[0m\u001b[1;33m\u001b[0m\u001b[1;33m\u001b[0m\u001b[1;33m\u001b[0m\u001b[0m\n\u001b[1;32m----> 3\u001b[1;33m     \u001b[0mprint\u001b[0m\u001b[1;33m(\u001b[0m\u001b[0mngram\u001b[0m\u001b[1;33m(\u001b[0m\u001b[0mterm\u001b[0m\u001b[1;33m)\u001b[0m\u001b[1;33m)\u001b[0m\u001b[1;33m\u001b[0m\u001b[1;33m\u001b[0m\u001b[0m\n\u001b[0m\u001b[0;32m      4\u001b[0m     \u001b[1;32mbreak\u001b[0m\u001b[1;33m\u001b[0m\u001b[1;33m\u001b[0m\u001b[0m\n",
      "\u001b[1;32m<ipython-input-212-181735d67163>\u001b[0m in \u001b[0;36mngram\u001b[1;34m(data, n)\u001b[0m\n\u001b[0;32m      6\u001b[0m     \u001b[0mresult\u001b[0m \u001b[1;33m=\u001b[0m \u001b[0mdefaultdict\u001b[0m\u001b[1;33m(\u001b[0m\u001b[0mint\u001b[0m\u001b[1;33m)\u001b[0m\u001b[1;33m\u001b[0m\u001b[1;33m\u001b[0m\u001b[0m\n\u001b[0;32m      7\u001b[0m \u001b[1;33m\u001b[0m\u001b[0m\n\u001b[1;32m----> 8\u001b[1;33m     \u001b[1;32mfor\u001b[0m \u001b[0mterm\u001b[0m\u001b[1;33m,\u001b[0m \u001b[0mfreq\u001b[0m \u001b[1;32min\u001b[0m \u001b[0mdata\u001b[0m\u001b[1;33m.\u001b[0m\u001b[0mitems\u001b[0m\u001b[1;33m(\u001b[0m\u001b[1;33m)\u001b[0m \u001b[1;33m:\u001b[0m\u001b[1;33m\u001b[0m\u001b[1;33m\u001b[0m\u001b[0m\n\u001b[0m\u001b[0;32m      9\u001b[0m         \u001b[0mtokens\u001b[0m \u001b[1;33m=\u001b[0m \u001b[0mterm\u001b[0m\u001b[1;33m.\u001b[0m\u001b[0msplit\u001b[0m\u001b[1;33m(\u001b[0m\u001b[1;33m)\u001b[0m\u001b[1;33m\u001b[0m\u001b[1;33m\u001b[0m\u001b[0m\n\u001b[0;32m     10\u001b[0m         \u001b[1;32mfor\u001b[0m \u001b[0mi\u001b[0m \u001b[1;32min\u001b[0m \u001b[0mrange\u001b[0m\u001b[1;33m(\u001b[0m\u001b[0mlen\u001b[0m\u001b[1;33m(\u001b[0m\u001b[0mtokens\u001b[0m\u001b[1;33m)\u001b[0m\u001b[1;33m-\u001b[0m\u001b[1;33m(\u001b[0m\u001b[0mn\u001b[0m\u001b[1;33m-\u001b[0m\u001b[1;36m1\u001b[0m\u001b[1;33m)\u001b[0m\u001b[1;33m)\u001b[0m \u001b[1;33m:\u001b[0m\u001b[1;33m\u001b[0m\u001b[1;33m\u001b[0m\u001b[0m\n",
      "\u001b[1;31mAttributeError\u001b[0m: 'str' object has no attribute 'items'"
     ]
    }
   ],
   "source": [
    "for term, freq in data.items():\n",
    "    #print(term)\n",
    "    print(ngram(term))\n",
    "    break"
   ]
  },
  {
   "cell_type": "code",
   "execution_count": 188,
   "metadata": {},
   "outputs": [],
   "source": [
    "import re\n",
    "\n",
    "def mergeNgram(maxKey,data) :\n",
    "    newData = dict()\n",
    "    for term, freq in data.items() :\n",
    "        newKey = re.sub(maxKey , maxKey.replace(\" \",\"\"),term)\n",
    "        newData[newKey] = freq\n",
    "        \n",
    "    return newData"
   ]
  },
  {
   "cell_type": "code",
   "execution_count": 189,
   "metadata": {},
   "outputs": [
    {
     "data": {
      "text/plain": [
       "'e r'"
      ]
     },
     "execution_count": 189,
     "metadata": {},
     "output_type": "execute_result"
    }
   ],
   "source": [
    "bigram.get(\"e r\")\n",
    "max(bigram, key=bigram.get)"
   ]
  },
  {
   "cell_type": "code",
   "execution_count": 193,
   "metadata": {},
   "outputs": [
    {
     "data": {
      "text/plain": [
       "'lo wer</w>'"
      ]
     },
     "execution_count": 193,
     "metadata": {},
     "output_type": "execute_result"
    }
   ],
   "source": [
    "import re\n",
    "pattern = \"e r\"\n",
    "#re.findall(pattern, list(data.keys())[0])\n",
    "re.sub(pattern, pattern.replace(\" \",\"\"), list(data.keys())[0])"
   ]
  },
  {
   "cell_type": "code",
   "execution_count": 194,
   "metadata": {},
   "outputs": [
    {
     "data": {
      "text/plain": [
       "{'lower</w>': 5, 'lo w e s t </w>': 2, 'newer</w>': 6, 'wider</w>': 3}"
      ]
     },
     "execution_count": 194,
     "metadata": {},
     "output_type": "execute_result"
    }
   ],
   "source": [
    "for _ in range(5) :\n",
    "    bigram = ngram(data)\n",
    "    maxKey = max(bigram, key=bigram.get)\n",
    "    data = mergeNgram(maxKey, data)\n",
    "data\n",
    "\n",
    "## lower => 1:low, 2:/w\n",
    "## low er => 1:low, 2:/w"
   ]
  },
  {
   "cell_type": "code",
   "execution_count": null,
   "metadata": {},
   "outputs": [],
   "source": []
  }
 ],
 "metadata": {
  "kernelspec": {
   "display_name": "Python 3",
   "language": "python",
   "name": "python3"
  },
  "language_info": {
   "codemirror_mode": {
    "name": "ipython",
    "version": 3
   },
   "file_extension": ".py",
   "mimetype": "text/x-python",
   "name": "python",
   "nbconvert_exporter": "python",
   "pygments_lexer": "ipython3",
   "version": "3.7.3"
  }
 },
 "nbformat": 4,
 "nbformat_minor": 2
}
