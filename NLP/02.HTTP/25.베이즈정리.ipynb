{
 "cells": [
  {
   "cell_type": "code",
   "execution_count": 1,
   "metadata": {},
   "outputs": [],
   "source": [
    "# NB Classifier\n",
    "\n",
    "trainingData = [\n",
    "    (1,\"Chinese Beijing Chinese\", True),\n",
    "    (2,\"Chinese Chinese Shanghai\", True),\n",
    "    (3,\"Chinese Macao\", True),\n",
    "    (4,\"Tokyo Japan Chinese\", False)\n",
    "]\n",
    "\n",
    "testingData = [5,\"Chinese Chinese Chinese Tokyo Japan\"]\n"
   ]
  },
  {
   "cell_type": "code",
   "execution_count": 2,
   "metadata": {},
   "outputs": [
    {
     "data": {
      "text/plain": [
       "['shanghai', 'japan', 'chinese', 'macao', 'tokyo', 'beijing']"
      ]
     },
     "execution_count": 2,
     "metadata": {},
     "output_type": "execute_result"
    }
   ],
   "source": [
    "V = list(set([ term for _ in trainingData for term in  _[1].lower().split()]))\n",
    "V"
   ]
  },
  {
   "cell_type": "code",
   "execution_count": 114,
   "metadata": {},
   "outputs": [],
   "source": [
    "N = len(trainingData)\n",
    "N"
   ]
  },
  {
   "cell_type": "code",
   "execution_count": 115,
   "metadata": {},
   "outputs": [
    {
     "data": {
      "text/plain": [
       "(3, 1)"
      ]
     },
     "execution_count": 115,
     "metadata": {},
     "output_type": "execute_result"
    }
   ],
   "source": [
    "trueData = [ _ for _ in trainingData if _[2] ]\n",
    "falseData = [ _ for _ in trainingData if not _[2] ]\n",
    "len(trueData), len(falseData)"
   ]
  },
  {
   "cell_type": "code",
   "execution_count": 116,
   "metadata": {},
   "outputs": [],
   "source": [
    "from collections import defaultdict\n",
    "\n",
    "Tct = defaultdict(int)\n",
    "for data in trueData :\n",
    "    Nc = len(trueData)\n",
    "    PriorC = Nc/N\n",
    "    \n",
    "    for term in data[1].lower().split() :\n",
    "        Tct[term] += 1\n",
    "\n",
    "_Tct = defaultdict(int)\n",
    "for data in falseData :\n",
    "    _Nc = len(falseData)\n",
    "    _PriorC = _Nc/N\n",
    "    \n",
    "    for term in data[1].lower().split() :\n",
    "        _Tct[term] += 1\n",
    "\n",
    "# Tct, _Tct"
   ]
  },
  {
   "cell_type": "code",
   "execution_count": 117,
   "metadata": {},
   "outputs": [],
   "source": [
    "condProbC = defaultdict(float)\n",
    "_condProbC = defaultdict(float)\n",
    "\n",
    "countSum = sum(Tct.values())\n",
    "_countSum = sum(_Tct.values())\n",
    "\n",
    "for term, freq in Tct.items() :\n",
    "    condProbC[term] = (freq+1)/(countSum + len(V))\n",
    "for term, freq in _Tct.items() :\n",
    "    _condProbC[term] = (freq+1)/(_countSum + len(V))\n",
    "    \n",
    "#condProbC, _condProbC"
   ]
  },
  {
   "cell_type": "code",
   "execution_count": 118,
   "metadata": {},
   "outputs": [
    {
     "name": "stdout",
     "output_type": "stream",
     "text": [
      "True -8.10769031284391 0.00030121377997263\n"
     ]
    }
   ],
   "source": [
    "# P(C) Multi(P(Tcd|C)) ==> log(P(C)) + Sum(P(Tct|C))\n",
    "\n",
    "from math import log, exp\n",
    "\n",
    "# Prior Prob\n",
    "result = log(PriorC)\n",
    "_result = log(_PriorC)\n",
    "\n",
    "#==> Joint Prob ==> Conditional Independence\n",
    "for term in testingData[1].lower().split() :\n",
    "    #==> Multi ==> Log Sum\n",
    "    result += log((Tct[term]+1)/(countSum+len(V)))\n",
    "    _result += log((_Tct[term]+1)/(_countSum+len(V)))\n",
    "\n",
    "if result > _result : ## Optimal\n",
    "    print(\"True\", result, exp(result))\n",
    "else :\n",
    "    print(\"False\", _result, exp(_result))\n",
    "    "
   ]
  },
  {
   "cell_type": "code",
   "execution_count": null,
   "metadata": {},
   "outputs": [],
   "source": []
  },
  {
   "cell_type": "code",
   "execution_count": null,
   "metadata": {},
   "outputs": [],
   "source": []
  }
 ],
 "metadata": {
  "kernelspec": {
   "display_name": "Python 3",
   "language": "python",
   "name": "python3"
  },
  "language_info": {
   "codemirror_mode": {
    "name": "ipython",
    "version": 3
   },
   "file_extension": ".py",
   "mimetype": "text/x-python",
   "name": "python",
   "nbconvert_exporter": "python",
   "pygments_lexer": "ipython3",
   "version": "3.7.3"
  }
 },
 "nbformat": 4,
 "nbformat_minor": 2
}
